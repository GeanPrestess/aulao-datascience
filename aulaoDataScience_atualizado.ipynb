{
  "nbformat": 4,
  "nbformat_minor": 0,
  "metadata": {
    "colab": {
      "name": "aulaoDataScience.ipynb",
      "provenance": [],
      "collapsed_sections": [],
      "authorship_tag": "ABX9TyMnLpjIxCsc66wvtxSVT8hE",
      "include_colab_link": true
    },
    "kernelspec": {
      "name": "python3",
      "display_name": "Python 3"
    },
    "language_info": {
      "name": "python"
    }
  },
  "cells": [
    {
      "cell_type": "markdown",
      "metadata": {
        "id": "view-in-github",
        "colab_type": "text"
      },
      "source": [
        "<a href=\"https://colab.research.google.com/github/marcelopaludetto/aulao-datascience/blob/main/aulaoDataScience_atualizado.ipynb\" target=\"_parent\"><img src=\"https://colab.research.google.com/assets/colab-badge.svg\" alt=\"Open In Colab\"/></a>"
      ]
    },
    {
      "cell_type": "markdown",
      "metadata": {
        "id": "v1lC5oq2ncFH"
      },
      "source": [
        "# Extraindo informações do Edutech"
      ]
    },
    {
      "cell_type": "code",
      "metadata": {
        "id": "NfUPYlleinLN"
      },
      "source": [
        "import pandas as pd\n",
        "import warnings\n",
        "\n",
        "warnings.filterwarnings('ignore')"
      ],
      "execution_count": 29,
      "outputs": []
    },
    {
      "cell_type": "code",
      "metadata": {
        "id": "6MI0F3u51oMm"
      },
      "source": [
        "filenames = ['https://raw.githubusercontent.com/marcelopaludetto/aulao-datascience/main/SEED%20-%20Semana%201.csv',\n",
        "             'https://raw.githubusercontent.com/marcelopaludetto/aulao-datascience/main/SEED%20-%20Semana%202.csv',\n",
        "             'https://raw.githubusercontent.com/marcelopaludetto/aulao-datascience/main/SEED%20-%20Semana%203.csv',\n",
        "             'https://raw.githubusercontent.com/marcelopaludetto/aulao-datascience/main/SEED%20-%20Semana%204.csv',\n",
        "             'https://raw.githubusercontent.com/marcelopaludetto/aulao-datascience/main/SEED%20-%20Semana%205.csv',\n",
        "             'https://raw.githubusercontent.com/marcelopaludetto/aulao-datascience/main/SEED%20-%20Semana%206.csv',\n",
        "             'https://raw.githubusercontent.com/marcelopaludetto/aulao-datascience/main/SEED%20-%20Semana%207.csv',\n",
        "             'https://raw.githubusercontent.com/marcelopaludetto/aulao-datascience/main/SEED%20-%20Semana%208.csv',\n",
        "             'https://raw.githubusercontent.com/marcelopaludetto/aulao-datascience/main/SEED%20-%20Semana%209.csv',\n",
        "             'https://raw.githubusercontent.com/marcelopaludetto/aulao-datascience/main/SEED%20-%20Semana%2010.csv',\n",
        "             'https://raw.githubusercontent.com/marcelopaludetto/aulao-datascience/main/SEED%20-%20Semana%2011.csv',\n",
        "             'https://raw.githubusercontent.com/marcelopaludetto/aulao-datascience/main/SEED%20-%20Semana%2012.csv',\n",
        "             'https://raw.githubusercontent.com/marcelopaludetto/aulao-datascience/main/SEED%20-%20Semana%2013.csv',\n",
        "             'https://raw.githubusercontent.com/marcelopaludetto/aulao-datascience/main/SEED%20-%20Semana%2014.csv',\n",
        "             'https://raw.githubusercontent.com/marcelopaludetto/aulao-datascience/main/SEED%20-%20Semana%2015.csv',\n",
        "             'https://raw.githubusercontent.com/marcelopaludetto/aulao-datascience/main/SEED%20-%20Semana%2016.csv',\n",
        "             'https://raw.githubusercontent.com/marcelopaludetto/aulao-datascience/main/SEED%20-%20Semana%2017.csv',\n",
        "             'https://raw.githubusercontent.com/marcelopaludetto/aulao-datascience/main/SEED%20-%20Semana%2018.csv',\n",
        "             'https://raw.githubusercontent.com/marcelopaludetto/aulao-datascience/main/SEED%20-%20Semana%2019.csv',\n",
        "             'https://raw.githubusercontent.com/marcelopaludetto/aulao-datascience/main/SEED%20-%20Semana%2020.csv',\n",
        "             'https://raw.githubusercontent.com/marcelopaludetto/aulao-datascience/main/SEED%20-%20Semana%2021.csv',\n",
        "             'https://raw.githubusercontent.com/marcelopaludetto/aulao-datascience/main/SEED%20-%20Semana%2022.csv',\n",
        "             'https://raw.githubusercontent.com/marcelopaludetto/aulao-datascience/main/SEED%20-%20Semana%2023.csv',\n",
        "             'https://raw.githubusercontent.com/marcelopaludetto/aulao-datascience/main/SEED%20-%20Semana%2024.csv']\n",
        "\n",
        "\n",
        "dados = [pd.read_csv(f) for f in filenames] "
      ],
      "execution_count": 30,
      "outputs": []
    },
    {
      "cell_type": "code",
      "metadata": {
        "id": "hU-fAtLx27Uf",
        "colab": {
          "base_uri": "https://localhost:8080/"
        },
        "outputId": "bd731c20-530c-4bc6-af9a-1109640b2b61"
      },
      "source": [
        "dados[0].columns"
      ],
      "execution_count": 31,
      "outputs": [
        {
          "output_type": "execute_result",
          "data": {
            "text/plain": [
              "Index(['data', 'data de último acesso', 'id', 'email', 'cargo', 'teamId',\n",
              "       'turmaTrilha', 'atividadesFeitas', 'atividadesCorretas',\n",
              "       'atividadesGerais'],\n",
              "      dtype='object')"
            ]
          },
          "metadata": {},
          "execution_count": 31
        }
      ]
    },
    {
      "cell_type": "code",
      "metadata": {
        "id": "ic2lYRZM3BxA"
      },
      "source": [
        "for f in range(24):\n",
        " dados[f] = dados[f].drop(columns=['cargo','email','teamId'])"
      ],
      "execution_count": 32,
      "outputs": []
    },
    {
      "cell_type": "code",
      "metadata": {
        "id": "SW4ETPOd32qk",
        "colab": {
          "base_uri": "https://localhost:8080/",
          "height": 359
        },
        "outputId": "5b53f9c6-09ed-4f49-a0f7-615b7ccf8a28"
      },
      "source": [
        "dados[0].head(10)"
      ],
      "execution_count": 33,
      "outputs": [
        {
          "output_type": "execute_result",
          "data": {
            "text/html": [
              "<div>\n",
              "<style scoped>\n",
              "    .dataframe tbody tr th:only-of-type {\n",
              "        vertical-align: middle;\n",
              "    }\n",
              "\n",
              "    .dataframe tbody tr th {\n",
              "        vertical-align: top;\n",
              "    }\n",
              "\n",
              "    .dataframe thead th {\n",
              "        text-align: right;\n",
              "    }\n",
              "</style>\n",
              "<table border=\"1\" class=\"dataframe\">\n",
              "  <thead>\n",
              "    <tr style=\"text-align: right;\">\n",
              "      <th></th>\n",
              "      <th>data</th>\n",
              "      <th>data de último acesso</th>\n",
              "      <th>id</th>\n",
              "      <th>turmaTrilha</th>\n",
              "      <th>atividadesFeitas</th>\n",
              "      <th>atividadesCorretas</th>\n",
              "      <th>atividadesGerais</th>\n",
              "    </tr>\n",
              "  </thead>\n",
              "  <tbody>\n",
              "    <tr>\n",
              "      <th>0</th>\n",
              "      <td>2021-04-19</td>\n",
              "      <td>2021-05-05</td>\n",
              "      <td>589685</td>\n",
              "      <td>12400133</td>\n",
              "      <td>159</td>\n",
              "      <td>126</td>\n",
              "      <td>813.0</td>\n",
              "    </tr>\n",
              "    <tr>\n",
              "      <th>1</th>\n",
              "      <td>2021-04-19</td>\n",
              "      <td>2021-05-03</td>\n",
              "      <td>602784</td>\n",
              "      <td>21406831</td>\n",
              "      <td>129</td>\n",
              "      <td>122</td>\n",
              "      <td>542.0</td>\n",
              "    </tr>\n",
              "    <tr>\n",
              "      <th>2</th>\n",
              "      <td>2021-04-19</td>\n",
              "      <td>2021-04-26</td>\n",
              "      <td>608608</td>\n",
              "      <td>24400531</td>\n",
              "      <td>104</td>\n",
              "      <td>97</td>\n",
              "      <td>393.0</td>\n",
              "    </tr>\n",
              "    <tr>\n",
              "      <th>3</th>\n",
              "      <td>2021-04-19</td>\n",
              "      <td>2021-05-03</td>\n",
              "      <td>492948</td>\n",
              "      <td>1656722,22400112</td>\n",
              "      <td>83</td>\n",
              "      <td>83</td>\n",
              "      <td>269.0</td>\n",
              "    </tr>\n",
              "    <tr>\n",
              "      <th>4</th>\n",
              "      <td>2021-04-19</td>\n",
              "      <td>2021-05-04</td>\n",
              "      <td>519898</td>\n",
              "      <td>21900101</td>\n",
              "      <td>82</td>\n",
              "      <td>81</td>\n",
              "      <td>309.0</td>\n",
              "    </tr>\n",
              "    <tr>\n",
              "      <th>5</th>\n",
              "      <td>2021-04-19</td>\n",
              "      <td>2021-04-25</td>\n",
              "      <td>487571</td>\n",
              "      <td>24400232</td>\n",
              "      <td>73</td>\n",
              "      <td>73</td>\n",
              "      <td>320.0</td>\n",
              "    </tr>\n",
              "    <tr>\n",
              "      <th>6</th>\n",
              "      <td>2021-04-19</td>\n",
              "      <td>2021-05-05</td>\n",
              "      <td>594650</td>\n",
              "      <td>12407331</td>\n",
              "      <td>83</td>\n",
              "      <td>70</td>\n",
              "      <td>476.0</td>\n",
              "    </tr>\n",
              "    <tr>\n",
              "      <th>7</th>\n",
              "      <td>2021-04-19</td>\n",
              "      <td>2021-05-06</td>\n",
              "      <td>566760</td>\n",
              "      <td>11400411</td>\n",
              "      <td>80</td>\n",
              "      <td>68</td>\n",
              "      <td>431.0</td>\n",
              "    </tr>\n",
              "    <tr>\n",
              "      <th>8</th>\n",
              "      <td>2021-04-19</td>\n",
              "      <td>2021-04-20</td>\n",
              "      <td>601746</td>\n",
              "      <td>21405731</td>\n",
              "      <td>70</td>\n",
              "      <td>67</td>\n",
              "      <td>364.0</td>\n",
              "    </tr>\n",
              "    <tr>\n",
              "      <th>9</th>\n",
              "      <td>2021-04-19</td>\n",
              "      <td>2021-05-04</td>\n",
              "      <td>596252</td>\n",
              "      <td>12408231</td>\n",
              "      <td>67</td>\n",
              "      <td>66</td>\n",
              "      <td>266.0</td>\n",
              "    </tr>\n",
              "  </tbody>\n",
              "</table>\n",
              "</div>"
            ],
            "text/plain": [
              "         data data de último acesso  ...  atividadesCorretas atividadesGerais\n",
              "0  2021-04-19            2021-05-05  ...                 126            813.0\n",
              "1  2021-04-19            2021-05-03  ...                 122            542.0\n",
              "2  2021-04-19            2021-04-26  ...                  97            393.0\n",
              "3  2021-04-19            2021-05-03  ...                  83            269.0\n",
              "4  2021-04-19            2021-05-04  ...                  81            309.0\n",
              "5  2021-04-19            2021-04-25  ...                  73            320.0\n",
              "6  2021-04-19            2021-05-05  ...                  70            476.0\n",
              "7  2021-04-19            2021-05-06  ...                  68            431.0\n",
              "8  2021-04-19            2021-04-20  ...                  67            364.0\n",
              "9  2021-04-19            2021-05-04  ...                  66            266.0\n",
              "\n",
              "[10 rows x 7 columns]"
            ]
          },
          "metadata": {},
          "execution_count": 33
        }
      ]
    },
    {
      "cell_type": "code",
      "metadata": {
        "id": "S4_CZrV6V_I2"
      },
      "source": [
        "index = dados[0].turmaTrilha.str.find(',') > 0"
      ],
      "execution_count": 34,
      "outputs": []
    },
    {
      "cell_type": "code",
      "metadata": {
        "colab": {
          "base_uri": "https://localhost:8080/"
        },
        "id": "IHJbUrK-Y90a",
        "outputId": "b06a99f8-2b55-4a24-f358-f47323329e68"
      },
      "source": [
        "index"
      ],
      "execution_count": 35,
      "outputs": [
        {
          "output_type": "execute_result",
          "data": {
            "text/plain": [
              "0        False\n",
              "1        False\n",
              "2        False\n",
              "3         True\n",
              "4        False\n",
              "         ...  \n",
              "67482    False\n",
              "67483    False\n",
              "67484    False\n",
              "67485    False\n",
              "67486    False\n",
              "Name: turmaTrilha, Length: 67487, dtype: bool"
            ]
          },
          "metadata": {},
          "execution_count": 35
        }
      ]
    },
    {
      "cell_type": "code",
      "metadata": {
        "colab": {
          "base_uri": "https://localhost:8080/"
        },
        "id": "o2pWrFqKWymZ",
        "outputId": "da8dbb90-c79d-4ee6-eb51-02f8a3e91c09"
      },
      "source": [
        "index.value_counts()"
      ],
      "execution_count": 36,
      "outputs": [
        {
          "output_type": "execute_result",
          "data": {
            "text/plain": [
              "False    67022\n",
              "True       465\n",
              "Name: turmaTrilha, dtype: int64"
            ]
          },
          "metadata": {},
          "execution_count": 36
        }
      ]
    },
    {
      "cell_type": "code",
      "metadata": {
        "colab": {
          "base_uri": "https://localhost:8080/",
          "height": 35
        },
        "id": "8khfcJAHXBlf",
        "outputId": "4d3d8f08-3b7a-4a5d-dd95-2709a4e0003b"
      },
      "source": [
        " dados[0].turmaTrilha[3].split(',')[1]"
      ],
      "execution_count": 37,
      "outputs": [
        {
          "output_type": "execute_result",
          "data": {
            "application/vnd.google.colaboratory.intrinsic+json": {
              "type": "string"
            },
            "text/plain": [
              "'22400112'"
            ]
          },
          "metadata": {},
          "execution_count": 37
        }
      ]
    },
    {
      "cell_type": "code",
      "metadata": {
        "id": "9zCY5xmCU39V"
      },
      "source": [
        "for j in range(24):\n",
        "  index = dados[j].turmaTrilha.str.find(',') > 0\n",
        "  for i in range(index.count()):\n",
        "    if (index[i] == True):\n",
        "      dados[j].turmaTrilha[i] = dados[j].turmaTrilha[i].split(',')[1]"
      ],
      "execution_count": 38,
      "outputs": []
    },
    {
      "cell_type": "code",
      "metadata": {
        "colab": {
          "base_uri": "https://localhost:8080/",
          "height": 419
        },
        "id": "E8SW3-FQYkuQ",
        "outputId": "872c0251-4fa5-4d05-db5b-05d6359f62c2"
      },
      "source": [
        "dados[9].head(100)"
      ],
      "execution_count": 39,
      "outputs": [
        {
          "output_type": "execute_result",
          "data": {
            "text/html": [
              "<div>\n",
              "<style scoped>\n",
              "    .dataframe tbody tr th:only-of-type {\n",
              "        vertical-align: middle;\n",
              "    }\n",
              "\n",
              "    .dataframe tbody tr th {\n",
              "        vertical-align: top;\n",
              "    }\n",
              "\n",
              "    .dataframe thead th {\n",
              "        text-align: right;\n",
              "    }\n",
              "</style>\n",
              "<table border=\"1\" class=\"dataframe\">\n",
              "  <thead>\n",
              "    <tr style=\"text-align: right;\">\n",
              "      <th></th>\n",
              "      <th>data</th>\n",
              "      <th>data de último acesso</th>\n",
              "      <th>id</th>\n",
              "      <th>turmaTrilha</th>\n",
              "      <th>atividadesFeitas</th>\n",
              "      <th>atividadesCorretas</th>\n",
              "      <th>atividadesGerais</th>\n",
              "    </tr>\n",
              "  </thead>\n",
              "  <tbody>\n",
              "    <tr>\n",
              "      <th>0</th>\n",
              "      <td>2021-06-21</td>\n",
              "      <td>2021-06-24</td>\n",
              "      <td>597991</td>\n",
              "      <td>21400432</td>\n",
              "      <td>169</td>\n",
              "      <td>161</td>\n",
              "      <td>683.0</td>\n",
              "    </tr>\n",
              "    <tr>\n",
              "      <th>1</th>\n",
              "      <td>2021-06-21</td>\n",
              "      <td>2021-06-24</td>\n",
              "      <td>586482</td>\n",
              "      <td>11402231</td>\n",
              "      <td>149</td>\n",
              "      <td>143</td>\n",
              "      <td>579.0</td>\n",
              "    </tr>\n",
              "    <tr>\n",
              "      <th>2</th>\n",
              "      <td>2021-06-21</td>\n",
              "      <td>2021-06-22</td>\n",
              "      <td>735653</td>\n",
              "      <td>1670439</td>\n",
              "      <td>144</td>\n",
              "      <td>140</td>\n",
              "      <td>542.0</td>\n",
              "    </tr>\n",
              "    <tr>\n",
              "      <th>3</th>\n",
              "      <td>2021-06-21</td>\n",
              "      <td>2021-06-22</td>\n",
              "      <td>774855</td>\n",
              "      <td>11401611</td>\n",
              "      <td>155</td>\n",
              "      <td>131</td>\n",
              "      <td>606.0</td>\n",
              "    </tr>\n",
              "    <tr>\n",
              "      <th>4</th>\n",
              "      <td>2021-06-21</td>\n",
              "      <td>2021-06-24</td>\n",
              "      <td>568594</td>\n",
              "      <td>11400911</td>\n",
              "      <td>122</td>\n",
              "      <td>117</td>\n",
              "      <td>466.0</td>\n",
              "    </tr>\n",
              "    <tr>\n",
              "      <th>...</th>\n",
              "      <td>...</td>\n",
              "      <td>...</td>\n",
              "      <td>...</td>\n",
              "      <td>...</td>\n",
              "      <td>...</td>\n",
              "      <td>...</td>\n",
              "      <td>...</td>\n",
              "    </tr>\n",
              "    <tr>\n",
              "      <th>95</th>\n",
              "      <td>2021-06-21</td>\n",
              "      <td>2021-06-24</td>\n",
              "      <td>596958</td>\n",
              "      <td>12409431</td>\n",
              "      <td>30</td>\n",
              "      <td>29</td>\n",
              "      <td>93.0</td>\n",
              "    </tr>\n",
              "    <tr>\n",
              "      <th>96</th>\n",
              "      <td>2021-06-21</td>\n",
              "      <td>2021-06-24</td>\n",
              "      <td>566420</td>\n",
              "      <td>25900201</td>\n",
              "      <td>31</td>\n",
              "      <td>29</td>\n",
              "      <td>177.0</td>\n",
              "    </tr>\n",
              "    <tr>\n",
              "      <th>97</th>\n",
              "      <td>2021-06-21</td>\n",
              "      <td>2021-06-25</td>\n",
              "      <td>576570</td>\n",
              "      <td>11413511</td>\n",
              "      <td>29</td>\n",
              "      <td>29</td>\n",
              "      <td>92.0</td>\n",
              "    </tr>\n",
              "    <tr>\n",
              "      <th>98</th>\n",
              "      <td>2021-06-21</td>\n",
              "      <td>2021-06-23</td>\n",
              "      <td>573088</td>\n",
              "      <td>11408611</td>\n",
              "      <td>33</td>\n",
              "      <td>29</td>\n",
              "      <td>108.0</td>\n",
              "    </tr>\n",
              "    <tr>\n",
              "      <th>99</th>\n",
              "      <td>2021-06-21</td>\n",
              "      <td>2021-06-24</td>\n",
              "      <td>728656</td>\n",
              "      <td>1663348</td>\n",
              "      <td>30</td>\n",
              "      <td>29</td>\n",
              "      <td>135.0</td>\n",
              "    </tr>\n",
              "  </tbody>\n",
              "</table>\n",
              "<p>100 rows × 7 columns</p>\n",
              "</div>"
            ],
            "text/plain": [
              "          data data de último acesso  ...  atividadesCorretas atividadesGerais\n",
              "0   2021-06-21            2021-06-24  ...                 161            683.0\n",
              "1   2021-06-21            2021-06-24  ...                 143            579.0\n",
              "2   2021-06-21            2021-06-22  ...                 140            542.0\n",
              "3   2021-06-21            2021-06-22  ...                 131            606.0\n",
              "4   2021-06-21            2021-06-24  ...                 117            466.0\n",
              "..         ...                   ...  ...                 ...              ...\n",
              "95  2021-06-21            2021-06-24  ...                  29             93.0\n",
              "96  2021-06-21            2021-06-24  ...                  29            177.0\n",
              "97  2021-06-21            2021-06-25  ...                  29             92.0\n",
              "98  2021-06-21            2021-06-23  ...                  29            108.0\n",
              "99  2021-06-21            2021-06-24  ...                  29            135.0\n",
              "\n",
              "[100 rows x 7 columns]"
            ]
          },
          "metadata": {},
          "execution_count": 39
        }
      ]
    },
    {
      "cell_type": "code",
      "metadata": {
        "id": "ta80MurntPxT"
      },
      "source": [
        "renomear = {'data' : 'data',\n",
        "            'data de último acesso' : 'data_ultimo_acesso',\n",
        "            'id' : 'id',\n",
        "            'turmaTrilha':'turmaTrilha',\n",
        "            'atividadesFeitas':'atividadesFeitas',\n",
        "            'atividadesCorretas':'atividadesCorretas',\n",
        "            'atividadesGerais': 'atividadesGerais'}"
      ],
      "execution_count": 42,
      "outputs": []
    },
    {
      "cell_type": "code",
      "metadata": {
        "id": "w1G1ghzltmTG",
        "colab": {
          "base_uri": "https://localhost:8080/",
          "height": 204
        },
        "outputId": "b3f4f6cd-1f60-466e-9563-902aeeac7422"
      },
      "source": [
        "for f in range(24):\n",
        "  dados[f] = dados[f].rename(columns=renomear)\n",
        "\n",
        "dados[23].head()"
      ],
      "execution_count": 48,
      "outputs": [
        {
          "output_type": "execute_result",
          "data": {
            "text/html": [
              "<div>\n",
              "<style scoped>\n",
              "    .dataframe tbody tr th:only-of-type {\n",
              "        vertical-align: middle;\n",
              "    }\n",
              "\n",
              "    .dataframe tbody tr th {\n",
              "        vertical-align: top;\n",
              "    }\n",
              "\n",
              "    .dataframe thead th {\n",
              "        text-align: right;\n",
              "    }\n",
              "</style>\n",
              "<table border=\"1\" class=\"dataframe\">\n",
              "  <thead>\n",
              "    <tr style=\"text-align: right;\">\n",
              "      <th></th>\n",
              "      <th>data</th>\n",
              "      <th>data_ultimo_acesso</th>\n",
              "      <th>id</th>\n",
              "      <th>turmaTrilha</th>\n",
              "      <th>atividadesFeitas</th>\n",
              "      <th>atividadesCorretas</th>\n",
              "      <th>atividadesGerais</th>\n",
              "    </tr>\n",
              "  </thead>\n",
              "  <tbody>\n",
              "    <tr>\n",
              "      <th>0</th>\n",
              "      <td>2021-09-27</td>\n",
              "      <td>2021-09-28</td>\n",
              "      <td>738222</td>\n",
              "      <td>1664785</td>\n",
              "      <td>161</td>\n",
              "      <td>159</td>\n",
              "      <td>610.0</td>\n",
              "    </tr>\n",
              "    <tr>\n",
              "      <th>1</th>\n",
              "      <td>2021-09-27</td>\n",
              "      <td>2021-09-28</td>\n",
              "      <td>733995</td>\n",
              "      <td>1664785</td>\n",
              "      <td>121</td>\n",
              "      <td>104</td>\n",
              "      <td>448.0</td>\n",
              "    </tr>\n",
              "    <tr>\n",
              "      <th>2</th>\n",
              "      <td>2021-09-27</td>\n",
              "      <td>2021-09-27</td>\n",
              "      <td>737988</td>\n",
              "      <td>1677432</td>\n",
              "      <td>89</td>\n",
              "      <td>89</td>\n",
              "      <td>313.0</td>\n",
              "    </tr>\n",
              "    <tr>\n",
              "      <th>3</th>\n",
              "      <td>2021-09-27</td>\n",
              "      <td>2021-09-28</td>\n",
              "      <td>590268</td>\n",
              "      <td>12409431</td>\n",
              "      <td>84</td>\n",
              "      <td>84</td>\n",
              "      <td>309.0</td>\n",
              "    </tr>\n",
              "    <tr>\n",
              "      <th>4</th>\n",
              "      <td>2021-09-27</td>\n",
              "      <td>2021-09-28</td>\n",
              "      <td>729955</td>\n",
              "      <td>1662777</td>\n",
              "      <td>84</td>\n",
              "      <td>84</td>\n",
              "      <td>340.0</td>\n",
              "    </tr>\n",
              "  </tbody>\n",
              "</table>\n",
              "</div>"
            ],
            "text/plain": [
              "         data data_ultimo_acesso  ...  atividadesCorretas atividadesGerais\n",
              "0  2021-09-27         2021-09-28  ...                 159            610.0\n",
              "1  2021-09-27         2021-09-28  ...                 104            448.0\n",
              "2  2021-09-27         2021-09-27  ...                  89            313.0\n",
              "3  2021-09-27         2021-09-28  ...                  84            309.0\n",
              "4  2021-09-27         2021-09-28  ...                  84            340.0\n",
              "\n",
              "[5 rows x 7 columns]"
            ]
          },
          "metadata": {},
          "execution_count": 48
        }
      ]
    },
    {
      "cell_type": "markdown",
      "metadata": {
        "id": "xKpTwsx4mKvW"
      },
      "source": [
        "# Número de estudantes no Edutech"
      ]
    },
    {
      "cell_type": "code",
      "metadata": {
        "id": "Fx2Hr47Xmrhc",
        "colab": {
          "base_uri": "https://localhost:8080/"
        },
        "outputId": "6a372101-2fb1-4ae6-8ff8-39a492f01113"
      },
      "source": [
        "EstudantesEdutech = [];\n",
        "for f in range(24):\n",
        "  print('Na {} semana, estudantes = {}'.format(f+1,dados[f].data.count()))\n",
        "  EstudantesEdutech.append(dados[f].data.count())"
      ],
      "execution_count": 49,
      "outputs": [
        {
          "output_type": "stream",
          "name": "stdout",
          "text": [
            "Na 1 semana, estudantes = 67487\n",
            "Na 2 semana, estudantes = 67487\n",
            "Na 3 semana, estudantes = 67487\n",
            "Na 4 semana, estudantes = 67487\n",
            "Na 5 semana, estudantes = 67488\n",
            "Na 6 semana, estudantes = 67745\n",
            "Na 7 semana, estudantes = 70776\n",
            "Na 8 semana, estudantes = 70842\n",
            "Na 9 semana, estudantes = 47923\n",
            "Na 10 semana, estudantes = 48010\n",
            "Na 11 semana, estudantes = 48008\n",
            "Na 12 semana, estudantes = 48511\n",
            "Na 13 semana, estudantes = 48512\n",
            "Na 14 semana, estudantes = 48719\n",
            "Na 15 semana, estudantes = 46581\n",
            "Na 16 semana, estudantes = 46704\n",
            "Na 17 semana, estudantes = 46668\n",
            "Na 18 semana, estudantes = 34791\n",
            "Na 19 semana, estudantes = 38232\n",
            "Na 20 semana, estudantes = 40717\n",
            "Na 21 semana, estudantes = 41896\n",
            "Na 22 semana, estudantes = 41902\n",
            "Na 23 semana, estudantes = 42268\n",
            "Na 24 semana, estudantes = 42268\n"
          ]
        }
      ]
    },
    {
      "cell_type": "code",
      "metadata": {
        "colab": {
          "base_uri": "https://localhost:8080/"
        },
        "id": "8RvtF0KIhHrM",
        "outputId": "2db8bd7c-97f1-4171-9a05-e13fe73d3024"
      },
      "source": [
        "EstudantesEdutech"
      ],
      "execution_count": 50,
      "outputs": [
        {
          "output_type": "execute_result",
          "data": {
            "text/plain": [
              "[67487,\n",
              " 67487,\n",
              " 67487,\n",
              " 67487,\n",
              " 67488,\n",
              " 67745,\n",
              " 70776,\n",
              " 70842,\n",
              " 47923,\n",
              " 48010,\n",
              " 48008,\n",
              " 48511,\n",
              " 48512,\n",
              " 48719,\n",
              " 46581,\n",
              " 46704,\n",
              " 46668,\n",
              " 34791,\n",
              " 38232,\n",
              " 40717,\n",
              " 41896,\n",
              " 41902,\n",
              " 42268,\n",
              " 42268]"
            ]
          },
          "metadata": {},
          "execution_count": 50
        }
      ]
    },
    {
      "cell_type": "code",
      "metadata": {
        "id": "pPZDJscow3Yj",
        "colab": {
          "base_uri": "https://localhost:8080/"
        },
        "outputId": "3e50d8a9-8b91-4060-c471-6f9e1175f8d5"
      },
      "source": [
        "print('Na semana {} foram incluidos {} estudantes no programa Edutech'.format(7,dados[6].data.count() - dados[5].data.count()))"
      ],
      "execution_count": 51,
      "outputs": [
        {
          "output_type": "stream",
          "name": "stdout",
          "text": [
            "Na semana 7 foram incluidos 3031 estudantes no programa Edutech\n"
          ]
        }
      ]
    },
    {
      "cell_type": "code",
      "metadata": {
        "id": "udgzlXN9xB0D",
        "colab": {
          "base_uri": "https://localhost:8080/"
        },
        "outputId": "65bd55ce-82e4-4f78-dcaa-71516b8bc44a"
      },
      "source": [
        "print('Na 9 semana, foram excluídos {} estudantes do programa Edutech'.format(dados[7].data.count() - dados[8].data.count()))"
      ],
      "execution_count": 52,
      "outputs": [
        {
          "output_type": "stream",
          "name": "stdout",
          "text": [
            "Na 9 semana, foram excluídos 22919 estudantes do programa Edutech\n"
          ]
        }
      ]
    },
    {
      "cell_type": "markdown",
      "metadata": {
        "id": "7RSJn1fRjURI"
      },
      "source": [
        "# Criar dias da semana no último acesso"
      ]
    },
    {
      "cell_type": "code",
      "metadata": {
        "id": "tp3-YE2Xumk1"
      },
      "source": [
        "for i in range(24):\n",
        "  dia_da_semana = [];\n",
        "  for f in range(dados[i].data_ultimo_acesso.count()):\n",
        "      temp = pd.Timestamp(dados[i].data_ultimo_acesso[f])\n",
        "      dia_da_semana.append(temp.day_name())\n",
        "  dados[i]['dia_da_semana'] = dia_da_semana\n",
        "  "
      ],
      "execution_count": 53,
      "outputs": []
    },
    {
      "cell_type": "code",
      "metadata": {
        "id": "0FynXo1yq3np",
        "colab": {
          "base_uri": "https://localhost:8080/",
          "height": 204
        },
        "outputId": "4a4da4e3-b112-4e41-de09-d3d3f9c39f22"
      },
      "source": [
        "dados[1].head()"
      ],
      "execution_count": 54,
      "outputs": [
        {
          "output_type": "execute_result",
          "data": {
            "text/html": [
              "<div>\n",
              "<style scoped>\n",
              "    .dataframe tbody tr th:only-of-type {\n",
              "        vertical-align: middle;\n",
              "    }\n",
              "\n",
              "    .dataframe tbody tr th {\n",
              "        vertical-align: top;\n",
              "    }\n",
              "\n",
              "    .dataframe thead th {\n",
              "        text-align: right;\n",
              "    }\n",
              "</style>\n",
              "<table border=\"1\" class=\"dataframe\">\n",
              "  <thead>\n",
              "    <tr style=\"text-align: right;\">\n",
              "      <th></th>\n",
              "      <th>data</th>\n",
              "      <th>data_ultimo_acesso</th>\n",
              "      <th>id</th>\n",
              "      <th>turmaTrilha</th>\n",
              "      <th>atividadesFeitas</th>\n",
              "      <th>atividadesCorretas</th>\n",
              "      <th>atividadesGerais</th>\n",
              "      <th>dia_da_semana</th>\n",
              "    </tr>\n",
              "  </thead>\n",
              "  <tbody>\n",
              "    <tr>\n",
              "      <th>0</th>\n",
              "      <td>2021-04-26</td>\n",
              "      <td>2021-05-05</td>\n",
              "      <td>589712</td>\n",
              "      <td>12400431</td>\n",
              "      <td>165</td>\n",
              "      <td>139</td>\n",
              "      <td>699.0</td>\n",
              "      <td>Wednesday</td>\n",
              "    </tr>\n",
              "    <tr>\n",
              "      <th>1</th>\n",
              "      <td>2021-04-26</td>\n",
              "      <td>2021-05-06</td>\n",
              "      <td>575825</td>\n",
              "      <td>11413411</td>\n",
              "      <td>146</td>\n",
              "      <td>124</td>\n",
              "      <td>726.0</td>\n",
              "      <td>Thursday</td>\n",
              "    </tr>\n",
              "    <tr>\n",
              "      <th>2</th>\n",
              "      <td>2021-04-26</td>\n",
              "      <td>2021-04-28</td>\n",
              "      <td>585090</td>\n",
              "      <td>25400111</td>\n",
              "      <td>131</td>\n",
              "      <td>116</td>\n",
              "      <td>402.0</td>\n",
              "      <td>Wednesday</td>\n",
              "    </tr>\n",
              "    <tr>\n",
              "      <th>3</th>\n",
              "      <td>2021-04-26</td>\n",
              "      <td>2021-04-26</td>\n",
              "      <td>605128</td>\n",
              "      <td>22402231</td>\n",
              "      <td>106</td>\n",
              "      <td>105</td>\n",
              "      <td>394.0</td>\n",
              "      <td>Monday</td>\n",
              "    </tr>\n",
              "    <tr>\n",
              "      <th>4</th>\n",
              "      <td>2021-04-26</td>\n",
              "      <td>2021-05-05</td>\n",
              "      <td>583378</td>\n",
              "      <td>21400911</td>\n",
              "      <td>124</td>\n",
              "      <td>96</td>\n",
              "      <td>464.0</td>\n",
              "      <td>Wednesday</td>\n",
              "    </tr>\n",
              "  </tbody>\n",
              "</table>\n",
              "</div>"
            ],
            "text/plain": [
              "         data data_ultimo_acesso  ...  atividadesGerais dia_da_semana\n",
              "0  2021-04-26         2021-05-05  ...             699.0     Wednesday\n",
              "1  2021-04-26         2021-05-06  ...             726.0      Thursday\n",
              "2  2021-04-26         2021-04-28  ...             402.0     Wednesday\n",
              "3  2021-04-26         2021-04-26  ...             394.0        Monday\n",
              "4  2021-04-26         2021-05-05  ...             464.0     Wednesday\n",
              "\n",
              "[5 rows x 8 columns]"
            ]
          },
          "metadata": {},
          "execution_count": 54
        }
      ]
    },
    {
      "cell_type": "markdown",
      "metadata": {
        "id": "K-wtsVKxjY4d"
      },
      "source": [
        "## Traduzir os dias da semana"
      ]
    },
    {
      "cell_type": "code",
      "metadata": {
        "id": "lGHmg0JSjpEK",
        "colab": {
          "base_uri": "https://localhost:8080/"
        },
        "outputId": "90382a11-5d65-4722-f7a9-fcc5eef02eb3"
      },
      "source": [
        "dados[1].dia_da_semana.unique()"
      ],
      "execution_count": 55,
      "outputs": [
        {
          "output_type": "execute_result",
          "data": {
            "text/plain": [
              "array(['Wednesday', 'Thursday', 'Monday', 'Sunday', 'Saturday', 'Tuesday',\n",
              "       'Friday'], dtype=object)"
            ]
          },
          "metadata": {},
          "execution_count": 55
        }
      ]
    },
    {
      "cell_type": "code",
      "metadata": {
        "id": "Y1LlmPClkauQ"
      },
      "source": [
        "renomear_dia = {\n",
        "    'Wednesday' : 'Quarta',\n",
        "    'Thursday' : 'Quinta',\n",
        "    'Monday' : 'Segunda',\n",
        "    'Sunday' : 'Domingo',\n",
        "    'Saturday' : 'Sabado',\n",
        "    'Tuesday' : 'Terca',\n",
        "    'Friday' : 'Sexta'\n",
        "}\n"
      ],
      "execution_count": 56,
      "outputs": []
    },
    {
      "cell_type": "code",
      "metadata": {
        "id": "vCs1HMC_k3GG",
        "colab": {
          "base_uri": "https://localhost:8080/",
          "height": 204
        },
        "outputId": "9dd381a8-796b-4eed-b189-79015c935122"
      },
      "source": [
        "for i in range(24):\n",
        "  dados[i].dia_da_semana = dados[i].dia_da_semana.map(renomear_dia)\n",
        "\n",
        "\n",
        "dados[1].head()"
      ],
      "execution_count": 57,
      "outputs": [
        {
          "output_type": "execute_result",
          "data": {
            "text/html": [
              "<div>\n",
              "<style scoped>\n",
              "    .dataframe tbody tr th:only-of-type {\n",
              "        vertical-align: middle;\n",
              "    }\n",
              "\n",
              "    .dataframe tbody tr th {\n",
              "        vertical-align: top;\n",
              "    }\n",
              "\n",
              "    .dataframe thead th {\n",
              "        text-align: right;\n",
              "    }\n",
              "</style>\n",
              "<table border=\"1\" class=\"dataframe\">\n",
              "  <thead>\n",
              "    <tr style=\"text-align: right;\">\n",
              "      <th></th>\n",
              "      <th>data</th>\n",
              "      <th>data_ultimo_acesso</th>\n",
              "      <th>id</th>\n",
              "      <th>turmaTrilha</th>\n",
              "      <th>atividadesFeitas</th>\n",
              "      <th>atividadesCorretas</th>\n",
              "      <th>atividadesGerais</th>\n",
              "      <th>dia_da_semana</th>\n",
              "    </tr>\n",
              "  </thead>\n",
              "  <tbody>\n",
              "    <tr>\n",
              "      <th>0</th>\n",
              "      <td>2021-04-26</td>\n",
              "      <td>2021-05-05</td>\n",
              "      <td>589712</td>\n",
              "      <td>12400431</td>\n",
              "      <td>165</td>\n",
              "      <td>139</td>\n",
              "      <td>699.0</td>\n",
              "      <td>Quarta</td>\n",
              "    </tr>\n",
              "    <tr>\n",
              "      <th>1</th>\n",
              "      <td>2021-04-26</td>\n",
              "      <td>2021-05-06</td>\n",
              "      <td>575825</td>\n",
              "      <td>11413411</td>\n",
              "      <td>146</td>\n",
              "      <td>124</td>\n",
              "      <td>726.0</td>\n",
              "      <td>Quinta</td>\n",
              "    </tr>\n",
              "    <tr>\n",
              "      <th>2</th>\n",
              "      <td>2021-04-26</td>\n",
              "      <td>2021-04-28</td>\n",
              "      <td>585090</td>\n",
              "      <td>25400111</td>\n",
              "      <td>131</td>\n",
              "      <td>116</td>\n",
              "      <td>402.0</td>\n",
              "      <td>Quarta</td>\n",
              "    </tr>\n",
              "    <tr>\n",
              "      <th>3</th>\n",
              "      <td>2021-04-26</td>\n",
              "      <td>2021-04-26</td>\n",
              "      <td>605128</td>\n",
              "      <td>22402231</td>\n",
              "      <td>106</td>\n",
              "      <td>105</td>\n",
              "      <td>394.0</td>\n",
              "      <td>Segunda</td>\n",
              "    </tr>\n",
              "    <tr>\n",
              "      <th>4</th>\n",
              "      <td>2021-04-26</td>\n",
              "      <td>2021-05-05</td>\n",
              "      <td>583378</td>\n",
              "      <td>21400911</td>\n",
              "      <td>124</td>\n",
              "      <td>96</td>\n",
              "      <td>464.0</td>\n",
              "      <td>Quarta</td>\n",
              "    </tr>\n",
              "  </tbody>\n",
              "</table>\n",
              "</div>"
            ],
            "text/plain": [
              "         data data_ultimo_acesso  ...  atividadesGerais dia_da_semana\n",
              "0  2021-04-26         2021-05-05  ...             699.0        Quarta\n",
              "1  2021-04-26         2021-05-06  ...             726.0        Quinta\n",
              "2  2021-04-26         2021-04-28  ...             402.0        Quarta\n",
              "3  2021-04-26         2021-04-26  ...             394.0       Segunda\n",
              "4  2021-04-26         2021-05-05  ...             464.0        Quarta\n",
              "\n",
              "[5 rows x 8 columns]"
            ]
          },
          "metadata": {},
          "execution_count": 57
        }
      ]
    },
    {
      "cell_type": "code",
      "metadata": {
        "id": "0SFnSLbTm6vI",
        "colab": {
          "base_uri": "https://localhost:8080/"
        },
        "outputId": "6c953863-0453-4f04-cd32-559a1021869a"
      },
      "source": [
        "dados[2].dia_da_semana.unique()"
      ],
      "execution_count": 58,
      "outputs": [
        {
          "output_type": "execute_result",
          "data": {
            "text/plain": [
              "array(['Sexta', 'Domingo', 'Quinta', 'Terca', 'Segunda', 'Sabado',\n",
              "       'Quarta'], dtype=object)"
            ]
          },
          "metadata": {},
          "execution_count": 58
        }
      ]
    },
    {
      "cell_type": "markdown",
      "metadata": {
        "id": "XXB4xGJ7nXa8"
      },
      "source": [
        "## Coletando o número de alunos ativos"
      ]
    },
    {
      "cell_type": "code",
      "metadata": {
        "id": "CKAPKKdpl_mX",
        "colab": {
          "base_uri": "https://localhost:8080/"
        },
        "outputId": "5bf31c7a-8d60-4b61-9490-ba5775607be7"
      },
      "source": [
        "for i in range(24):\n",
        "  print('Na {} semana, o número de estudantes ativos no Edutech é de {}'.format(i+1,dados[i][dados[i]['atividadesGerais'].notnull()].data.count()))\n",
        "\n"
      ],
      "execution_count": 59,
      "outputs": [
        {
          "output_type": "stream",
          "name": "stdout",
          "text": [
            "Na 1 semana, o número de estudantes ativos no Edutech é de 6358\n",
            "Na 2 semana, o número de estudantes ativos no Edutech é de 6619\n",
            "Na 3 semana, o número de estudantes ativos no Edutech é de 6664\n",
            "Na 4 semana, o número de estudantes ativos no Edutech é de 6696\n",
            "Na 5 semana, o número de estudantes ativos no Edutech é de 6485\n",
            "Na 6 semana, o número de estudantes ativos no Edutech é de 6879\n",
            "Na 7 semana, o número de estudantes ativos no Edutech é de 5592\n",
            "Na 8 semana, o número de estudantes ativos no Edutech é de 6439\n",
            "Na 9 semana, o número de estudantes ativos no Edutech é de 6538\n",
            "Na 10 semana, o número de estudantes ativos no Edutech é de 6352\n",
            "Na 11 semana, o número de estudantes ativos no Edutech é de 5395\n",
            "Na 12 semana, o número de estudantes ativos no Edutech é de 4297\n",
            "Na 13 semana, o número de estudantes ativos no Edutech é de 1401\n",
            "Na 14 semana, o número de estudantes ativos no Edutech é de 3676\n",
            "Na 15 semana, o número de estudantes ativos no Edutech é de 5321\n",
            "Na 16 semana, o número de estudantes ativos no Edutech é de 5499\n",
            "Na 17 semana, o número de estudantes ativos no Edutech é de 5457\n",
            "Na 18 semana, o número de estudantes ativos no Edutech é de 5424\n",
            "Na 19 semana, o número de estudantes ativos no Edutech é de 5689\n",
            "Na 20 semana, o número de estudantes ativos no Edutech é de 6254\n",
            "Na 21 semana, o número de estudantes ativos no Edutech é de 5367\n",
            "Na 22 semana, o número de estudantes ativos no Edutech é de 6964\n",
            "Na 23 semana, o número de estudantes ativos no Edutech é de 7349\n",
            "Na 24 semana, o número de estudantes ativos no Edutech é de 3797\n"
          ]
        }
      ]
    },
    {
      "cell_type": "code",
      "metadata": {
        "id": "YM4rYJGkn5Xy",
        "colab": {
          "base_uri": "https://localhost:8080/"
        },
        "outputId": "aa905bd5-5997-40b5-9e29-16ed7c1f255b"
      },
      "source": [
        "for i in range(24):\n",
        "  print('Na semana {} tivemos {} % de estudantes ativos.'.format(i+1,(dados[i][dados[i]['atividadesGerais'].notnull()].data.count()/dados[i].data.count()*100).round(2)))\n"
      ],
      "execution_count": 60,
      "outputs": [
        {
          "output_type": "stream",
          "name": "stdout",
          "text": [
            "Na semana 1 tivemos 9.42 % de estudantes ativos.\n",
            "Na semana 2 tivemos 9.81 % de estudantes ativos.\n",
            "Na semana 3 tivemos 9.87 % de estudantes ativos.\n",
            "Na semana 4 tivemos 9.92 % de estudantes ativos.\n",
            "Na semana 5 tivemos 9.61 % de estudantes ativos.\n",
            "Na semana 6 tivemos 10.15 % de estudantes ativos.\n",
            "Na semana 7 tivemos 7.9 % de estudantes ativos.\n",
            "Na semana 8 tivemos 9.09 % de estudantes ativos.\n",
            "Na semana 9 tivemos 13.64 % de estudantes ativos.\n",
            "Na semana 10 tivemos 13.23 % de estudantes ativos.\n",
            "Na semana 11 tivemos 11.24 % de estudantes ativos.\n",
            "Na semana 12 tivemos 8.86 % de estudantes ativos.\n",
            "Na semana 13 tivemos 2.89 % de estudantes ativos.\n",
            "Na semana 14 tivemos 7.55 % de estudantes ativos.\n",
            "Na semana 15 tivemos 11.42 % de estudantes ativos.\n",
            "Na semana 16 tivemos 11.77 % de estudantes ativos.\n",
            "Na semana 17 tivemos 11.69 % de estudantes ativos.\n",
            "Na semana 18 tivemos 15.59 % de estudantes ativos.\n",
            "Na semana 19 tivemos 14.88 % de estudantes ativos.\n",
            "Na semana 20 tivemos 15.36 % de estudantes ativos.\n",
            "Na semana 21 tivemos 12.81 % de estudantes ativos.\n",
            "Na semana 22 tivemos 16.62 % de estudantes ativos.\n",
            "Na semana 23 tivemos 17.39 % de estudantes ativos.\n",
            "Na semana 24 tivemos 8.98 % de estudantes ativos.\n"
          ]
        }
      ]
    },
    {
      "cell_type": "code",
      "metadata": {
        "colab": {
          "base_uri": "https://localhost:8080/"
        },
        "id": "D67xWQB4HWyy",
        "outputId": "76fd3a29-800f-472a-d33f-0680ecec110e"
      },
      "source": [
        "len('11400513')"
      ],
      "execution_count": 61,
      "outputs": [
        {
          "output_type": "execute_result",
          "data": {
            "text/plain": [
              "8"
            ]
          },
          "metadata": {},
          "execution_count": 61
        }
      ]
    },
    {
      "cell_type": "code",
      "metadata": {
        "colab": {
          "base_uri": "https://localhost:8080/",
          "height": 35
        },
        "id": "pT07kkaDHKJJ",
        "outputId": "372d40b1-4957-44bf-8c3f-0dfd810cb9b9"
      },
      "source": [
        "dados[23]['turmaTrilha'][40]"
      ],
      "execution_count": 62,
      "outputs": [
        {
          "output_type": "execute_result",
          "data": {
            "application/vnd.google.colaboratory.intrinsic+json": {
              "type": "string"
            },
            "text/plain": [
              "'11407711'"
            ]
          },
          "metadata": {},
          "execution_count": 62
        }
      ]
    },
    {
      "cell_type": "code",
      "metadata": {
        "colab": {
          "base_uri": "https://localhost:8080/",
          "height": 35
        },
        "id": "gkDDFvIxcWGa",
        "outputId": "822a20b5-549c-4dc7-85a4-18e7975e6e19"
      },
      "source": [
        "dados[23]['turmaTrilha'][40][0:2]"
      ],
      "execution_count": 63,
      "outputs": [
        {
          "output_type": "execute_result",
          "data": {
            "application/vnd.google.colaboratory.intrinsic+json": {
              "type": "string"
            },
            "text/plain": [
              "'11'"
            ]
          },
          "metadata": {},
          "execution_count": 63
        }
      ]
    },
    {
      "cell_type": "code",
      "metadata": {
        "id": "uzM3dOylksQX"
      },
      "source": [
        "for i in range(24):\n",
        "  dados[i].turmaTrilha.replace('\\xa0','')"
      ],
      "execution_count": 64,
      "outputs": []
    },
    {
      "cell_type": "code",
      "metadata": {
        "id": "mGHsUDJ4MOQm"
      },
      "source": [
        ""
      ],
      "execution_count": null,
      "outputs": []
    },
    {
      "cell_type": "markdown",
      "metadata": {
        "id": "o_UaQxk0fgsQ"
      },
      "source": [
        "crtl + shift + L"
      ]
    },
    {
      "cell_type": "code",
      "metadata": {
        "id": "ppN3FgzmcpyG"
      },
      "source": [
        "for j in range(24):\n",
        "  dados[j]['Trilha'] = 0\n",
        "  for i in range(dados[j].data.count()):\n",
        "    if len(dados[j]['turmaTrilha'][i]) == 7:\n",
        "      dados[j]['Trilha'][i] = 'ETI'\n",
        "    if len(dados[j]['turmaTrilha'][i]) == 8:\n",
        "      if dados[j]['turmaTrilha'][i][0:2] == '11':\n",
        "        dados[j]['Trilha'][i] = 'Games1'\n",
        "      if dados[j]['turmaTrilha'][i][0:2] == '12':\n",
        "        dados[j]['Trilha'][i] = 'Games2'     \n",
        "      if dados[j]['turmaTrilha'][i][0:2] == '21':\n",
        "        dados[j]['Trilha'][i] = 'FrontEnd'\n",
        "      if dados[j]['turmaTrilha'][i][0:2] == '22':\n",
        "        dados[j]['Trilha'][i] = 'Mobile'    \n",
        "      if dados[j]['turmaTrilha'][i][0:2] == '23':\n",
        "        dados[j]['Trilha'][i] = 'DataScience' \n",
        "      if dados[j]['turmaTrilha'][i][0:2] == '24':\n",
        "        dados[j]['Trilha'][i] = 'Java'     \n",
        "      if dados[j]['turmaTrilha'][i][0:2] == '25':\n",
        "        dados[j]['Trilha'][i] = 'Python'        "
      ],
      "execution_count": 67,
      "outputs": []
    },
    {
      "cell_type": "code",
      "metadata": {
        "colab": {
          "base_uri": "https://localhost:8080/"
        },
        "id": "_cufVAbEkOz3",
        "outputId": "53b62f16-9dff-4701-dfcd-6d285e2479dd"
      },
      "source": [
        "dados[23].Trilha.value_counts()"
      ],
      "execution_count": 70,
      "outputs": [
        {
          "output_type": "execute_result",
          "data": {
            "text/plain": [
              "ETI            19375\n",
              "Games1          7772\n",
              "Games2          5855\n",
              "FrontEnd        3467\n",
              "Mobile          1823\n",
              "Python          1539\n",
              "Java            1375\n",
              "DataScience     1046\n",
              "0                 16\n",
              "Name: Trilha, dtype: int64"
            ]
          },
          "metadata": {},
          "execution_count": 70
        }
      ]
    },
    {
      "cell_type": "markdown",
      "metadata": {
        "id": "PKZ_2nP1pZti"
      },
      "source": [
        "# Analisando o número de atividades feitas por semana"
      ]
    },
    {
      "cell_type": "code",
      "metadata": {
        "id": "SyHlihzUpT83",
        "outputId": "a615656b-4f72-42f7-e1fd-4a8ca43c7de0",
        "colab": {
          "base_uri": "https://localhost:8080/",
          "height": 419
        }
      },
      "source": [
        "alunosAtivosDaSemana = [];\n",
        "for i in range(24):\n",
        "  alunosAtivosDaSemana.append(dados[i].query(\"atividadesGerais > 0\"))\n",
        "\n",
        "\n",
        "alunosAtivosDaSemana[1]"
      ],
      "execution_count": 82,
      "outputs": [
        {
          "output_type": "execute_result",
          "data": {
            "text/html": [
              "<div>\n",
              "<style scoped>\n",
              "    .dataframe tbody tr th:only-of-type {\n",
              "        vertical-align: middle;\n",
              "    }\n",
              "\n",
              "    .dataframe tbody tr th {\n",
              "        vertical-align: top;\n",
              "    }\n",
              "\n",
              "    .dataframe thead th {\n",
              "        text-align: right;\n",
              "    }\n",
              "</style>\n",
              "<table border=\"1\" class=\"dataframe\">\n",
              "  <thead>\n",
              "    <tr style=\"text-align: right;\">\n",
              "      <th></th>\n",
              "      <th>data</th>\n",
              "      <th>data_ultimo_acesso</th>\n",
              "      <th>id</th>\n",
              "      <th>turmaTrilha</th>\n",
              "      <th>atividadesFeitas</th>\n",
              "      <th>atividadesCorretas</th>\n",
              "      <th>atividadesGerais</th>\n",
              "      <th>dia_da_semana</th>\n",
              "      <th>Trilha</th>\n",
              "    </tr>\n",
              "  </thead>\n",
              "  <tbody>\n",
              "    <tr>\n",
              "      <th>0</th>\n",
              "      <td>2021-04-26</td>\n",
              "      <td>2021-05-05</td>\n",
              "      <td>589712</td>\n",
              "      <td>12400431</td>\n",
              "      <td>165</td>\n",
              "      <td>139</td>\n",
              "      <td>699.0</td>\n",
              "      <td>Quarta</td>\n",
              "      <td>Games2</td>\n",
              "    </tr>\n",
              "    <tr>\n",
              "      <th>1</th>\n",
              "      <td>2021-04-26</td>\n",
              "      <td>2021-05-06</td>\n",
              "      <td>575825</td>\n",
              "      <td>11413411</td>\n",
              "      <td>146</td>\n",
              "      <td>124</td>\n",
              "      <td>726.0</td>\n",
              "      <td>Quinta</td>\n",
              "      <td>Games1</td>\n",
              "    </tr>\n",
              "    <tr>\n",
              "      <th>2</th>\n",
              "      <td>2021-04-26</td>\n",
              "      <td>2021-04-28</td>\n",
              "      <td>585090</td>\n",
              "      <td>25400111</td>\n",
              "      <td>131</td>\n",
              "      <td>116</td>\n",
              "      <td>402.0</td>\n",
              "      <td>Quarta</td>\n",
              "      <td>Python</td>\n",
              "    </tr>\n",
              "    <tr>\n",
              "      <th>3</th>\n",
              "      <td>2021-04-26</td>\n",
              "      <td>2021-04-26</td>\n",
              "      <td>605128</td>\n",
              "      <td>22402231</td>\n",
              "      <td>106</td>\n",
              "      <td>105</td>\n",
              "      <td>394.0</td>\n",
              "      <td>Segunda</td>\n",
              "      <td>Mobile</td>\n",
              "    </tr>\n",
              "    <tr>\n",
              "      <th>4</th>\n",
              "      <td>2021-04-26</td>\n",
              "      <td>2021-05-05</td>\n",
              "      <td>583378</td>\n",
              "      <td>21400911</td>\n",
              "      <td>124</td>\n",
              "      <td>96</td>\n",
              "      <td>464.0</td>\n",
              "      <td>Quarta</td>\n",
              "      <td>FrontEnd</td>\n",
              "    </tr>\n",
              "    <tr>\n",
              "      <th>...</th>\n",
              "      <td>...</td>\n",
              "      <td>...</td>\n",
              "      <td>...</td>\n",
              "      <td>...</td>\n",
              "      <td>...</td>\n",
              "      <td>...</td>\n",
              "      <td>...</td>\n",
              "      <td>...</td>\n",
              "      <td>...</td>\n",
              "    </tr>\n",
              "    <tr>\n",
              "      <th>67447</th>\n",
              "      <td>2021-04-26</td>\n",
              "      <td>2021-05-06</td>\n",
              "      <td>594222</td>\n",
              "      <td>12405931</td>\n",
              "      <td>0</td>\n",
              "      <td>0</td>\n",
              "      <td>1.0</td>\n",
              "      <td>Quinta</td>\n",
              "      <td>Games2</td>\n",
              "    </tr>\n",
              "    <tr>\n",
              "      <th>67464</th>\n",
              "      <td>2021-04-26</td>\n",
              "      <td>2021-05-05</td>\n",
              "      <td>727188</td>\n",
              "      <td>1688369</td>\n",
              "      <td>0</td>\n",
              "      <td>0</td>\n",
              "      <td>1.0</td>\n",
              "      <td>Quarta</td>\n",
              "      <td>ETI</td>\n",
              "    </tr>\n",
              "    <tr>\n",
              "      <th>67466</th>\n",
              "      <td>2021-04-26</td>\n",
              "      <td>2021-05-04</td>\n",
              "      <td>573934</td>\n",
              "      <td>11410011</td>\n",
              "      <td>0</td>\n",
              "      <td>0</td>\n",
              "      <td>1.0</td>\n",
              "      <td>Terca</td>\n",
              "      <td>Games1</td>\n",
              "    </tr>\n",
              "    <tr>\n",
              "      <th>67471</th>\n",
              "      <td>2021-04-26</td>\n",
              "      <td>2021-05-05</td>\n",
              "      <td>584094</td>\n",
              "      <td>22400511</td>\n",
              "      <td>0</td>\n",
              "      <td>0</td>\n",
              "      <td>1.0</td>\n",
              "      <td>Quarta</td>\n",
              "      <td>Mobile</td>\n",
              "    </tr>\n",
              "    <tr>\n",
              "      <th>67474</th>\n",
              "      <td>2021-04-26</td>\n",
              "      <td>2021-04-29</td>\n",
              "      <td>580432</td>\n",
              "      <td>12403411</td>\n",
              "      <td>0</td>\n",
              "      <td>0</td>\n",
              "      <td>3.0</td>\n",
              "      <td>Quinta</td>\n",
              "      <td>Games2</td>\n",
              "    </tr>\n",
              "  </tbody>\n",
              "</table>\n",
              "<p>6619 rows × 9 columns</p>\n",
              "</div>"
            ],
            "text/plain": [
              "             data data_ultimo_acesso  ...  dia_da_semana    Trilha\n",
              "0      2021-04-26         2021-05-05  ...         Quarta    Games2\n",
              "1      2021-04-26         2021-05-06  ...         Quinta    Games1\n",
              "2      2021-04-26         2021-04-28  ...         Quarta    Python\n",
              "3      2021-04-26         2021-04-26  ...        Segunda    Mobile\n",
              "4      2021-04-26         2021-05-05  ...         Quarta  FrontEnd\n",
              "...           ...                ...  ...            ...       ...\n",
              "67447  2021-04-26         2021-05-06  ...         Quinta    Games2\n",
              "67464  2021-04-26         2021-05-05  ...         Quarta       ETI\n",
              "67466  2021-04-26         2021-05-04  ...          Terca    Games1\n",
              "67471  2021-04-26         2021-05-05  ...         Quarta    Mobile\n",
              "67474  2021-04-26         2021-04-29  ...         Quinta    Games2\n",
              "\n",
              "[6619 rows x 9 columns]"
            ]
          },
          "metadata": {},
          "execution_count": 82
        }
      ]
    },
    {
      "cell_type": "code",
      "metadata": {
        "id": "PtvHOGcPpYvv",
        "colab": {
          "base_uri": "https://localhost:8080/"
        },
        "outputId": "0ed0754b-37a3-4e70-bfc8-8533c38eb876"
      },
      "source": [
        "for i in range(24):\n",
        "  print('Na semana {} foram realidas {} atividades'.format(i+1,sum(alunosAtivosDaSemana[i].atividadesFeitas)))"
      ],
      "execution_count": 80,
      "outputs": [
        {
          "output_type": "stream",
          "name": "stdout",
          "text": [
            "Na semana 1 foram realidas 28573 atividades\n",
            "Na semana 2 foram realidas 30411 atividades\n",
            "Na semana 3 foram realidas 32140 atividades\n",
            "Na semana 4 foram realidas 36710 atividades\n",
            "Na semana 5 foram realidas 32696 atividades\n",
            "Na semana 6 foram realidas 35833 atividades\n",
            "Na semana 7 foram realidas 27989 atividades\n",
            "Na semana 8 foram realidas 32763 atividades\n",
            "Na semana 9 foram realidas 31950 atividades\n",
            "Na semana 10 foram realidas 30279 atividades\n",
            "Na semana 11 foram realidas 25463 atividades\n",
            "Na semana 12 foram realidas 21533 atividades\n",
            "Na semana 13 foram realidas 7809 atividades\n",
            "Na semana 14 foram realidas 18009 atividades\n",
            "Na semana 15 foram realidas 27738 atividades\n",
            "Na semana 16 foram realidas 29051 atividades\n",
            "Na semana 17 foram realidas 29636 atividades\n",
            "Na semana 18 foram realidas 33382 atividades\n",
            "Na semana 19 foram realidas 36146 atividades\n",
            "Na semana 20 foram realidas 42321 atividades\n",
            "Na semana 21 foram realidas 37718 atividades\n",
            "Na semana 22 foram realidas 52312 atividades\n",
            "Na semana 23 foram realidas 52399 atividades\n",
            "Na semana 24 foram realidas 17977 atividades\n"
          ]
        }
      ]
    },
    {
      "cell_type": "code",
      "metadata": {
        "colab": {
          "base_uri": "https://localhost:8080/"
        },
        "id": "L9_lhTDvraO3",
        "outputId": "c86bb39e-1fb8-4971-de9a-869d3e60e533"
      },
      "source": [
        "grafico = [];\n",
        "for i in range(24):\n",
        "  grafico.append(alunosAtivosDaSemana[i].atividadesFeitas.count())\n",
        "\n",
        "max(grafico)"
      ],
      "execution_count": 119,
      "outputs": [
        {
          "output_type": "execute_result",
          "data": {
            "text/plain": [
              "7349"
            ]
          },
          "metadata": {},
          "execution_count": 119
        }
      ]
    },
    {
      "cell_type": "code",
      "metadata": {
        "id": "ag_YLL1pR4i4",
        "outputId": "f3fa0c7f-abdd-4c66-c3b8-d0a36e067c79",
        "colab": {
          "base_uri": "https://localhost:8080/",
          "height": 419
        }
      },
      "source": [
        "(alunosAtivosDaSemana[22].query(\"Trilha == 'ETI'\"))"
      ],
      "execution_count": 121,
      "outputs": [
        {
          "output_type": "execute_result",
          "data": {
            "text/html": [
              "<div>\n",
              "<style scoped>\n",
              "    .dataframe tbody tr th:only-of-type {\n",
              "        vertical-align: middle;\n",
              "    }\n",
              "\n",
              "    .dataframe tbody tr th {\n",
              "        vertical-align: top;\n",
              "    }\n",
              "\n",
              "    .dataframe thead th {\n",
              "        text-align: right;\n",
              "    }\n",
              "</style>\n",
              "<table border=\"1\" class=\"dataframe\">\n",
              "  <thead>\n",
              "    <tr style=\"text-align: right;\">\n",
              "      <th></th>\n",
              "      <th>data</th>\n",
              "      <th>data_ultimo_acesso</th>\n",
              "      <th>id</th>\n",
              "      <th>turmaTrilha</th>\n",
              "      <th>atividadesFeitas</th>\n",
              "      <th>atividadesCorretas</th>\n",
              "      <th>atividadesGerais</th>\n",
              "      <th>dia_da_semana</th>\n",
              "      <th>Trilha</th>\n",
              "    </tr>\n",
              "  </thead>\n",
              "  <tbody>\n",
              "    <tr>\n",
              "      <th>0</th>\n",
              "      <td>2021-09-20</td>\n",
              "      <td>2021-09-24</td>\n",
              "      <td>768708</td>\n",
              "      <td>1668638</td>\n",
              "      <td>326</td>\n",
              "      <td>318</td>\n",
              "      <td>1281.0</td>\n",
              "      <td>Sexta</td>\n",
              "      <td>ETI</td>\n",
              "    </tr>\n",
              "    <tr>\n",
              "      <th>1</th>\n",
              "      <td>2021-09-20</td>\n",
              "      <td>2021-09-24</td>\n",
              "      <td>729931</td>\n",
              "      <td>1668638</td>\n",
              "      <td>251</td>\n",
              "      <td>237</td>\n",
              "      <td>966.0</td>\n",
              "      <td>Sexta</td>\n",
              "      <td>ETI</td>\n",
              "    </tr>\n",
              "    <tr>\n",
              "      <th>3</th>\n",
              "      <td>2021-09-20</td>\n",
              "      <td>2021-09-24</td>\n",
              "      <td>730201</td>\n",
              "      <td>1678302</td>\n",
              "      <td>225</td>\n",
              "      <td>223</td>\n",
              "      <td>860.0</td>\n",
              "      <td>Sexta</td>\n",
              "      <td>ETI</td>\n",
              "    </tr>\n",
              "    <tr>\n",
              "      <th>5</th>\n",
              "      <td>2021-09-20</td>\n",
              "      <td>2021-09-24</td>\n",
              "      <td>737490</td>\n",
              "      <td>1668638</td>\n",
              "      <td>231</td>\n",
              "      <td>213</td>\n",
              "      <td>906.0</td>\n",
              "      <td>Sexta</td>\n",
              "      <td>ETI</td>\n",
              "    </tr>\n",
              "    <tr>\n",
              "      <th>6</th>\n",
              "      <td>2021-09-20</td>\n",
              "      <td>2021-09-24</td>\n",
              "      <td>736213</td>\n",
              "      <td>1678302</td>\n",
              "      <td>217</td>\n",
              "      <td>207</td>\n",
              "      <td>822.0</td>\n",
              "      <td>Sexta</td>\n",
              "      <td>ETI</td>\n",
              "    </tr>\n",
              "    <tr>\n",
              "      <th>...</th>\n",
              "      <td>...</td>\n",
              "      <td>...</td>\n",
              "      <td>...</td>\n",
              "      <td>...</td>\n",
              "      <td>...</td>\n",
              "      <td>...</td>\n",
              "      <td>...</td>\n",
              "      <td>...</td>\n",
              "      <td>...</td>\n",
              "    </tr>\n",
              "    <tr>\n",
              "      <th>42162</th>\n",
              "      <td>2021-09-20</td>\n",
              "      <td>2021-09-24</td>\n",
              "      <td>726527</td>\n",
              "      <td>1662319</td>\n",
              "      <td>0</td>\n",
              "      <td>0</td>\n",
              "      <td>9.0</td>\n",
              "      <td>Sexta</td>\n",
              "      <td>ETI</td>\n",
              "    </tr>\n",
              "    <tr>\n",
              "      <th>42170</th>\n",
              "      <td>2021-09-20</td>\n",
              "      <td>2021-09-23</td>\n",
              "      <td>736854</td>\n",
              "      <td>1697840</td>\n",
              "      <td>0</td>\n",
              "      <td>0</td>\n",
              "      <td>3.0</td>\n",
              "      <td>Quinta</td>\n",
              "      <td>ETI</td>\n",
              "    </tr>\n",
              "    <tr>\n",
              "      <th>42202</th>\n",
              "      <td>2021-09-20</td>\n",
              "      <td>2021-09-23</td>\n",
              "      <td>724036</td>\n",
              "      <td>1656714</td>\n",
              "      <td>0</td>\n",
              "      <td>0</td>\n",
              "      <td>3.0</td>\n",
              "      <td>Quinta</td>\n",
              "      <td>ETI</td>\n",
              "    </tr>\n",
              "    <tr>\n",
              "      <th>42204</th>\n",
              "      <td>2021-09-20</td>\n",
              "      <td>2021-09-23</td>\n",
              "      <td>729954</td>\n",
              "      <td>1687227</td>\n",
              "      <td>0</td>\n",
              "      <td>0</td>\n",
              "      <td>3.0</td>\n",
              "      <td>Quinta</td>\n",
              "      <td>ETI</td>\n",
              "    </tr>\n",
              "    <tr>\n",
              "      <th>42208</th>\n",
              "      <td>2021-09-20</td>\n",
              "      <td>2021-09-21</td>\n",
              "      <td>732593</td>\n",
              "      <td>1662717</td>\n",
              "      <td>0</td>\n",
              "      <td>0</td>\n",
              "      <td>5.0</td>\n",
              "      <td>Terca</td>\n",
              "      <td>ETI</td>\n",
              "    </tr>\n",
              "  </tbody>\n",
              "</table>\n",
              "<p>3757 rows × 9 columns</p>\n",
              "</div>"
            ],
            "text/plain": [
              "             data data_ultimo_acesso  ...  dia_da_semana Trilha\n",
              "0      2021-09-20         2021-09-24  ...          Sexta    ETI\n",
              "1      2021-09-20         2021-09-24  ...          Sexta    ETI\n",
              "3      2021-09-20         2021-09-24  ...          Sexta    ETI\n",
              "5      2021-09-20         2021-09-24  ...          Sexta    ETI\n",
              "6      2021-09-20         2021-09-24  ...          Sexta    ETI\n",
              "...           ...                ...  ...            ...    ...\n",
              "42162  2021-09-20         2021-09-24  ...          Sexta    ETI\n",
              "42170  2021-09-20         2021-09-23  ...         Quinta    ETI\n",
              "42202  2021-09-20         2021-09-23  ...         Quinta    ETI\n",
              "42204  2021-09-20         2021-09-23  ...         Quinta    ETI\n",
              "42208  2021-09-20         2021-09-21  ...          Terca    ETI\n",
              "\n",
              "[3757 rows x 9 columns]"
            ]
          },
          "metadata": {},
          "execution_count": 121
        }
      ]
    },
    {
      "cell_type": "markdown",
      "metadata": {
        "id": "vyN5uUzmnxv9"
      },
      "source": [
        "# Gráficos"
      ]
    },
    {
      "cell_type": "code",
      "metadata": {
        "id": "3PAcdSYpl4h2"
      },
      "source": [
        "import seaborn as sns\n",
        "import matplotlib.pyplot as plt"
      ],
      "execution_count": 108,
      "outputs": []
    },
    {
      "cell_type": "markdown",
      "metadata": {
        "id": "vckSGZKVgETq"
      },
      "source": [
        "Gráfico01 - Número de estudantes inscritos no Edutech por semana"
      ]
    },
    {
      "cell_type": "code",
      "metadata": {
        "colab": {
          "base_uri": "https://localhost:8080/"
        },
        "id": "-nNdb9wBnMtI",
        "outputId": "f69dcd7d-ac88-478a-b636-ac81b073179b"
      },
      "source": [
        "dados[1].columns"
      ],
      "execution_count": 122,
      "outputs": [
        {
          "output_type": "execute_result",
          "data": {
            "text/plain": [
              "Index(['data', 'data_ultimo_acesso', 'id', 'turmaTrilha', 'atividadesFeitas',\n",
              "       'atividadesCorretas', 'atividadesGerais', 'dia_da_semana', 'Trilha'],\n",
              "      dtype='object')"
            ]
          },
          "metadata": {},
          "execution_count": 122
        }
      ]
    },
    {
      "cell_type": "code",
      "metadata": {
        "colab": {
          "base_uri": "https://localhost:8080/",
          "height": 389
        },
        "id": "oQ1bTpSKnBkl",
        "outputId": "cfb80e9d-b886-4860-fed4-bfbcf7d0d915"
      },
      "source": [
        "fig = sns.barplot(x='dia_da_semana',y='atividadesGerais',data=alunosAtivosDaSemana[22])\n",
        "fig.figure.set_size_inches(20,6)"
      ],
      "execution_count": 132,
      "outputs": [
        {
          "output_type": "display_data",
          "data": {
            "image/png": "[encoded data removed]",
            "text/plain": [
              "<Figure size 1440x432 with 1 Axes>"
            ]
          },
          "metadata": {
            "needs_background": "light"
          }
        }
      ]
    },
    {
      "cell_type": "code",
      "metadata": {
        "id": "TP-GNaKqPjEH",
        "outputId": "0488cbbf-c680-4ac8-fab1-5965b9828d08",
        "colab": {
          "base_uri": "https://localhost:8080/",
          "height": 282
        }
      },
      "source": [
        "plt.plot(list(range(1,25)),grafico)"
      ],
      "execution_count": 109,
      "outputs": [
        {
          "output_type": "execute_result",
          "data": {
            "text/plain": [
              "[<matplotlib.lines.Line2D at 0x7ffab4543a90>]"
            ]
          },
          "metadata": {},
          "execution_count": 109
        },
        {
          "output_type": "display_data",
          "data": {
            "image/png": "[encoded data removed]",
            "text/plain": [
              "<Figure size 432x288 with 1 Axes>"
            ]
          },
          "metadata": {
            "needs_background": "light"
          }
        }
      ]
    },
    {
      "cell_type": "markdown",
      "metadata": {
        "id": "1HuAayygm1mI"
      },
      "source": [
        "Gráfico 1.1 - "
      ]
    },
    {
      "cell_type": "markdown",
      "metadata": {
        "id": "k9uL83lRlIyN"
      },
      "source": [
        "Gráfico 02 - Número de estudantes ativos\n",
        "<br>"
      ]
    },
    {
      "cell_type": "markdown",
      "metadata": {
        "id": "folWXzZWlMeF"
      },
      "source": [
        "Gráfico 03 - Qual dia que os alunos mais estudam?\n",
        "<br> **Linha (Temporal)**"
      ]
    },
    {
      "cell_type": "markdown",
      "metadata": {
        "id": "ZPNV9GHdlP3_"
      },
      "source": [
        "Gráfico 04 - Número de atividades feitas por trilha (semana - semana)\n",
        "<br> ETI, Games1, Games2, Front, Mobile, Data, Java e Python\n",
        "<br>  **Gráfico de Barras**"
      ]
    },
    {
      "cell_type": "markdown",
      "metadata": {
        "id": "lePfRCrNgMPY"
      },
      "source": [
        ""
      ]
    },
    {
      "cell_type": "code",
      "metadata": {
        "id": "rTCjXppwmTze",
        "outputId": "b2b9fee4-9f0e-4b99-f5bb-93b5e0560d18",
        "colab": {
          "base_uri": "https://localhost:8080/",
          "height": 389
        }
      },
      "source": [
        "plt = sns.scatterplot(x='dia_da_semana',y='atividadesGerais', data=alunosAtivosDaSemana[1])\n",
        "plt.figure.set_size_inches(24,6)"
      ],
      "execution_count": 134,
      "outputs": [
        {
          "output_type": "display_data",
          "data": {
            "image/png": "[encoded data removed]",
            "text/plain": [
              "<Figure size 1728x432 with 1 Axes>"
            ]
          },
          "metadata": {
            "needs_background": "light"
          }
        }
      ]
    },
    {
      "cell_type": "markdown",
      "metadata": {
        "id": "8j8K3houqRMw"
      },
      "source": [
        "# Organizando as datas no eixo X"
      ]
    }
  ]
}