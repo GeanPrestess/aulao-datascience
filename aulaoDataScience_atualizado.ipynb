{
  "nbformat": 4,
  "nbformat_minor": 0,
  "metadata": {
    "colab": {
      "name": "aulaoDataScience.ipynb",
      "provenance": [],
      "collapsed_sections": [],
      "authorship_tag": "ABX9TyNULg0YjLdViFmJdP3r6MdQ",
      "include_colab_link": true
    },
    "kernelspec": {
      "name": "python3",
      "display_name": "Python 3"
    },
    "language_info": {
      "name": "python"
    }
  },
  "cells": [
    {
      "cell_type": "markdown",
      "metadata": {
        "id": "view-in-github",
        "colab_type": "text"
      },
      "source": [
        "<a href=\"https://colab.research.google.com/github/marcelopaludetto/aulao-datascience/blob/main/aulaoDataScience_atualizado.ipynb\" target=\"_parent\"><img src=\"https://colab.research.google.com/assets/colab-badge.svg\" alt=\"Open In Colab\"/></a>"
      ]
    },
    {
      "cell_type": "markdown",
      "metadata": {
        "id": "v1lC5oq2ncFH"
      },
      "source": [
        "# Extraindo informações do Edutech"
      ]
    },
    {
      "cell_type": "code",
      "metadata": {
        "id": "NfUPYlleinLN"
      },
      "source": [
        "import pandas as pd"
      ],
      "execution_count": 2,
      "outputs": []
    },
    {
      "cell_type": "code",
      "metadata": {
        "id": "6MI0F3u51oMm"
      },
      "source": [
        "filenames = ['https://raw.githubusercontent.com/marcelopaludetto/aulao-datascience/main/SEED%20-%20Semana%201.csv',\n",
        "             'https://raw.githubusercontent.com/marcelopaludetto/aulao-datascience/main/SEED%20-%20Semana%202.csv',\n",
        "             'https://raw.githubusercontent.com/marcelopaludetto/aulao-datascience/main/SEED%20-%20Semana%203.csv',\n",
        "             'https://raw.githubusercontent.com/marcelopaludetto/aulao-datascience/main/SEED%20-%20Semana%204.csv',\n",
        "             'https://raw.githubusercontent.com/marcelopaludetto/aulao-datascience/main/SEED%20-%20Semana%205.csv',\n",
        "             'https://raw.githubusercontent.com/marcelopaludetto/aulao-datascience/main/SEED%20-%20Semana%206.csv',\n",
        "             'https://raw.githubusercontent.com/marcelopaludetto/aulao-datascience/main/SEED%20-%20Semana%207.csv',\n",
        "             'https://raw.githubusercontent.com/marcelopaludetto/aulao-datascience/main/SEED%20-%20Semana%208.csv',\n",
        "             'https://raw.githubusercontent.com/marcelopaludetto/aulao-datascience/main/SEED%20-%20Semana%209.csv',\n",
        "             'https://raw.githubusercontent.com/marcelopaludetto/aulao-datascience/main/SEED%20-%20Semana%2010.csv',\n",
        "             'https://raw.githubusercontent.com/marcelopaludetto/aulao-datascience/main/SEED%20-%20Semana%2011.csv',\n",
        "             'https://raw.githubusercontent.com/marcelopaludetto/aulao-datascience/main/SEED%20-%20Semana%2012.csv',\n",
        "             'https://raw.githubusercontent.com/marcelopaludetto/aulao-datascience/main/SEED%20-%20Semana%2013.csv',\n",
        "             'https://raw.githubusercontent.com/marcelopaludetto/aulao-datascience/main/SEED%20-%20Semana%2014.csv',\n",
        "             'https://raw.githubusercontent.com/marcelopaludetto/aulao-datascience/main/SEED%20-%20Semana%2015.csv',\n",
        "             'https://raw.githubusercontent.com/marcelopaludetto/aulao-datascience/main/SEED%20-%20Semana%2016.csv',\n",
        "             'https://raw.githubusercontent.com/marcelopaludetto/aulao-datascience/main/SEED%20-%20Semana%2017.csv',\n",
        "             'https://raw.githubusercontent.com/marcelopaludetto/aulao-datascience/main/SEED%20-%20Semana%2018.csv',\n",
        "             'https://raw.githubusercontent.com/marcelopaludetto/aulao-datascience/main/SEED%20-%20Semana%2019.csv',\n",
        "             'https://raw.githubusercontent.com/marcelopaludetto/aulao-datascience/main/SEED%20-%20Semana%2020.csv',\n",
        "             'https://raw.githubusercontent.com/marcelopaludetto/aulao-datascience/main/SEED%20-%20Semana%2021.csv',\n",
        "             'https://raw.githubusercontent.com/marcelopaludetto/aulao-datascience/main/SEED%20-%20Semana%2022.csv',\n",
        "             'https://raw.githubusercontent.com/marcelopaludetto/aulao-datascience/main/SEED%20-%20Semana%2023.csv',\n",
        "             'https://raw.githubusercontent.com/marcelopaludetto/aulao-datascience/main/SEED%20-%20Semana%2024.csv']\n",
        "\n",
        "\n",
        "dados = [pd.read_csv(f) for f in filenames] "
      ],
      "execution_count": 3,
      "outputs": []
    },
    {
      "cell_type": "code",
      "metadata": {
        "id": "hU-fAtLx27Uf",
        "colab": {
          "base_uri": "https://localhost:8080/"
        },
        "outputId": "3905e630-b16a-415b-bd2f-e63d7c8cba69"
      },
      "source": [
        "dados[0].columns"
      ],
      "execution_count": 4,
      "outputs": [
        {
          "output_type": "execute_result",
          "data": {
            "text/plain": [
              "Index(['data', 'data de último acesso', 'id', 'email', 'cargo', 'teamId',\n",
              "       'turmaTrilha', 'atividadesFeitas', 'atividadesCorretas',\n",
              "       'atividadesGerais'],\n",
              "      dtype='object')"
            ]
          },
          "metadata": {},
          "execution_count": 4
        }
      ]
    },
    {
      "cell_type": "code",
      "metadata": {
        "id": "ic2lYRZM3BxA"
      },
      "source": [
        "for f in range(24):\n",
        " dados[f] = dados[f].drop(columns=['email'])"
      ],
      "execution_count": 5,
      "outputs": []
    },
    {
      "cell_type": "code",
      "metadata": {
        "id": "SW4ETPOd32qk",
        "colab": {
          "base_uri": "https://localhost:8080/",
          "height": 359
        },
        "outputId": "2180108a-d0c5-4b16-f23c-93a223c0c2c3"
      },
      "source": [
        "dados[0].head(10)"
      ],
      "execution_count": 6,
      "outputs": [
        {
          "output_type": "execute_result",
          "data": {
            "text/html": [
              "<div>\n",
              "<style scoped>\n",
              "    .dataframe tbody tr th:only-of-type {\n",
              "        vertical-align: middle;\n",
              "    }\n",
              "\n",
              "    .dataframe tbody tr th {\n",
              "        vertical-align: top;\n",
              "    }\n",
              "\n",
              "    .dataframe thead th {\n",
              "        text-align: right;\n",
              "    }\n",
              "</style>\n",
              "<table border=\"1\" class=\"dataframe\">\n",
              "  <thead>\n",
              "    <tr style=\"text-align: right;\">\n",
              "      <th></th>\n",
              "      <th>data</th>\n",
              "      <th>data de último acesso</th>\n",
              "      <th>id</th>\n",
              "      <th>cargo</th>\n",
              "      <th>teamId</th>\n",
              "      <th>turmaTrilha</th>\n",
              "      <th>atividadesFeitas</th>\n",
              "      <th>atividadesCorretas</th>\n",
              "      <th>atividadesGerais</th>\n",
              "    </tr>\n",
              "  </thead>\n",
              "  <tbody>\n",
              "    <tr>\n",
              "      <th>0</th>\n",
              "      <td>2021-04-19</td>\n",
              "      <td>2021-05-05</td>\n",
              "      <td>589685</td>\n",
              "      <td>REGULAR</td>\n",
              "      <td>14677</td>\n",
              "      <td>12400133</td>\n",
              "      <td>159</td>\n",
              "      <td>126</td>\n",
              "      <td>813.0</td>\n",
              "    </tr>\n",
              "    <tr>\n",
              "      <th>1</th>\n",
              "      <td>2021-04-19</td>\n",
              "      <td>2021-05-03</td>\n",
              "      <td>602784</td>\n",
              "      <td>REGULAR</td>\n",
              "      <td>14953</td>\n",
              "      <td>21406831</td>\n",
              "      <td>129</td>\n",
              "      <td>122</td>\n",
              "      <td>542.0</td>\n",
              "    </tr>\n",
              "    <tr>\n",
              "      <th>2</th>\n",
              "      <td>2021-04-19</td>\n",
              "      <td>2021-04-26</td>\n",
              "      <td>608608</td>\n",
              "      <td>REGULAR</td>\n",
              "      <td>15074</td>\n",
              "      <td>24400531</td>\n",
              "      <td>104</td>\n",
              "      <td>97</td>\n",
              "      <td>393.0</td>\n",
              "    </tr>\n",
              "    <tr>\n",
              "      <th>3</th>\n",
              "      <td>2021-04-19</td>\n",
              "      <td>2021-05-03</td>\n",
              "      <td>492948</td>\n",
              "      <td>REGULAR</td>\n",
              "      <td>14972,17308</td>\n",
              "      <td>1656722,22400112</td>\n",
              "      <td>83</td>\n",
              "      <td>83</td>\n",
              "      <td>269.0</td>\n",
              "    </tr>\n",
              "    <tr>\n",
              "      <th>4</th>\n",
              "      <td>2021-04-19</td>\n",
              "      <td>2021-05-04</td>\n",
              "      <td>519898</td>\n",
              "      <td>REGULAR</td>\n",
              "      <td>15485</td>\n",
              "      <td>21900101</td>\n",
              "      <td>82</td>\n",
              "      <td>81</td>\n",
              "      <td>309.0</td>\n",
              "    </tr>\n",
              "    <tr>\n",
              "      <th>5</th>\n",
              "      <td>2021-04-19</td>\n",
              "      <td>2021-04-25</td>\n",
              "      <td>487571</td>\n",
              "      <td>REGULAR</td>\n",
              "      <td>15067</td>\n",
              "      <td>24400232</td>\n",
              "      <td>73</td>\n",
              "      <td>73</td>\n",
              "      <td>320.0</td>\n",
              "    </tr>\n",
              "    <tr>\n",
              "      <th>6</th>\n",
              "      <td>2021-04-19</td>\n",
              "      <td>2021-05-05</td>\n",
              "      <td>594650</td>\n",
              "      <td>REGULAR</td>\n",
              "      <td>14829</td>\n",
              "      <td>12407331</td>\n",
              "      <td>83</td>\n",
              "      <td>70</td>\n",
              "      <td>476.0</td>\n",
              "    </tr>\n",
              "    <tr>\n",
              "      <th>7</th>\n",
              "      <td>2021-04-19</td>\n",
              "      <td>2021-05-06</td>\n",
              "      <td>566760</td>\n",
              "      <td>REGULAR</td>\n",
              "      <td>14469</td>\n",
              "      <td>11400411</td>\n",
              "      <td>80</td>\n",
              "      <td>68</td>\n",
              "      <td>431.0</td>\n",
              "    </tr>\n",
              "    <tr>\n",
              "      <th>8</th>\n",
              "      <td>2021-04-19</td>\n",
              "      <td>2021-04-20</td>\n",
              "      <td>601746</td>\n",
              "      <td>REGULAR</td>\n",
              "      <td>14942</td>\n",
              "      <td>21405731</td>\n",
              "      <td>70</td>\n",
              "      <td>67</td>\n",
              "      <td>364.0</td>\n",
              "    </tr>\n",
              "    <tr>\n",
              "      <th>9</th>\n",
              "      <td>2021-04-19</td>\n",
              "      <td>2021-05-04</td>\n",
              "      <td>596252</td>\n",
              "      <td>REGULAR</td>\n",
              "      <td>14839</td>\n",
              "      <td>12408231</td>\n",
              "      <td>67</td>\n",
              "      <td>66</td>\n",
              "      <td>266.0</td>\n",
              "    </tr>\n",
              "  </tbody>\n",
              "</table>\n",
              "</div>"
            ],
            "text/plain": [
              "         data data de último acesso  ...  atividadesCorretas atividadesGerais\n",
              "0  2021-04-19            2021-05-05  ...                 126            813.0\n",
              "1  2021-04-19            2021-05-03  ...                 122            542.0\n",
              "2  2021-04-19            2021-04-26  ...                  97            393.0\n",
              "3  2021-04-19            2021-05-03  ...                  83            269.0\n",
              "4  2021-04-19            2021-05-04  ...                  81            309.0\n",
              "5  2021-04-19            2021-04-25  ...                  73            320.0\n",
              "6  2021-04-19            2021-05-05  ...                  70            476.0\n",
              "7  2021-04-19            2021-05-06  ...                  68            431.0\n",
              "8  2021-04-19            2021-04-20  ...                  67            364.0\n",
              "9  2021-04-19            2021-05-04  ...                  66            266.0\n",
              "\n",
              "[10 rows x 9 columns]"
            ]
          },
          "metadata": {},
          "execution_count": 6
        }
      ]
    },
    {
      "cell_type": "code",
      "metadata": {
        "id": "ta80MurntPxT"
      },
      "source": [
        "renomear = {'data' : 'data', 'data de último acesso' : 'data_ultimo_acesso', 'id' : 'id', 'cargo':'cargo', 'teamId':'teamId',\n",
        "       'turmaTrilha':'turmaTrilha', 'atividadesFeitas':'atividadesFeitas', 'atividadesCorretas':'atividadesCorretas',\n",
        "       'atividadesGerais': 'atividadesGerais'}"
      ],
      "execution_count": 7,
      "outputs": []
    },
    {
      "cell_type": "code",
      "metadata": {
        "id": "w1G1ghzltmTG",
        "colab": {
          "base_uri": "https://localhost:8080/",
          "height": 204
        },
        "outputId": "4982ac70-1d42-45be-b8c2-78a1c0473551"
      },
      "source": [
        "for f in range(24):\n",
        "  dados[f] = dados[f].rename(columns = renomear)\n",
        "\n",
        "dados[23].head()"
      ],
      "execution_count": 8,
      "outputs": [
        {
          "output_type": "execute_result",
          "data": {
            "text/html": [
              "<div>\n",
              "<style scoped>\n",
              "    .dataframe tbody tr th:only-of-type {\n",
              "        vertical-align: middle;\n",
              "    }\n",
              "\n",
              "    .dataframe tbody tr th {\n",
              "        vertical-align: top;\n",
              "    }\n",
              "\n",
              "    .dataframe thead th {\n",
              "        text-align: right;\n",
              "    }\n",
              "</style>\n",
              "<table border=\"1\" class=\"dataframe\">\n",
              "  <thead>\n",
              "    <tr style=\"text-align: right;\">\n",
              "      <th></th>\n",
              "      <th>data</th>\n",
              "      <th>data_ultimo_acesso</th>\n",
              "      <th>id</th>\n",
              "      <th>cargo</th>\n",
              "      <th>teamId</th>\n",
              "      <th>turmaTrilha</th>\n",
              "      <th>atividadesFeitas</th>\n",
              "      <th>atividadesCorretas</th>\n",
              "      <th>atividadesGerais</th>\n",
              "    </tr>\n",
              "  </thead>\n",
              "  <tbody>\n",
              "    <tr>\n",
              "      <th>0</th>\n",
              "      <td>2021-09-27</td>\n",
              "      <td>2021-09-28</td>\n",
              "      <td>738222</td>\n",
              "      <td>REGULAR</td>\n",
              "      <td>15923</td>\n",
              "      <td>1664785</td>\n",
              "      <td>161</td>\n",
              "      <td>159</td>\n",
              "      <td>610.0</td>\n",
              "    </tr>\n",
              "    <tr>\n",
              "      <th>1</th>\n",
              "      <td>2021-09-27</td>\n",
              "      <td>2021-09-28</td>\n",
              "      <td>733995</td>\n",
              "      <td>REGULAR</td>\n",
              "      <td>15923</td>\n",
              "      <td>1664785</td>\n",
              "      <td>121</td>\n",
              "      <td>104</td>\n",
              "      <td>448.0</td>\n",
              "    </tr>\n",
              "    <tr>\n",
              "      <th>2</th>\n",
              "      <td>2021-09-27</td>\n",
              "      <td>2021-09-27</td>\n",
              "      <td>737988</td>\n",
              "      <td>REGULAR</td>\n",
              "      <td>16133</td>\n",
              "      <td>1677432</td>\n",
              "      <td>89</td>\n",
              "      <td>89</td>\n",
              "      <td>313.0</td>\n",
              "    </tr>\n",
              "    <tr>\n",
              "      <th>3</th>\n",
              "      <td>2021-09-27</td>\n",
              "      <td>2021-09-28</td>\n",
              "      <td>590268</td>\n",
              "      <td>REGULAR</td>\n",
              "      <td>14851</td>\n",
              "      <td>12409431</td>\n",
              "      <td>84</td>\n",
              "      <td>84</td>\n",
              "      <td>309.0</td>\n",
              "    </tr>\n",
              "    <tr>\n",
              "      <th>4</th>\n",
              "      <td>2021-09-27</td>\n",
              "      <td>2021-09-28</td>\n",
              "      <td>729955</td>\n",
              "      <td>REGULAR</td>\n",
              "      <td>15874</td>\n",
              "      <td>1662777</td>\n",
              "      <td>84</td>\n",
              "      <td>84</td>\n",
              "      <td>340.0</td>\n",
              "    </tr>\n",
              "  </tbody>\n",
              "</table>\n",
              "</div>"
            ],
            "text/plain": [
              "         data data_ultimo_acesso  ...  atividadesCorretas atividadesGerais\n",
              "0  2021-09-27         2021-09-28  ...                 159            610.0\n",
              "1  2021-09-27         2021-09-28  ...                 104            448.0\n",
              "2  2021-09-27         2021-09-27  ...                  89            313.0\n",
              "3  2021-09-27         2021-09-28  ...                  84            309.0\n",
              "4  2021-09-27         2021-09-28  ...                  84            340.0\n",
              "\n",
              "[5 rows x 9 columns]"
            ]
          },
          "metadata": {},
          "execution_count": 8
        }
      ]
    },
    {
      "cell_type": "code",
      "metadata": {
        "id": "Fx2Hr47Xmrhc",
        "colab": {
          "base_uri": "https://localhost:8080/"
        },
        "outputId": "b18f2eb8-fb04-4d9f-f38c-9283ba8c6b46"
      },
      "source": [
        "for f in range(24):\n",
        "  print('Na {} semana, o número de estudantes matriculados no Edutech é de {}'.format(f+1,dados[f].data.count()))"
      ],
      "execution_count": 11,
      "outputs": [
        {
          "output_type": "stream",
          "name": "stdout",
          "text": [
            "Na 1 semana, o número de estudantes matriculados no Edutech é de 67487\n",
            "Na 2 semana, o número de estudantes matriculados no Edutech é de 67487\n",
            "Na 3 semana, o número de estudantes matriculados no Edutech é de 67487\n",
            "Na 4 semana, o número de estudantes matriculados no Edutech é de 67487\n",
            "Na 5 semana, o número de estudantes matriculados no Edutech é de 67488\n",
            "Na 6 semana, o número de estudantes matriculados no Edutech é de 67745\n",
            "Na 7 semana, o número de estudantes matriculados no Edutech é de 70776\n",
            "Na 8 semana, o número de estudantes matriculados no Edutech é de 70842\n",
            "Na 9 semana, o número de estudantes matriculados no Edutech é de 47923\n",
            "Na 10 semana, o número de estudantes matriculados no Edutech é de 48010\n",
            "Na 11 semana, o número de estudantes matriculados no Edutech é de 48008\n",
            "Na 12 semana, o número de estudantes matriculados no Edutech é de 48511\n",
            "Na 13 semana, o número de estudantes matriculados no Edutech é de 48512\n",
            "Na 14 semana, o número de estudantes matriculados no Edutech é de 48719\n",
            "Na 15 semana, o número de estudantes matriculados no Edutech é de 46581\n",
            "Na 16 semana, o número de estudantes matriculados no Edutech é de 46704\n",
            "Na 17 semana, o número de estudantes matriculados no Edutech é de 46668\n",
            "Na 18 semana, o número de estudantes matriculados no Edutech é de 34791\n",
            "Na 19 semana, o número de estudantes matriculados no Edutech é de 38232\n",
            "Na 20 semana, o número de estudantes matriculados no Edutech é de 40717\n",
            "Na 21 semana, o número de estudantes matriculados no Edutech é de 41896\n",
            "Na 22 semana, o número de estudantes matriculados no Edutech é de 41902\n",
            "Na 23 semana, o número de estudantes matriculados no Edutech é de 42268\n",
            "Na 24 semana, o número de estudantes matriculados no Edutech é de 42268\n"
          ]
        }
      ]
    },
    {
      "cell_type": "code",
      "metadata": {
        "id": "pPZDJscow3Yj",
        "colab": {
          "base_uri": "https://localhost:8080/",
          "height": 163
        },
        "outputId": "a5f44e5b-18db-4a44-8ef0-f5878d5a48ee"
      },
      "source": [
        "print('Na semana 7 foram incluidos {} estudantes no programa Edutech'.format(dadoSemana07.data.count() - dadoSemana06.data.count()))"
      ],
      "execution_count": 10,
      "outputs": [
        {
          "output_type": "error",
          "ename": "NameError",
          "evalue": "ignored",
          "traceback": [
            "\u001b[0;31m---------------------------------------------------------------------------\u001b[0m",
            "\u001b[0;31mNameError\u001b[0m                                 Traceback (most recent call last)",
            "\u001b[0;32m<ipython-input-10-727d32268d32>\u001b[0m in \u001b[0;36m<module>\u001b[0;34m()\u001b[0m\n\u001b[0;32m----> 1\u001b[0;31m \u001b[0mprint\u001b[0m\u001b[0;34m(\u001b[0m\u001b[0;34m'Na semana 7 foram incluidos {} estudantes no programa Edutech'\u001b[0m\u001b[0;34m.\u001b[0m\u001b[0mformat\u001b[0m\u001b[0;34m(\u001b[0m\u001b[0mdadoSemana07\u001b[0m\u001b[0;34m.\u001b[0m\u001b[0mdata\u001b[0m\u001b[0;34m.\u001b[0m\u001b[0mcount\u001b[0m\u001b[0;34m(\u001b[0m\u001b[0;34m)\u001b[0m \u001b[0;34m-\u001b[0m \u001b[0mdadoSemana06\u001b[0m\u001b[0;34m.\u001b[0m\u001b[0mdata\u001b[0m\u001b[0;34m.\u001b[0m\u001b[0mcount\u001b[0m\u001b[0;34m(\u001b[0m\u001b[0;34m)\u001b[0m\u001b[0;34m)\u001b[0m\u001b[0;34m)\u001b[0m\u001b[0;34m\u001b[0m\u001b[0;34m\u001b[0m\u001b[0m\n\u001b[0m",
            "\u001b[0;31mNameError\u001b[0m: name 'dadoSemana07' is not defined"
          ]
        }
      ]
    },
    {
      "cell_type": "code",
      "metadata": {
        "id": "udgzlXN9xB0D"
      },
      "source": [
        "print('Na 9 semana, foram excluídos {} estudantes do programa Edutech'.format(dadoSemana08.data.count() - dadoSemana09.data.count()))"
      ],
      "execution_count": null,
      "outputs": []
    },
    {
      "cell_type": "markdown",
      "metadata": {
        "id": "XXB4xGJ7nXa8"
      },
      "source": [
        "## Coletando o número de alunos ativos"
      ]
    },
    {
      "cell_type": "code",
      "metadata": {
        "id": "CKAPKKdpl_mX"
      },
      "source": [
        "dadoSemana01['atividadesGerais'].notnull()\n",
        "dadoSemana02['atividadesGerais'].notnull()"
      ],
      "execution_count": null,
      "outputs": []
    },
    {
      "cell_type": "code",
      "metadata": {
        "id": "_-Ct1VKPpu2T"
      },
      "source": [
        "dadosAtivos01 = dadoSemana01[dadoSemana01['atividadesGerais'].notnull()]\n",
        "dadosAtivos02 = dadoSemana02[dadoSemana02['atividadesGerais'].notnull()]\n",
        "dadosAtivos03 = dadoSemana03[dadoSemana03['atividadesGerais'].notnull()]\n",
        "dadosAtivos04 = dadoSemana04[dadoSemana04['atividadesGerais'].notnull()]\n",
        "dadosAtivos05 = dadoSemana05[dadoSemana05['atividadesGerais'].notnull()]\n",
        "dadosAtivos06 = dadoSemana06[dadoSemana06['atividadesGerais'].notnull()]\n",
        "dadosAtivos07 = dadoSemana07[dadoSemana07['atividadesGerais'].notnull()]\n",
        "dadosAtivos08 = dadoSemana08[dadoSemana08['atividadesGerais'].notnull()]\n",
        "dadosAtivos09 = dadoSemana09[dadoSemana09['atividadesGerais'].notnull()]\n",
        "dadosAtivos10 = dadoSemana10[dadoSemana10['atividadesGerais'].notnull()]\n",
        "dadosAtivos11 = dadoSemana11[dadoSemana11['atividadesGerais'].notnull()]\n"
      ],
      "execution_count": null,
      "outputs": []
    },
    {
      "cell_type": "code",
      "metadata": {
        "id": "17o_kt2Dm7zR"
      },
      "source": [
        "print('Na 1 semana, o número de estudantes ativos no Edutech é de {}'.format(dadosAtivos01.data.count()))\n",
        "print('Na 2 semana, o número de estudantes ativos no Edutech é de {}'.format(dadosAtivos02.data.count()))\n",
        "print('Na 3 semana, o número de estudantes ativos no Edutech é de {}'.format(dadosAtivos03.data.count()))\n",
        "print('Na 4 semana, o número de estudantes ativos no Edutech é de {}'.format(dadosAtivos04.data.count()))\n",
        "print('Na 5 semana, o número de estudantes ativos no Edutech é de {}'.format(dadosAtivos05.data.count()))\n",
        "print('Na 6 semana, o número de estudantes ativos no Edutech é de {}'.format(dadosAtivos06.data.count()))\n",
        "print('Na 7 semana, o número de estudantes ativos no Edutech é de {}'.format(dadosAtivos07.data.count()))\n",
        "print('Na 8 semana, o número de estudantes ativos no Edutech é de {}'.format(dadosAtivos08.data.count()))\n",
        "print('Na 9 semana, o número de estudantes ativos no Edutech é de {}'.format(dadosAtivos09.data.count()))\n",
        "print('Na 10 semana, o número de estudantes ativos no Edutech é de {}'.format(dadosAtivos10.data.count()))\n",
        "print('Na 11 semana, o número de estudantes ativos no Edutech é de {}'.format(dadosAtivos11.data.count()))\n"
      ],
      "execution_count": null,
      "outputs": []
    },
    {
      "cell_type": "code",
      "metadata": {
        "id": "YM4rYJGkn5Xy"
      },
      "source": [
        "percentual01 = dadoSemana01.atividadesGerais.count()/dadoSemana01.data.count() * 100\n",
        "percentual02 = dadoSemana02.atividadesGerais.count()/dadoSemana02.data.count() * 100\n",
        "percentual03 = dadoSemana03.atividadesGerais.count()/dadoSemana03.data.count() * 100\n",
        "percentual04 = dadoSemana04.atividadesGerais.count()/dadoSemana04.data.count() * 100\n",
        "percentual05 = dadoSemana05.atividadesGerais.count()/dadoSemana05.data.count() * 100\n",
        "percentual06 = dadoSemana06.atividadesGerais.count()/dadoSemana06.data.count() * 100\n",
        "percentual07 = dadoSemana07.atividadesGerais.count()/dadoSemana07.data.count() * 100\n",
        "percentual08 = dadoSemana08.atividadesGerais.count()/dadoSemana08.data.count() * 100\n",
        "percentual09 = dadoSemana09.atividadesGerais.count()/dadoSemana09.data.count() * 100\n",
        "percentual10 = dadoSemana10.atividadesGerais.count()/dadoSemana10.data.count() * 100\n",
        "percentual11 = dadoSemana11.atividadesGerais.count()/dadoSemana11.data.count() * 100\n",
        "\n",
        "\n",
        "print('Na semana 01 tivemos a porcentagem de alunos ativos no Edutech é de {} %'.format(percentual01.round(2)))\n",
        "print('Na semana 02 tivemos a porcentagem de alunos ativos no Edutech é de {} %'.format(percentual02.round(2)))\n",
        "print('Na semana 03 tivemos a porcentagem de alunos ativos no Edutech é de {} %'.format(percentual03.round(2)))\n",
        "print('Na semana 04 tivemos a porcentagem de alunos ativos no Edutech é de {} %'.format(percentual04.round(2)))\n",
        "print('Na semana 05 tivemos a porcentagem de alunos ativos no Edutech é de {} %'.format(percentual05.round(2)))\n",
        "print('Na semana 06 tivemos a porcentagem de alunos ativos no Edutech é de {} %'.format(percentual06.round(2)))\n",
        "print('Na semana 07 tivemos a porcentagem de alunos ativos no Edutech é de {} %'.format(percentual07.round(2)))\n",
        "print('Na semana 08 tivemos a porcentagem de alunos ativos no Edutech é de {} %'.format(percentual08.round(2)))\n",
        "print('Na semana 09 tivemos a porcentagem de alunos ativos no Edutech é de {} %'.format(percentual09.round(2)))\n",
        "print('Na semana 10 tivemos a porcentagem de alunos ativos no Edutech é de {} %'.format(percentual10.round(2)))\n",
        "print('Na semana 11 tivemos a porcentagem de alunos ativos no Edutech é de {} %'.format(percentual11.round(2)))\n"
      ],
      "execution_count": null,
      "outputs": []
    },
    {
      "cell_type": "markdown",
      "metadata": {
        "id": "vyN5uUzmnxv9"
      },
      "source": [
        "# Gráficos"
      ]
    },
    {
      "cell_type": "code",
      "metadata": {
        "id": "3PAcdSYpl4h2"
      },
      "source": [
        "import seaborn as sns"
      ],
      "execution_count": null,
      "outputs": []
    },
    {
      "cell_type": "code",
      "metadata": {
        "id": "GJjN4oBol8lD"
      },
      "source": [
        "plt = sns.scatterplot(x='data_ultimo_acesso',y='atividadesFeitas', data=dados01)\n",
        "plt.figure.set_size_inches(24,6)"
      ],
      "execution_count": null,
      "outputs": []
    },
    {
      "cell_type": "code",
      "metadata": {
        "id": "naLgfyG7l96P"
      },
      "source": [
        "dadosAtivos01 = dados01.query(\"atividadesGerais > 0\")\n",
        "dadosAtivos02 = dados02.query(\"atividadesGerais > 0\")"
      ],
      "execution_count": null,
      "outputs": []
    },
    {
      "cell_type": "code",
      "metadata": {
        "id": "rTCjXppwmTze"
      },
      "source": [
        "plt = sns.scatterplot(x='data_ultimo_acesso',y='atividadesFeitas', data=dadosAtivos01)\n",
        "plt.figure.set_size_inches(24,6)"
      ],
      "execution_count": null,
      "outputs": []
    },
    {
      "cell_type": "code",
      "metadata": {
        "id": "nG0EJ95jQ41b"
      },
      "source": [
        "plt = sns.scatterplot(x='data_ultimo_acesso',y='atividadesFeitas', data=dadosAtivos02)\n",
        "plt.figure.set_size_inches(24,6)"
      ],
      "execution_count": null,
      "outputs": []
    },
    {
      "cell_type": "code",
      "metadata": {
        "id": "CbRbLnYfmq5-"
      },
      "source": [
        "plt = sns.boxplot(x='data_ultimo_acesso',y='atividadesFeitas', data=dadosAtivos01)\n",
        "plt.figure.set_size_inches(24,6)"
      ],
      "execution_count": null,
      "outputs": []
    },
    {
      "cell_type": "code",
      "metadata": {
        "id": "78H-o55jREuv"
      },
      "source": [
        "plt = sns.boxplot(x='data_ultimo_acesso',y='atividadesFeitas', data=dadosAtivos02)\n",
        "plt.figure.set_size_inches(24,6)"
      ],
      "execution_count": null,
      "outputs": []
    },
    {
      "cell_type": "code",
      "metadata": {
        "id": "3xfTRgrDwSqa"
      },
      "source": [
        "dadosAtivos01 = dadosAtivos01.sort_values(by = ['data_ultimo_acesso'])"
      ],
      "execution_count": null,
      "outputs": []
    },
    {
      "cell_type": "code",
      "metadata": {
        "id": "YaK9_vF8RT9Y"
      },
      "source": [
        "dadosAtivos02 = dadosAtivos02.sort_values(by = ['data_ultimo_acesso'])"
      ],
      "execution_count": null,
      "outputs": []
    },
    {
      "cell_type": "code",
      "metadata": {
        "id": "dvTfO_zvRcQC"
      },
      "source": [
        "plt = sns.relplot(x='data_ultimo_acesso',y='atividadesFeitas', data=dadosAtivos01)\n",
        "plt.figure.set_size_inches(24,6)"
      ],
      "execution_count": null,
      "outputs": []
    },
    {
      "cell_type": "code",
      "metadata": {
        "id": "ryq5IXwPwbGX"
      },
      "source": [
        "plt = sns.relplot(x='data_ultimo_acesso',y='atividadesFeitas', data=dadosAtivos02)\n",
        "plt.figure.set_size_inches(24,6)"
      ],
      "execution_count": null,
      "outputs": []
    },
    {
      "cell_type": "code",
      "metadata": {
        "id": "7CmcpZ7WRR8L"
      },
      "source": [
        "selecao = dadosAtivos02['data_ultimo_acesso'] == '2021-05-04'\n",
        "dia04maioSemana2 = dadosAtivos02[selecao]\n",
        "dia04maioSemana2"
      ],
      "execution_count": null,
      "outputs": []
    },
    {
      "cell_type": "code",
      "metadata": {
        "id": "CdWz65LgR_Zx"
      },
      "source": [
        "selecao = dadosAtivos01['data_ultimo_acesso'] == '2021-05-04'\n",
        "dia04maioSemana1 = dadosAtivos01[selecao]\n",
        "dia04maioSemana1"
      ],
      "execution_count": null,
      "outputs": []
    },
    {
      "cell_type": "markdown",
      "metadata": {
        "id": "9LCfkUaTx81H"
      },
      "source": [
        "# Análise de Frequências"
      ]
    }
  ]
}