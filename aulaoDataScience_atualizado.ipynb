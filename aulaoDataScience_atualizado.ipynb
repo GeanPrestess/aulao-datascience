{
  "nbformat": 4,
  "nbformat_minor": 0,
  "metadata": {
    "colab": {
      "name": "Cópia de aulaoDataScience.ipynb",
      "provenance": [],
      "collapsed_sections": [],
      "authorship_tag": "ABX9TyNRrv0n0OFlMtNTyWQcok4j",
      "include_colab_link": true
    },
    "kernelspec": {
      "name": "python3",
      "display_name": "Python 3"
    },
    "language_info": {
      "name": "python"
    }
  },
  "cells": [
    {
      "cell_type": "markdown",
      "metadata": {
        "id": "view-in-github",
        "colab_type": "text"
      },
      "source": [
        "<a href=\"https://colab.research.google.com/github/marcelopaludetto/aulao-datascience/blob/main/aulaoDataScience_atualizado.ipynb\" target=\"_parent\"><img src=\"https://colab.research.google.com/assets/colab-badge.svg\" alt=\"Open In Colab\"/></a>"
      ]
    },
    {
      "cell_type": "markdown",
      "metadata": {
        "id": "v1lC5oq2ncFH"
      },
      "source": [
        "# Extraindo informações do Edutech"
      ]
    },
    {
      "cell_type": "code",
      "metadata": {
        "id": "NfUPYlleinLN"
      },
      "source": [
        "import pandas as pd\n",
        "import warnings\n",
        "\n",
        "warnings.filterwarnings('ignore')"
      ],
      "execution_count": 27,
      "outputs": []
    },
    {
      "cell_type": "code",
      "metadata": {
        "id": "6MI0F3u51oMm",
        "colab": {
          "base_uri": "https://localhost:8080/"
        },
        "outputId": "b689622d-7ea5-4e90-e377-db9f36dc76ae"
      },
      "source": [
        "filenames = [f'https://raw.githubusercontent.com/marcelopaludetto/aulao-datascience/main/dados{i}.csv' for i in range(26)]           \n",
        "\n",
        "filenames"
      ],
      "execution_count": 28,
      "outputs": [
        {
          "output_type": "execute_result",
          "data": {
            "text/plain": [
              "['https://raw.githubusercontent.com/marcelopaludetto/aulao-datascience/main/dados0.csv',\n",
              " 'https://raw.githubusercontent.com/marcelopaludetto/aulao-datascience/main/dados1.csv',\n",
              " 'https://raw.githubusercontent.com/marcelopaludetto/aulao-datascience/main/dados2.csv',\n",
              " 'https://raw.githubusercontent.com/marcelopaludetto/aulao-datascience/main/dados3.csv',\n",
              " 'https://raw.githubusercontent.com/marcelopaludetto/aulao-datascience/main/dados4.csv',\n",
              " 'https://raw.githubusercontent.com/marcelopaludetto/aulao-datascience/main/dados5.csv',\n",
              " 'https://raw.githubusercontent.com/marcelopaludetto/aulao-datascience/main/dados6.csv',\n",
              " 'https://raw.githubusercontent.com/marcelopaludetto/aulao-datascience/main/dados7.csv',\n",
              " 'https://raw.githubusercontent.com/marcelopaludetto/aulao-datascience/main/dados8.csv',\n",
              " 'https://raw.githubusercontent.com/marcelopaludetto/aulao-datascience/main/dados9.csv',\n",
              " 'https://raw.githubusercontent.com/marcelopaludetto/aulao-datascience/main/dados10.csv',\n",
              " 'https://raw.githubusercontent.com/marcelopaludetto/aulao-datascience/main/dados11.csv',\n",
              " 'https://raw.githubusercontent.com/marcelopaludetto/aulao-datascience/main/dados12.csv',\n",
              " 'https://raw.githubusercontent.com/marcelopaludetto/aulao-datascience/main/dados13.csv',\n",
              " 'https://raw.githubusercontent.com/marcelopaludetto/aulao-datascience/main/dados14.csv',\n",
              " 'https://raw.githubusercontent.com/marcelopaludetto/aulao-datascience/main/dados15.csv',\n",
              " 'https://raw.githubusercontent.com/marcelopaludetto/aulao-datascience/main/dados16.csv',\n",
              " 'https://raw.githubusercontent.com/marcelopaludetto/aulao-datascience/main/dados17.csv',\n",
              " 'https://raw.githubusercontent.com/marcelopaludetto/aulao-datascience/main/dados18.csv',\n",
              " 'https://raw.githubusercontent.com/marcelopaludetto/aulao-datascience/main/dados19.csv',\n",
              " 'https://raw.githubusercontent.com/marcelopaludetto/aulao-datascience/main/dados20.csv',\n",
              " 'https://raw.githubusercontent.com/marcelopaludetto/aulao-datascience/main/dados21.csv',\n",
              " 'https://raw.githubusercontent.com/marcelopaludetto/aulao-datascience/main/dados22.csv',\n",
              " 'https://raw.githubusercontent.com/marcelopaludetto/aulao-datascience/main/dados23.csv',\n",
              " 'https://raw.githubusercontent.com/marcelopaludetto/aulao-datascience/main/dados24.csv',\n",
              " 'https://raw.githubusercontent.com/marcelopaludetto/aulao-datascience/main/dados25.csv']"
            ]
          },
          "metadata": {},
          "execution_count": 28
        }
      ]
    },
    {
      "cell_type": "code",
      "metadata": {
        "id": "-FMmDhW7QWIJ"
      },
      "source": [
        "dados = [pd.read_csv(i) for i in filenames] "
      ],
      "execution_count": 29,
      "outputs": []
    },
    {
      "cell_type": "code",
      "metadata": {
        "id": "hU-fAtLx27Uf",
        "colab": {
          "base_uri": "https://localhost:8080/"
        },
        "outputId": "0513b021-e663-4a97-fe0d-bcc3fbae3343"
      },
      "source": [
        "dados[0].columns"
      ],
      "execution_count": 30,
      "outputs": [
        {
          "output_type": "execute_result",
          "data": {
            "text/plain": [
              "Index(['data', 'data de último acesso', 'id', 'turmaTrilha',\n",
              "       'atividadesFeitas', 'atividadesCorretas', 'atividadesGerais'],\n",
              "      dtype='object')"
            ]
          },
          "metadata": {},
          "execution_count": 30
        }
      ]
    },
    {
      "cell_type": "code",
      "metadata": {
        "id": "SW4ETPOd32qk",
        "colab": {
          "base_uri": "https://localhost:8080/",
          "height": 363
        },
        "outputId": "da6bf9a2-36e4-4f94-dcb0-f6d440a526dd"
      },
      "source": [
        "dados[0].head(10)"
      ],
      "execution_count": 31,
      "outputs": [
        {
          "output_type": "execute_result",
          "data": {
            "text/html": [
              "<div>\n",
              "<style scoped>\n",
              "    .dataframe tbody tr th:only-of-type {\n",
              "        vertical-align: middle;\n",
              "    }\n",
              "\n",
              "    .dataframe tbody tr th {\n",
              "        vertical-align: top;\n",
              "    }\n",
              "\n",
              "    .dataframe thead th {\n",
              "        text-align: right;\n",
              "    }\n",
              "</style>\n",
              "<table border=\"1\" class=\"dataframe\">\n",
              "  <thead>\n",
              "    <tr style=\"text-align: right;\">\n",
              "      <th></th>\n",
              "      <th>data</th>\n",
              "      <th>data de último acesso</th>\n",
              "      <th>id</th>\n",
              "      <th>turmaTrilha</th>\n",
              "      <th>atividadesFeitas</th>\n",
              "      <th>atividadesCorretas</th>\n",
              "      <th>atividadesGerais</th>\n",
              "    </tr>\n",
              "  </thead>\n",
              "  <tbody>\n",
              "    <tr>\n",
              "      <th>0</th>\n",
              "      <td>2021-04-19</td>\n",
              "      <td>2021-05-05</td>\n",
              "      <td>589685</td>\n",
              "      <td>12400133</td>\n",
              "      <td>159</td>\n",
              "      <td>126</td>\n",
              "      <td>813.0</td>\n",
              "    </tr>\n",
              "    <tr>\n",
              "      <th>1</th>\n",
              "      <td>2021-04-19</td>\n",
              "      <td>2021-05-03</td>\n",
              "      <td>602784</td>\n",
              "      <td>21406831</td>\n",
              "      <td>129</td>\n",
              "      <td>122</td>\n",
              "      <td>542.0</td>\n",
              "    </tr>\n",
              "    <tr>\n",
              "      <th>2</th>\n",
              "      <td>2021-04-19</td>\n",
              "      <td>2021-04-26</td>\n",
              "      <td>608608</td>\n",
              "      <td>24400531</td>\n",
              "      <td>104</td>\n",
              "      <td>97</td>\n",
              "      <td>393.0</td>\n",
              "    </tr>\n",
              "    <tr>\n",
              "      <th>3</th>\n",
              "      <td>2021-04-19</td>\n",
              "      <td>2021-05-03</td>\n",
              "      <td>492948</td>\n",
              "      <td>1656722,22400112</td>\n",
              "      <td>83</td>\n",
              "      <td>83</td>\n",
              "      <td>269.0</td>\n",
              "    </tr>\n",
              "    <tr>\n",
              "      <th>4</th>\n",
              "      <td>2021-04-19</td>\n",
              "      <td>2021-05-04</td>\n",
              "      <td>519898</td>\n",
              "      <td>21900101</td>\n",
              "      <td>82</td>\n",
              "      <td>81</td>\n",
              "      <td>309.0</td>\n",
              "    </tr>\n",
              "    <tr>\n",
              "      <th>5</th>\n",
              "      <td>2021-04-19</td>\n",
              "      <td>2021-04-25</td>\n",
              "      <td>487571</td>\n",
              "      <td>24400232</td>\n",
              "      <td>73</td>\n",
              "      <td>73</td>\n",
              "      <td>320.0</td>\n",
              "    </tr>\n",
              "    <tr>\n",
              "      <th>6</th>\n",
              "      <td>2021-04-19</td>\n",
              "      <td>2021-05-05</td>\n",
              "      <td>594650</td>\n",
              "      <td>12407331</td>\n",
              "      <td>83</td>\n",
              "      <td>70</td>\n",
              "      <td>476.0</td>\n",
              "    </tr>\n",
              "    <tr>\n",
              "      <th>7</th>\n",
              "      <td>2021-04-19</td>\n",
              "      <td>2021-05-06</td>\n",
              "      <td>566760</td>\n",
              "      <td>11400411</td>\n",
              "      <td>80</td>\n",
              "      <td>68</td>\n",
              "      <td>431.0</td>\n",
              "    </tr>\n",
              "    <tr>\n",
              "      <th>8</th>\n",
              "      <td>2021-04-19</td>\n",
              "      <td>2021-04-20</td>\n",
              "      <td>601746</td>\n",
              "      <td>21405731</td>\n",
              "      <td>70</td>\n",
              "      <td>67</td>\n",
              "      <td>364.0</td>\n",
              "    </tr>\n",
              "    <tr>\n",
              "      <th>9</th>\n",
              "      <td>2021-04-19</td>\n",
              "      <td>2021-05-04</td>\n",
              "      <td>596252</td>\n",
              "      <td>12408231</td>\n",
              "      <td>67</td>\n",
              "      <td>66</td>\n",
              "      <td>266.0</td>\n",
              "    </tr>\n",
              "  </tbody>\n",
              "</table>\n",
              "</div>"
            ],
            "text/plain": [
              "         data data de último acesso  ...  atividadesCorretas atividadesGerais\n",
              "0  2021-04-19            2021-05-05  ...                 126            813.0\n",
              "1  2021-04-19            2021-05-03  ...                 122            542.0\n",
              "2  2021-04-19            2021-04-26  ...                  97            393.0\n",
              "3  2021-04-19            2021-05-03  ...                  83            269.0\n",
              "4  2021-04-19            2021-05-04  ...                  81            309.0\n",
              "5  2021-04-19            2021-04-25  ...                  73            320.0\n",
              "6  2021-04-19            2021-05-05  ...                  70            476.0\n",
              "7  2021-04-19            2021-05-06  ...                  68            431.0\n",
              "8  2021-04-19            2021-04-20  ...                  67            364.0\n",
              "9  2021-04-19            2021-05-04  ...                  66            266.0\n",
              "\n",
              "[10 rows x 7 columns]"
            ]
          },
          "metadata": {},
          "execution_count": 31
        }
      ]
    },
    {
      "cell_type": "code",
      "metadata": {
        "id": "S4_CZrV6V_I2"
      },
      "source": [
        "index = dados[0].turmaTrilha.str.find(',') > 0"
      ],
      "execution_count": 32,
      "outputs": []
    },
    {
      "cell_type": "code",
      "metadata": {
        "colab": {
          "base_uri": "https://localhost:8080/"
        },
        "id": "IHJbUrK-Y90a",
        "outputId": "9b4b6b5a-7800-43eb-c1eb-28e4f923a49c"
      },
      "source": [
        "index"
      ],
      "execution_count": 33,
      "outputs": [
        {
          "output_type": "execute_result",
          "data": {
            "text/plain": [
              "0        False\n",
              "1        False\n",
              "2        False\n",
              "3         True\n",
              "4        False\n",
              "         ...  \n",
              "67482    False\n",
              "67483    False\n",
              "67484    False\n",
              "67485    False\n",
              "67486    False\n",
              "Name: turmaTrilha, Length: 67487, dtype: bool"
            ]
          },
          "metadata": {},
          "execution_count": 33
        }
      ]
    },
    {
      "cell_type": "code",
      "metadata": {
        "colab": {
          "base_uri": "https://localhost:8080/"
        },
        "id": "o2pWrFqKWymZ",
        "outputId": "7be75be7-778b-4a21-b577-1205dff06e0e"
      },
      "source": [
        "index.value_counts()"
      ],
      "execution_count": 34,
      "outputs": [
        {
          "output_type": "execute_result",
          "data": {
            "text/plain": [
              "False    67022\n",
              "True       465\n",
              "Name: turmaTrilha, dtype: int64"
            ]
          },
          "metadata": {},
          "execution_count": 34
        }
      ]
    },
    {
      "cell_type": "code",
      "metadata": {
        "colab": {
          "base_uri": "https://localhost:8080/",
          "height": 35
        },
        "id": "8khfcJAHXBlf",
        "outputId": "8b8da920-b63a-4c2d-f198-6a6ee53a27da"
      },
      "source": [
        " dados[0].turmaTrilha[3].split(',')[1]"
      ],
      "execution_count": 35,
      "outputs": [
        {
          "output_type": "execute_result",
          "data": {
            "application/vnd.google.colaboratory.intrinsic+json": {
              "type": "string"
            },
            "text/plain": [
              "'22400112'"
            ]
          },
          "metadata": {},
          "execution_count": 35
        }
      ]
    },
    {
      "cell_type": "code",
      "metadata": {
        "id": "9zCY5xmCU39V"
      },
      "source": [
        "for j in range(26):\n",
        "  index = dados[j].turmaTrilha.str.find(',') > 0\n",
        "  for i in range(index.count()):\n",
        "    if (index[i] == True):\n",
        "      dados[j].turmaTrilha[i] = dados[j].turmaTrilha[i].split(',')[1]"
      ],
      "execution_count": 36,
      "outputs": []
    },
    {
      "cell_type": "code",
      "metadata": {
        "colab": {
          "base_uri": "https://localhost:8080/",
          "height": 423
        },
        "id": "E8SW3-FQYkuQ",
        "outputId": "20a36e71-e8f0-4edf-c5da-e5fefe6486dc"
      },
      "source": [
        "dados[9].head(100)"
      ],
      "execution_count": 37,
      "outputs": [
        {
          "output_type": "execute_result",
          "data": {
            "text/html": [
              "<div>\n",
              "<style scoped>\n",
              "    .dataframe tbody tr th:only-of-type {\n",
              "        vertical-align: middle;\n",
              "    }\n",
              "\n",
              "    .dataframe tbody tr th {\n",
              "        vertical-align: top;\n",
              "    }\n",
              "\n",
              "    .dataframe thead th {\n",
              "        text-align: right;\n",
              "    }\n",
              "</style>\n",
              "<table border=\"1\" class=\"dataframe\">\n",
              "  <thead>\n",
              "    <tr style=\"text-align: right;\">\n",
              "      <th></th>\n",
              "      <th>data</th>\n",
              "      <th>data de último acesso</th>\n",
              "      <th>id</th>\n",
              "      <th>turmaTrilha</th>\n",
              "      <th>atividadesFeitas</th>\n",
              "      <th>atividadesCorretas</th>\n",
              "      <th>atividadesGerais</th>\n",
              "    </tr>\n",
              "  </thead>\n",
              "  <tbody>\n",
              "    <tr>\n",
              "      <th>0</th>\n",
              "      <td>2021-06-21</td>\n",
              "      <td>2021-06-24</td>\n",
              "      <td>597991</td>\n",
              "      <td>21400432</td>\n",
              "      <td>169</td>\n",
              "      <td>161</td>\n",
              "      <td>683.0</td>\n",
              "    </tr>\n",
              "    <tr>\n",
              "      <th>1</th>\n",
              "      <td>2021-06-21</td>\n",
              "      <td>2021-06-24</td>\n",
              "      <td>586482</td>\n",
              "      <td>11402231</td>\n",
              "      <td>149</td>\n",
              "      <td>143</td>\n",
              "      <td>579.0</td>\n",
              "    </tr>\n",
              "    <tr>\n",
              "      <th>2</th>\n",
              "      <td>2021-06-21</td>\n",
              "      <td>2021-06-22</td>\n",
              "      <td>735653</td>\n",
              "      <td>1670439</td>\n",
              "      <td>144</td>\n",
              "      <td>140</td>\n",
              "      <td>542.0</td>\n",
              "    </tr>\n",
              "    <tr>\n",
              "      <th>3</th>\n",
              "      <td>2021-06-21</td>\n",
              "      <td>2021-06-22</td>\n",
              "      <td>774855</td>\n",
              "      <td>11401611</td>\n",
              "      <td>155</td>\n",
              "      <td>131</td>\n",
              "      <td>606.0</td>\n",
              "    </tr>\n",
              "    <tr>\n",
              "      <th>4</th>\n",
              "      <td>2021-06-21</td>\n",
              "      <td>2021-06-24</td>\n",
              "      <td>568594</td>\n",
              "      <td>11400911</td>\n",
              "      <td>122</td>\n",
              "      <td>117</td>\n",
              "      <td>466.0</td>\n",
              "    </tr>\n",
              "    <tr>\n",
              "      <th>...</th>\n",
              "      <td>...</td>\n",
              "      <td>...</td>\n",
              "      <td>...</td>\n",
              "      <td>...</td>\n",
              "      <td>...</td>\n",
              "      <td>...</td>\n",
              "      <td>...</td>\n",
              "    </tr>\n",
              "    <tr>\n",
              "      <th>95</th>\n",
              "      <td>2021-06-21</td>\n",
              "      <td>2021-06-24</td>\n",
              "      <td>596958</td>\n",
              "      <td>12409431</td>\n",
              "      <td>30</td>\n",
              "      <td>29</td>\n",
              "      <td>93.0</td>\n",
              "    </tr>\n",
              "    <tr>\n",
              "      <th>96</th>\n",
              "      <td>2021-06-21</td>\n",
              "      <td>2021-06-24</td>\n",
              "      <td>566420</td>\n",
              "      <td>25900201</td>\n",
              "      <td>31</td>\n",
              "      <td>29</td>\n",
              "      <td>177.0</td>\n",
              "    </tr>\n",
              "    <tr>\n",
              "      <th>97</th>\n",
              "      <td>2021-06-21</td>\n",
              "      <td>2021-06-25</td>\n",
              "      <td>576570</td>\n",
              "      <td>11413511</td>\n",
              "      <td>29</td>\n",
              "      <td>29</td>\n",
              "      <td>92.0</td>\n",
              "    </tr>\n",
              "    <tr>\n",
              "      <th>98</th>\n",
              "      <td>2021-06-21</td>\n",
              "      <td>2021-06-23</td>\n",
              "      <td>573088</td>\n",
              "      <td>11408611</td>\n",
              "      <td>33</td>\n",
              "      <td>29</td>\n",
              "      <td>108.0</td>\n",
              "    </tr>\n",
              "    <tr>\n",
              "      <th>99</th>\n",
              "      <td>2021-06-21</td>\n",
              "      <td>2021-06-24</td>\n",
              "      <td>728656</td>\n",
              "      <td>1663348</td>\n",
              "      <td>30</td>\n",
              "      <td>29</td>\n",
              "      <td>135.0</td>\n",
              "    </tr>\n",
              "  </tbody>\n",
              "</table>\n",
              "<p>100 rows × 7 columns</p>\n",
              "</div>"
            ],
            "text/plain": [
              "          data data de último acesso  ...  atividadesCorretas atividadesGerais\n",
              "0   2021-06-21            2021-06-24  ...                 161            683.0\n",
              "1   2021-06-21            2021-06-24  ...                 143            579.0\n",
              "2   2021-06-21            2021-06-22  ...                 140            542.0\n",
              "3   2021-06-21            2021-06-22  ...                 131            606.0\n",
              "4   2021-06-21            2021-06-24  ...                 117            466.0\n",
              "..         ...                   ...  ...                 ...              ...\n",
              "95  2021-06-21            2021-06-24  ...                  29             93.0\n",
              "96  2021-06-21            2021-06-24  ...                  29            177.0\n",
              "97  2021-06-21            2021-06-25  ...                  29             92.0\n",
              "98  2021-06-21            2021-06-23  ...                  29            108.0\n",
              "99  2021-06-21            2021-06-24  ...                  29            135.0\n",
              "\n",
              "[100 rows x 7 columns]"
            ]
          },
          "metadata": {},
          "execution_count": 37
        }
      ]
    },
    {
      "cell_type": "code",
      "metadata": {
        "id": "ta80MurntPxT"
      },
      "source": [
        "renomear = {'data' : 'data',\n",
        "            'data de último acesso' : 'data_ultimo_acesso',\n",
        "            'id' : 'id',\n",
        "            'turmaTrilha':'turmaTrilha',\n",
        "            'atividadesFeitas':'atividadesFeitas',\n",
        "            'atividadesCorretas':'atividadesCorretas',\n",
        "            'atividadesGerais': 'atividadesGerais'}"
      ],
      "execution_count": 38,
      "outputs": []
    },
    {
      "cell_type": "code",
      "metadata": {
        "id": "w1G1ghzltmTG",
        "colab": {
          "base_uri": "https://localhost:8080/",
          "height": 206
        },
        "outputId": "8a83ef13-edf2-456f-99e4-42ac129f3379"
      },
      "source": [
        "for f in range(26):\n",
        "  dados[f] = dados[f].rename(columns=renomear)\n",
        "\n",
        "dados[23].head()"
      ],
      "execution_count": 39,
      "outputs": [
        {
          "output_type": "execute_result",
          "data": {
            "text/html": [
              "<div>\n",
              "<style scoped>\n",
              "    .dataframe tbody tr th:only-of-type {\n",
              "        vertical-align: middle;\n",
              "    }\n",
              "\n",
              "    .dataframe tbody tr th {\n",
              "        vertical-align: top;\n",
              "    }\n",
              "\n",
              "    .dataframe thead th {\n",
              "        text-align: right;\n",
              "    }\n",
              "</style>\n",
              "<table border=\"1\" class=\"dataframe\">\n",
              "  <thead>\n",
              "    <tr style=\"text-align: right;\">\n",
              "      <th></th>\n",
              "      <th>data</th>\n",
              "      <th>data_ultimo_acesso</th>\n",
              "      <th>id</th>\n",
              "      <th>turmaTrilha</th>\n",
              "      <th>atividadesFeitas</th>\n",
              "      <th>atividadesCorretas</th>\n",
              "      <th>atividadesGerais</th>\n",
              "    </tr>\n",
              "  </thead>\n",
              "  <tbody>\n",
              "    <tr>\n",
              "      <th>0</th>\n",
              "      <td>2021-09-27</td>\n",
              "      <td>2021-09-30</td>\n",
              "      <td>731210</td>\n",
              "      <td>1664749</td>\n",
              "      <td>225</td>\n",
              "      <td>221</td>\n",
              "      <td>856.0</td>\n",
              "    </tr>\n",
              "    <tr>\n",
              "      <th>1</th>\n",
              "      <td>2021-09-27</td>\n",
              "      <td>2021-09-30</td>\n",
              "      <td>601926</td>\n",
              "      <td>21400432</td>\n",
              "      <td>214</td>\n",
              "      <td>211</td>\n",
              "      <td>868.0</td>\n",
              "    </tr>\n",
              "    <tr>\n",
              "      <th>2</th>\n",
              "      <td>2021-09-27</td>\n",
              "      <td>2021-10-01</td>\n",
              "      <td>733995</td>\n",
              "      <td>1664785</td>\n",
              "      <td>233</td>\n",
              "      <td>197</td>\n",
              "      <td>868.0</td>\n",
              "    </tr>\n",
              "    <tr>\n",
              "      <th>3</th>\n",
              "      <td>2021-09-27</td>\n",
              "      <td>2021-10-03</td>\n",
              "      <td>730025</td>\n",
              "      <td>1664773</td>\n",
              "      <td>180</td>\n",
              "      <td>172</td>\n",
              "      <td>703.0</td>\n",
              "    </tr>\n",
              "    <tr>\n",
              "      <th>4</th>\n",
              "      <td>2021-09-27</td>\n",
              "      <td>2021-10-02</td>\n",
              "      <td>738058</td>\n",
              "      <td>1690529</td>\n",
              "      <td>169</td>\n",
              "      <td>161</td>\n",
              "      <td>666.0</td>\n",
              "    </tr>\n",
              "  </tbody>\n",
              "</table>\n",
              "</div>"
            ],
            "text/plain": [
              "         data data_ultimo_acesso  ...  atividadesCorretas atividadesGerais\n",
              "0  2021-09-27         2021-09-30  ...                 221            856.0\n",
              "1  2021-09-27         2021-09-30  ...                 211            868.0\n",
              "2  2021-09-27         2021-10-01  ...                 197            868.0\n",
              "3  2021-09-27         2021-10-03  ...                 172            703.0\n",
              "4  2021-09-27         2021-10-02  ...                 161            666.0\n",
              "\n",
              "[5 rows x 7 columns]"
            ]
          },
          "metadata": {},
          "execution_count": 39
        }
      ]
    },
    {
      "cell_type": "markdown",
      "metadata": {
        "id": "xKpTwsx4mKvW"
      },
      "source": [
        "# Número de estudantes no Edutech"
      ]
    },
    {
      "cell_type": "code",
      "metadata": {
        "id": "Fx2Hr47Xmrhc",
        "colab": {
          "base_uri": "https://localhost:8080/"
        },
        "outputId": "d168ced8-4365-4a6f-d920-ea6d00947ad5"
      },
      "source": [
        "EstudantesEdutech = [];\n",
        "for f in range(26):\n",
        "  print('Na {} semana, estudantes = {}'.format(f+1,dados[f].data.count()))\n",
        "  EstudantesEdutech.append(dados[f].data.count())"
      ],
      "execution_count": 40,
      "outputs": [
        {
          "output_type": "stream",
          "name": "stdout",
          "text": [
            "Na 1 semana, estudantes = 67487\n",
            "Na 2 semana, estudantes = 67487\n",
            "Na 3 semana, estudantes = 67487\n",
            "Na 4 semana, estudantes = 67487\n",
            "Na 5 semana, estudantes = 67488\n",
            "Na 6 semana, estudantes = 67745\n",
            "Na 7 semana, estudantes = 70776\n",
            "Na 8 semana, estudantes = 70842\n",
            "Na 9 semana, estudantes = 47923\n",
            "Na 10 semana, estudantes = 48010\n",
            "Na 11 semana, estudantes = 48008\n",
            "Na 12 semana, estudantes = 48511\n",
            "Na 13 semana, estudantes = 48512\n",
            "Na 14 semana, estudantes = 48719\n",
            "Na 15 semana, estudantes = 46581\n",
            "Na 16 semana, estudantes = 46704\n",
            "Na 17 semana, estudantes = 46668\n",
            "Na 18 semana, estudantes = 34791\n",
            "Na 19 semana, estudantes = 38232\n",
            "Na 20 semana, estudantes = 40717\n",
            "Na 21 semana, estudantes = 41896\n",
            "Na 22 semana, estudantes = 41902\n",
            "Na 23 semana, estudantes = 42268\n",
            "Na 24 semana, estudantes = 42548\n",
            "Na 25 semana, estudantes = 42668\n",
            "Na 26 semana, estudantes = 42415\n"
          ]
        }
      ]
    },
    {
      "cell_type": "code",
      "metadata": {
        "colab": {
          "base_uri": "https://localhost:8080/"
        },
        "id": "8RvtF0KIhHrM",
        "outputId": "9edfd962-fe7c-475e-a387-7adca1e6a202"
      },
      "source": [
        "EstudantesEdutech"
      ],
      "execution_count": 41,
      "outputs": [
        {
          "output_type": "execute_result",
          "data": {
            "text/plain": [
              "[67487,\n",
              " 67487,\n",
              " 67487,\n",
              " 67487,\n",
              " 67488,\n",
              " 67745,\n",
              " 70776,\n",
              " 70842,\n",
              " 47923,\n",
              " 48010,\n",
              " 48008,\n",
              " 48511,\n",
              " 48512,\n",
              " 48719,\n",
              " 46581,\n",
              " 46704,\n",
              " 46668,\n",
              " 34791,\n",
              " 38232,\n",
              " 40717,\n",
              " 41896,\n",
              " 41902,\n",
              " 42268,\n",
              " 42548,\n",
              " 42668,\n",
              " 42415]"
            ]
          },
          "metadata": {},
          "execution_count": 41
        }
      ]
    },
    {
      "cell_type": "code",
      "metadata": {
        "id": "pPZDJscow3Yj",
        "colab": {
          "base_uri": "https://localhost:8080/"
        },
        "outputId": "4f42ccdc-f1cc-4309-dfa4-52f1a682b858"
      },
      "source": [
        "print('Na semana {} foram incluidos {} estudantes no programa Edutech'.format(7,\n",
        "                                                                              dados[6].data.count() - dados[5].data.count()))"
      ],
      "execution_count": 42,
      "outputs": [
        {
          "output_type": "stream",
          "name": "stdout",
          "text": [
            "Na semana 7 foram incluidos 3031 estudantes no programa Edutech\n"
          ]
        }
      ]
    },
    {
      "cell_type": "code",
      "metadata": {
        "id": "udgzlXN9xB0D",
        "colab": {
          "base_uri": "https://localhost:8080/"
        },
        "outputId": "ac4e5493-239d-4e69-8abe-607a33b1ab83"
      },
      "source": [
        "print('Na 9 semana, foram excluídos {} estudantes do programa Edutech'.format(dados[7].data.count() - dados[8].data.count()))"
      ],
      "execution_count": 43,
      "outputs": [
        {
          "output_type": "stream",
          "name": "stdout",
          "text": [
            "Na 9 semana, foram excluídos 22919 estudantes do programa Edutech\n"
          ]
        }
      ]
    },
    {
      "cell_type": "markdown",
      "metadata": {
        "id": "7RSJn1fRjURI"
      },
      "source": [
        "# Criar dias da semana no último acesso"
      ]
    },
    {
      "cell_type": "code",
      "metadata": {
        "id": "tp3-YE2Xumk1"
      },
      "source": [
        "for i in range(26):\n",
        "  dia_da_semana = [];\n",
        "  for f in range(dados[i].data_ultimo_acesso.count()):\n",
        "      temp = pd.Timestamp(dados[i].data_ultimo_acesso[f])\n",
        "      dia_da_semana.append(temp.day_name())\n",
        "  dados[i]['dia_da_semana'] = dia_da_semana\n",
        "  "
      ],
      "execution_count": 44,
      "outputs": []
    },
    {
      "cell_type": "code",
      "metadata": {
        "id": "0FynXo1yq3np",
        "colab": {
          "base_uri": "https://localhost:8080/",
          "height": 206
        },
        "outputId": "971de458-7c0d-4642-f8eb-54116759662b"
      },
      "source": [
        "dados[1].head()"
      ],
      "execution_count": 45,
      "outputs": [
        {
          "output_type": "execute_result",
          "data": {
            "text/html": [
              "<div>\n",
              "<style scoped>\n",
              "    .dataframe tbody tr th:only-of-type {\n",
              "        vertical-align: middle;\n",
              "    }\n",
              "\n",
              "    .dataframe tbody tr th {\n",
              "        vertical-align: top;\n",
              "    }\n",
              "\n",
              "    .dataframe thead th {\n",
              "        text-align: right;\n",
              "    }\n",
              "</style>\n",
              "<table border=\"1\" class=\"dataframe\">\n",
              "  <thead>\n",
              "    <tr style=\"text-align: right;\">\n",
              "      <th></th>\n",
              "      <th>data</th>\n",
              "      <th>data_ultimo_acesso</th>\n",
              "      <th>id</th>\n",
              "      <th>turmaTrilha</th>\n",
              "      <th>atividadesFeitas</th>\n",
              "      <th>atividadesCorretas</th>\n",
              "      <th>atividadesGerais</th>\n",
              "      <th>dia_da_semana</th>\n",
              "    </tr>\n",
              "  </thead>\n",
              "  <tbody>\n",
              "    <tr>\n",
              "      <th>0</th>\n",
              "      <td>2021-04-26</td>\n",
              "      <td>2021-05-05</td>\n",
              "      <td>589712</td>\n",
              "      <td>12400431</td>\n",
              "      <td>165</td>\n",
              "      <td>139</td>\n",
              "      <td>699.0</td>\n",
              "      <td>Wednesday</td>\n",
              "    </tr>\n",
              "    <tr>\n",
              "      <th>1</th>\n",
              "      <td>2021-04-26</td>\n",
              "      <td>2021-05-06</td>\n",
              "      <td>575825</td>\n",
              "      <td>11413411</td>\n",
              "      <td>146</td>\n",
              "      <td>124</td>\n",
              "      <td>726.0</td>\n",
              "      <td>Thursday</td>\n",
              "    </tr>\n",
              "    <tr>\n",
              "      <th>2</th>\n",
              "      <td>2021-04-26</td>\n",
              "      <td>2021-04-28</td>\n",
              "      <td>585090</td>\n",
              "      <td>25400111</td>\n",
              "      <td>131</td>\n",
              "      <td>116</td>\n",
              "      <td>402.0</td>\n",
              "      <td>Wednesday</td>\n",
              "    </tr>\n",
              "    <tr>\n",
              "      <th>3</th>\n",
              "      <td>2021-04-26</td>\n",
              "      <td>2021-04-26</td>\n",
              "      <td>605128</td>\n",
              "      <td>22402231</td>\n",
              "      <td>106</td>\n",
              "      <td>105</td>\n",
              "      <td>394.0</td>\n",
              "      <td>Monday</td>\n",
              "    </tr>\n",
              "    <tr>\n",
              "      <th>4</th>\n",
              "      <td>2021-04-26</td>\n",
              "      <td>2021-05-05</td>\n",
              "      <td>583378</td>\n",
              "      <td>21400911</td>\n",
              "      <td>124</td>\n",
              "      <td>96</td>\n",
              "      <td>464.0</td>\n",
              "      <td>Wednesday</td>\n",
              "    </tr>\n",
              "  </tbody>\n",
              "</table>\n",
              "</div>"
            ],
            "text/plain": [
              "         data data_ultimo_acesso  ...  atividadesGerais dia_da_semana\n",
              "0  2021-04-26         2021-05-05  ...             699.0     Wednesday\n",
              "1  2021-04-26         2021-05-06  ...             726.0      Thursday\n",
              "2  2021-04-26         2021-04-28  ...             402.0     Wednesday\n",
              "3  2021-04-26         2021-04-26  ...             394.0        Monday\n",
              "4  2021-04-26         2021-05-05  ...             464.0     Wednesday\n",
              "\n",
              "[5 rows x 8 columns]"
            ]
          },
          "metadata": {},
          "execution_count": 45
        }
      ]
    },
    {
      "cell_type": "markdown",
      "metadata": {
        "id": "K-wtsVKxjY4d"
      },
      "source": [
        "## Traduzir os dias da semana"
      ]
    },
    {
      "cell_type": "code",
      "metadata": {
        "id": "lGHmg0JSjpEK",
        "colab": {
          "base_uri": "https://localhost:8080/"
        },
        "outputId": "7bfa83d5-7ae4-48de-a5b5-6e9b249d0d64"
      },
      "source": [
        "dados[1].dia_da_semana.unique()"
      ],
      "execution_count": 46,
      "outputs": [
        {
          "output_type": "execute_result",
          "data": {
            "text/plain": [
              "array(['Wednesday', 'Thursday', 'Monday', 'Sunday', 'Saturday', 'Tuesday',\n",
              "       'Friday'], dtype=object)"
            ]
          },
          "metadata": {},
          "execution_count": 46
        }
      ]
    },
    {
      "cell_type": "code",
      "metadata": {
        "id": "Y1LlmPClkauQ"
      },
      "source": [
        "renomear_dia = {\n",
        "    'Wednesday' : 'Quarta',\n",
        "    'Thursday' : 'Quinta',\n",
        "    'Monday' : 'Segunda',\n",
        "    'Sunday' : 'Domingo',\n",
        "    'Saturday' : 'Sabado',\n",
        "    'Tuesday' : 'Terca',\n",
        "    'Friday' : 'Sexta'\n",
        "}"
      ],
      "execution_count": 47,
      "outputs": []
    },
    {
      "cell_type": "code",
      "metadata": {
        "id": "vCs1HMC_k3GG",
        "colab": {
          "base_uri": "https://localhost:8080/",
          "height": 206
        },
        "outputId": "9769be88-e2c8-4983-c654-51b6b1d781d9"
      },
      "source": [
        "for i in range(26):\n",
        "  dados[i].dia_da_semana = dados[i].dia_da_semana.map(renomear_dia)\n",
        "\n",
        "dados[1].head()"
      ],
      "execution_count": 48,
      "outputs": [
        {
          "output_type": "execute_result",
          "data": {
            "text/html": [
              "<div>\n",
              "<style scoped>\n",
              "    .dataframe tbody tr th:only-of-type {\n",
              "        vertical-align: middle;\n",
              "    }\n",
              "\n",
              "    .dataframe tbody tr th {\n",
              "        vertical-align: top;\n",
              "    }\n",
              "\n",
              "    .dataframe thead th {\n",
              "        text-align: right;\n",
              "    }\n",
              "</style>\n",
              "<table border=\"1\" class=\"dataframe\">\n",
              "  <thead>\n",
              "    <tr style=\"text-align: right;\">\n",
              "      <th></th>\n",
              "      <th>data</th>\n",
              "      <th>data_ultimo_acesso</th>\n",
              "      <th>id</th>\n",
              "      <th>turmaTrilha</th>\n",
              "      <th>atividadesFeitas</th>\n",
              "      <th>atividadesCorretas</th>\n",
              "      <th>atividadesGerais</th>\n",
              "      <th>dia_da_semana</th>\n",
              "    </tr>\n",
              "  </thead>\n",
              "  <tbody>\n",
              "    <tr>\n",
              "      <th>0</th>\n",
              "      <td>2021-04-26</td>\n",
              "      <td>2021-05-05</td>\n",
              "      <td>589712</td>\n",
              "      <td>12400431</td>\n",
              "      <td>165</td>\n",
              "      <td>139</td>\n",
              "      <td>699.0</td>\n",
              "      <td>Quarta</td>\n",
              "    </tr>\n",
              "    <tr>\n",
              "      <th>1</th>\n",
              "      <td>2021-04-26</td>\n",
              "      <td>2021-05-06</td>\n",
              "      <td>575825</td>\n",
              "      <td>11413411</td>\n",
              "      <td>146</td>\n",
              "      <td>124</td>\n",
              "      <td>726.0</td>\n",
              "      <td>Quinta</td>\n",
              "    </tr>\n",
              "    <tr>\n",
              "      <th>2</th>\n",
              "      <td>2021-04-26</td>\n",
              "      <td>2021-04-28</td>\n",
              "      <td>585090</td>\n",
              "      <td>25400111</td>\n",
              "      <td>131</td>\n",
              "      <td>116</td>\n",
              "      <td>402.0</td>\n",
              "      <td>Quarta</td>\n",
              "    </tr>\n",
              "    <tr>\n",
              "      <th>3</th>\n",
              "      <td>2021-04-26</td>\n",
              "      <td>2021-04-26</td>\n",
              "      <td>605128</td>\n",
              "      <td>22402231</td>\n",
              "      <td>106</td>\n",
              "      <td>105</td>\n",
              "      <td>394.0</td>\n",
              "      <td>Segunda</td>\n",
              "    </tr>\n",
              "    <tr>\n",
              "      <th>4</th>\n",
              "      <td>2021-04-26</td>\n",
              "      <td>2021-05-05</td>\n",
              "      <td>583378</td>\n",
              "      <td>21400911</td>\n",
              "      <td>124</td>\n",
              "      <td>96</td>\n",
              "      <td>464.0</td>\n",
              "      <td>Quarta</td>\n",
              "    </tr>\n",
              "  </tbody>\n",
              "</table>\n",
              "</div>"
            ],
            "text/plain": [
              "         data data_ultimo_acesso  ...  atividadesGerais dia_da_semana\n",
              "0  2021-04-26         2021-05-05  ...             699.0        Quarta\n",
              "1  2021-04-26         2021-05-06  ...             726.0        Quinta\n",
              "2  2021-04-26         2021-04-28  ...             402.0        Quarta\n",
              "3  2021-04-26         2021-04-26  ...             394.0       Segunda\n",
              "4  2021-04-26         2021-05-05  ...             464.0        Quarta\n",
              "\n",
              "[5 rows x 8 columns]"
            ]
          },
          "metadata": {},
          "execution_count": 48
        }
      ]
    },
    {
      "cell_type": "code",
      "metadata": {
        "id": "0SFnSLbTm6vI",
        "colab": {
          "base_uri": "https://localhost:8080/"
        },
        "outputId": "df5ea2ef-3a99-4f02-f5c1-c15c7f046dca"
      },
      "source": [
        "dados[2].dia_da_semana.unique()"
      ],
      "execution_count": 49,
      "outputs": [
        {
          "output_type": "execute_result",
          "data": {
            "text/plain": [
              "array(['Sexta', 'Domingo', 'Quinta', 'Terca', 'Segunda', 'Sabado',\n",
              "       'Quarta'], dtype=object)"
            ]
          },
          "metadata": {},
          "execution_count": 49
        }
      ]
    },
    {
      "cell_type": "markdown",
      "metadata": {
        "id": "XXB4xGJ7nXa8"
      },
      "source": [
        "## Coletando o número de alunos ativos"
      ]
    },
    {
      "cell_type": "code",
      "metadata": {
        "id": "CKAPKKdpl_mX",
        "colab": {
          "base_uri": "https://localhost:8080/"
        },
        "outputId": "b8c886b2-11f8-4e88-fe9e-baa3e4e8b8d9"
      },
      "source": [
        "for i in range(26):\n",
        "  print('Na {} semana, o número de estudantes ativos no Edutech é de {}'.format(i+1,dados[i][dados[i]['atividadesGerais'].notnull()].data.count()))"
      ],
      "execution_count": 50,
      "outputs": [
        {
          "output_type": "stream",
          "name": "stdout",
          "text": [
            "Na 1 semana, o número de estudantes ativos no Edutech é de 6358\n",
            "Na 2 semana, o número de estudantes ativos no Edutech é de 6619\n",
            "Na 3 semana, o número de estudantes ativos no Edutech é de 6664\n",
            "Na 4 semana, o número de estudantes ativos no Edutech é de 6696\n",
            "Na 5 semana, o número de estudantes ativos no Edutech é de 6485\n",
            "Na 6 semana, o número de estudantes ativos no Edutech é de 6879\n",
            "Na 7 semana, o número de estudantes ativos no Edutech é de 5592\n",
            "Na 8 semana, o número de estudantes ativos no Edutech é de 6439\n",
            "Na 9 semana, o número de estudantes ativos no Edutech é de 6538\n",
            "Na 10 semana, o número de estudantes ativos no Edutech é de 6352\n",
            "Na 11 semana, o número de estudantes ativos no Edutech é de 5395\n",
            "Na 12 semana, o número de estudantes ativos no Edutech é de 4297\n",
            "Na 13 semana, o número de estudantes ativos no Edutech é de 1401\n",
            "Na 14 semana, o número de estudantes ativos no Edutech é de 3676\n",
            "Na 15 semana, o número de estudantes ativos no Edutech é de 5321\n",
            "Na 16 semana, o número de estudantes ativos no Edutech é de 5499\n",
            "Na 17 semana, o número de estudantes ativos no Edutech é de 5457\n",
            "Na 18 semana, o número de estudantes ativos no Edutech é de 5424\n",
            "Na 19 semana, o número de estudantes ativos no Edutech é de 5689\n",
            "Na 20 semana, o número de estudantes ativos no Edutech é de 6254\n",
            "Na 21 semana, o número de estudantes ativos no Edutech é de 5367\n",
            "Na 22 semana, o número de estudantes ativos no Edutech é de 6964\n",
            "Na 23 semana, o número de estudantes ativos no Edutech é de 7349\n",
            "Na 24 semana, o número de estudantes ativos no Edutech é de 7581\n",
            "Na 25 semana, o número de estudantes ativos no Edutech é de 7520\n",
            "Na 26 semana, o número de estudantes ativos no Edutech é de 5011\n"
          ]
        }
      ]
    },
    {
      "cell_type": "code",
      "metadata": {
        "id": "YM4rYJGkn5Xy",
        "colab": {
          "base_uri": "https://localhost:8080/"
        },
        "outputId": "2beba453-891f-4961-b0a7-a472ffb76fc3"
      },
      "source": [
        "for i in range(26):\n",
        "  print('Na semana {} tivemos {} % de estudantes ativos.'.format(i+1,(dados[i][dados[i]['atividadesGerais'].notnull()].data.count()/dados[i].data.count()*100).round(2)))\n"
      ],
      "execution_count": 51,
      "outputs": [
        {
          "output_type": "stream",
          "name": "stdout",
          "text": [
            "Na semana 1 tivemos 9.42 % de estudantes ativos.\n",
            "Na semana 2 tivemos 9.81 % de estudantes ativos.\n",
            "Na semana 3 tivemos 9.87 % de estudantes ativos.\n",
            "Na semana 4 tivemos 9.92 % de estudantes ativos.\n",
            "Na semana 5 tivemos 9.61 % de estudantes ativos.\n",
            "Na semana 6 tivemos 10.15 % de estudantes ativos.\n",
            "Na semana 7 tivemos 7.9 % de estudantes ativos.\n",
            "Na semana 8 tivemos 9.09 % de estudantes ativos.\n",
            "Na semana 9 tivemos 13.64 % de estudantes ativos.\n",
            "Na semana 10 tivemos 13.23 % de estudantes ativos.\n",
            "Na semana 11 tivemos 11.24 % de estudantes ativos.\n",
            "Na semana 12 tivemos 8.86 % de estudantes ativos.\n",
            "Na semana 13 tivemos 2.89 % de estudantes ativos.\n",
            "Na semana 14 tivemos 7.55 % de estudantes ativos.\n",
            "Na semana 15 tivemos 11.42 % de estudantes ativos.\n",
            "Na semana 16 tivemos 11.77 % de estudantes ativos.\n",
            "Na semana 17 tivemos 11.69 % de estudantes ativos.\n",
            "Na semana 18 tivemos 15.59 % de estudantes ativos.\n",
            "Na semana 19 tivemos 14.88 % de estudantes ativos.\n",
            "Na semana 20 tivemos 15.36 % de estudantes ativos.\n",
            "Na semana 21 tivemos 12.81 % de estudantes ativos.\n",
            "Na semana 22 tivemos 16.62 % de estudantes ativos.\n",
            "Na semana 23 tivemos 17.39 % de estudantes ativos.\n",
            "Na semana 24 tivemos 17.82 % de estudantes ativos.\n",
            "Na semana 25 tivemos 17.62 % de estudantes ativos.\n",
            "Na semana 26 tivemos 11.81 % de estudantes ativos.\n"
          ]
        }
      ]
    },
    {
      "cell_type": "markdown",
      "metadata": {
        "id": "G1wthKKIcmwL"
      },
      "source": [
        "# Classificar os estudantes em trilhas\n"
      ]
    },
    {
      "cell_type": "code",
      "metadata": {
        "colab": {
          "base_uri": "https://localhost:8080/"
        },
        "id": "D67xWQB4HWyy",
        "outputId": "7b947c0e-71d4-4548-86c7-6c70d2ecc951"
      },
      "source": [
        "len('11400513')"
      ],
      "execution_count": 52,
      "outputs": [
        {
          "output_type": "execute_result",
          "data": {
            "text/plain": [
              "8"
            ]
          },
          "metadata": {},
          "execution_count": 52
        }
      ]
    },
    {
      "cell_type": "code",
      "metadata": {
        "colab": {
          "base_uri": "https://localhost:8080/",
          "height": 35
        },
        "id": "pT07kkaDHKJJ",
        "outputId": "a6dabe6f-f8c4-425d-9411-d227b58b92e6"
      },
      "source": [
        "dados[23]['turmaTrilha'][40]"
      ],
      "execution_count": 53,
      "outputs": [
        {
          "output_type": "execute_result",
          "data": {
            "application/vnd.google.colaboratory.intrinsic+json": {
              "type": "string"
            },
            "text/plain": [
              "'1686370'"
            ]
          },
          "metadata": {},
          "execution_count": 53
        }
      ]
    },
    {
      "cell_type": "code",
      "metadata": {
        "colab": {
          "base_uri": "https://localhost:8080/",
          "height": 35
        },
        "id": "gkDDFvIxcWGa",
        "outputId": "65a73186-588e-4f4d-a69c-820f1f8ab28b"
      },
      "source": [
        "dados[23]['turmaTrilha'][40][0:2]"
      ],
      "execution_count": 54,
      "outputs": [
        {
          "output_type": "execute_result",
          "data": {
            "application/vnd.google.colaboratory.intrinsic+json": {
              "type": "string"
            },
            "text/plain": [
              "'16'"
            ]
          },
          "metadata": {},
          "execution_count": 54
        }
      ]
    },
    {
      "cell_type": "code",
      "metadata": {
        "id": "uzM3dOylksQX"
      },
      "source": [
        "for i in range(26):\n",
        "  dados[i].turmaTrilha.replace('\\xa0','')"
      ],
      "execution_count": 55,
      "outputs": []
    },
    {
      "cell_type": "code",
      "metadata": {
        "id": "mGHsUDJ4MOQm"
      },
      "source": [
        ""
      ],
      "execution_count": 55,
      "outputs": []
    },
    {
      "cell_type": "markdown",
      "metadata": {
        "id": "o_UaQxk0fgsQ"
      },
      "source": [
        "crtl + shift + L"
      ]
    },
    {
      "cell_type": "code",
      "metadata": {
        "id": "ppN3FgzmcpyG"
      },
      "source": [
        "for j in range(26):\n",
        "  dados[j]['Trilha'] = 0\n",
        "  for i in range(dados[j].data.count()):\n",
        "    if len(dados[j]['turmaTrilha'][i]) == 7:\n",
        "      dados[j]['Trilha'][i] = 'ETI'\n",
        "    if len(dados[j]['turmaTrilha'][i]) == 8:\n",
        "      if dados[j]['turmaTrilha'][i][0:2] == '11':\n",
        "        dados[j]['Trilha'][i] = 'Games1'\n",
        "      if dados[j]['turmaTrilha'][i][0:2] == '12':\n",
        "        dados[j]['Trilha'][i] = 'Games2'     \n",
        "      if dados[j]['turmaTrilha'][i][0:2] == '21':\n",
        "        dados[j]['Trilha'][i] = 'FrontEnd'\n",
        "      if dados[j]['turmaTrilha'][i][0:2] == '22':\n",
        "        dados[j]['Trilha'][i] = 'Mobile'    \n",
        "      if dados[j]['turmaTrilha'][i][0:2] == '23':\n",
        "        dados[j]['Trilha'][i] = 'DataScience' \n",
        "      if dados[j]['turmaTrilha'][i][0:2] == '24':\n",
        "        dados[j]['Trilha'][i] = 'Java'     \n",
        "      if dados[j]['turmaTrilha'][i][0:2] == '25':\n",
        "        dados[j]['Trilha'][i] = 'Python'        "
      ],
      "execution_count": null,
      "outputs": []
    },
    {
      "cell_type": "code",
      "metadata": {
        "id": "DWgAgXq0aCtX"
      },
      "source": [
        "dados[0]"
      ],
      "execution_count": null,
      "outputs": []
    },
    {
      "cell_type": "code",
      "metadata": {
        "id": "_cufVAbEkOz3"
      },
      "source": [
        "dados[24].Trilha.value_counts()"
      ],
      "execution_count": null,
      "outputs": []
    },
    {
      "cell_type": "markdown",
      "metadata": {
        "id": "PKZ_2nP1pZti"
      },
      "source": [
        "# Analisando o número de atividades feitas por semana"
      ]
    },
    {
      "cell_type": "code",
      "metadata": {
        "id": "SyHlihzUpT83"
      },
      "source": [
        "alunosAtivosDaSemana = [];\n",
        "for i in range(26):\n",
        "  alunosAtivosDaSemana.append(dados[i].query(\"atividadesGerais > 0\"))"
      ],
      "execution_count": null,
      "outputs": []
    },
    {
      "cell_type": "code",
      "metadata": {
        "id": "PtvHOGcPpYvv"
      },
      "source": [
        "for i in range(26):\n",
        "  print('Na semana {} foram realidas {} atividades'.format(i+1,sum(alunosAtivosDaSemana[i].atividadesFeitas)))"
      ],
      "execution_count": null,
      "outputs": []
    },
    {
      "cell_type": "code",
      "metadata": {
        "id": "L9_lhTDvraO3"
      },
      "source": [
        "grafico = [];\n",
        "for i in range(26):\n",
        "  grafico.append(sum(alunosAtivosDaSemana[i].atividadesFeitas))"
      ],
      "execution_count": null,
      "outputs": []
    },
    {
      "cell_type": "code",
      "metadata": {
        "id": "dfGD5FtOlq47"
      },
      "source": [
        "grafico1 = pd.DataFrame({'atividades feitas por semana' : grafico})\n",
        "grafico1.head()\n",
        "grafico1.plot(kind ='bar',figsize = (20,6))"
      ],
      "execution_count": null,
      "outputs": []
    },
    {
      "cell_type": "markdown",
      "metadata": {
        "id": "bYOuHyIcnRNu"
      },
      "source": [
        "# Número de estudantes ativos no Edutech"
      ]
    },
    {
      "cell_type": "code",
      "metadata": {
        "id": "EPMvZ5_4nQ5s"
      },
      "source": [
        "alunosAtivosDaSemana[1].data.count()"
      ],
      "execution_count": null,
      "outputs": []
    },
    {
      "cell_type": "markdown",
      "metadata": {
        "id": "kweiRO7PXEJ_"
      },
      "source": [
        "# Média de atividades realizadas por alunos de cada Trilha por Semana"
      ]
    },
    {
      "cell_type": "code",
      "metadata": {
        "id": "QXu4HFi7Kcvo"
      },
      "source": [
        "alunosETIAtivos = [];\n",
        "alunosETI=[];\n",
        "for i in range(26):\n",
        "  alunosETIAtivos.append(alunosAtivosDaSemana[i].query(\"Trilha == 'ETI'\"))\n",
        "  alunosETI.append(alunosETIAtivos[i].data.count())"
      ],
      "execution_count": null,
      "outputs": []
    },
    {
      "cell_type": "code",
      "metadata": {
        "id": "ag_YLL1pR4i4"
      },
      "source": [
        "alunosGames1Ativos = [];\n",
        "alunosGames1=[];\n",
        "for i in range(26):\n",
        "  alunosGames1Ativos.append(alunosAtivosDaSemana[i].query(\"Trilha == 'Games1'\"))\n",
        "  alunosGames1.append(alunosGames1Ativos[i].data.count())"
      ],
      "execution_count": null,
      "outputs": []
    },
    {
      "cell_type": "code",
      "metadata": {
        "id": "HnpMsZhgmRTl"
      },
      "source": [
        "alunosGames2Ativos = [];\n",
        "alunosGames2=[];\n",
        "for i in range(26):\n",
        "  alunosGames2Ativos.append(alunosAtivosDaSemana[i].query(\"Trilha == 'Games2'\"))\n",
        "  alunosGames2.append(alunosGames2Ativos[i].data.count())"
      ],
      "execution_count": null,
      "outputs": []
    },
    {
      "cell_type": "code",
      "metadata": {
        "id": "QNt0dzNZmgOS"
      },
      "source": [
        "alunosFrontEndAtivos = [];\n",
        "alunosFrontEnd=[];\n",
        "for i in range(26):\n",
        "  alunosFrontEndAtivos.append(alunosAtivosDaSemana[i].query(\"Trilha == 'FrontEnd'\"))\n",
        "  alunosFrontEnd.append(alunosFrontEndAtivos[i].data.count())"
      ],
      "execution_count": null,
      "outputs": []
    },
    {
      "cell_type": "code",
      "metadata": {
        "id": "cP_bR2Mhn939"
      },
      "source": [
        "alunosMobileAtivos = [];\n",
        "alunosMobile=[];\n",
        "for i in range(26):\n",
        "  alunosMobileAtivos.append(alunosAtivosDaSemana[i].query(\"Trilha == 'Mobile'\"))\n",
        "  alunosMobile.append(alunosMobileAtivos[i].data.count())"
      ],
      "execution_count": null,
      "outputs": []
    },
    {
      "cell_type": "code",
      "metadata": {
        "id": "ZqiBgQZkBNRR"
      },
      "source": [
        "alunosDataScienceAtivos = [];\n",
        "alunosDataScience=[];\n",
        "for i in range(26):\n",
        "  alunosDataScienceAtivos.append(alunosAtivosDaSemana[i].query(\"Trilha == 'DataScience'\"))\n",
        "  alunosDataScience.append(alunosDataScienceAtivos[i].data.count())"
      ],
      "execution_count": null,
      "outputs": []
    },
    {
      "cell_type": "code",
      "metadata": {
        "id": "YzZHEpZSBQa6"
      },
      "source": [
        "alunosJavaAtivos = [];\n",
        "alunosJava=[];\n",
        "for i in range(26):\n",
        "  alunosJavaAtivos.append(alunosAtivosDaSemana[i].query(\"Trilha == 'Java'\"))\n",
        "  alunosJava.append(alunosJavaAtivos[i].data.count())"
      ],
      "execution_count": null,
      "outputs": []
    },
    {
      "cell_type": "code",
      "metadata": {
        "id": "XRJvbgJYBTNM"
      },
      "source": [
        "alunosPythonAtivos = [];\n",
        "alunosPython=[];\n",
        "for i in range(26):\n",
        "  alunosPythonAtivos.append(alunosAtivosDaSemana[i].query(\"Trilha == 'Python'\"))\n",
        "  alunosPython.append(alunosPythonAtivos[i].data.count())"
      ],
      "execution_count": null,
      "outputs": []
    },
    {
      "cell_type": "code",
      "metadata": {
        "id": "fimwbbDqV-j0"
      },
      "source": [
        "dados[24].groupby('Trilha').mean().atividadesGerais.sort_values()"
      ],
      "execution_count": null,
      "outputs": []
    },
    {
      "cell_type": "code",
      "metadata": {
        "id": "eNKHKACvR7XM"
      },
      "source": [
        "teste = pd.DataFrame({'alunos_de_DataScience': alunosDataScience , 'alunos_de_FrontEnd': alunosFrontEnd,'alunos_de_Mobile': alunosMobile, 'alunos_de_Python': alunosPython, 'alunos_de_Java': alunosJava})"
      ],
      "execution_count": null,
      "outputs": []
    },
    {
      "cell_type": "code",
      "metadata": {
        "id": "bo7WeXjBVQhS"
      },
      "source": [
        "teste.head()"
      ],
      "execution_count": null,
      "outputs": []
    },
    {
      "cell_type": "code",
      "metadata": {
        "id": "lkUwQ4ueUxrS"
      },
      "source": [
        "teste.plot(kind = 'box',\n",
        "           figsize = (20,6))"
      ],
      "execution_count": null,
      "outputs": []
    },
    {
      "cell_type": "markdown",
      "metadata": {
        "id": "vyN5uUzmnxv9"
      },
      "source": [
        "# Gráficos"
      ]
    },
    {
      "cell_type": "code",
      "metadata": {
        "id": "3PAcdSYpl4h2"
      },
      "source": [
        "import seaborn as sns\n",
        "import matplotlib.pyplot as plt"
      ],
      "execution_count": null,
      "outputs": []
    },
    {
      "cell_type": "markdown",
      "metadata": {
        "id": "vckSGZKVgETq"
      },
      "source": [
        "Gráfico01 - Número de estudantes inscritos no Edutech por semana"
      ]
    },
    {
      "cell_type": "code",
      "metadata": {
        "id": "_DJVdBRChU0b"
      },
      "source": [
        "t = list(range(1,27))\n",
        "plt.figure(figsize=(30,6))\n",
        "plt.plot(t, alunosGames1, t, alunosGames2, t, alunosFrontEnd, t, alunosMobile, t, alunosDataScience, t, alunosJava, t, alunosPython, t, alunosETI)\n",
        "plt.xlabel('Semanas', fontsize=15)\n",
        "plt.ylabel('Número de estudantes ativos', fontsize = 15)\n",
        "\n",
        "plt.show()"
      ],
      "execution_count": null,
      "outputs": []
    },
    {
      "cell_type": "code",
      "metadata": {
        "id": "zEc2450lMNO-"
      },
      "source": [
        "import numpy as np"
      ],
      "execution_count": null,
      "outputs": []
    },
    {
      "cell_type": "code",
      "metadata": {
        "id": "-2Et7nwkL98f"
      },
      "source": [
        "alunosEdutech = [];\n",
        "alunosEdutech = np.sum((alunosGames1, alunosGames2, alunosFrontEnd, alunosMobile, alunosDataScience, alunosJava, alunosPython),axis=0)\n",
        "\n",
        "alunosEdutech"
      ],
      "execution_count": null,
      "outputs": []
    },
    {
      "cell_type": "code",
      "metadata": {
        "id": "8OGz34fzLobJ"
      },
      "source": [
        "t = list(range(1,27))\n",
        "plt.figure(figsize=(30,6))\n",
        "plt.plot(t, alunosEdutech, t , alunosETI)\n",
        "plt.xlabel('Semanas', fontsize=15)\n",
        "plt.ylabel('Número de estudantes ativos', fontsize = 15)\n",
        "\n",
        "plt.show()"
      ],
      "execution_count": null,
      "outputs": []
    },
    {
      "cell_type": "code",
      "metadata": {
        "id": "V1uZAqcSK6u0"
      },
      "source": [
        "alunosAtivosDaSemana[25].dia_da_semana.value_counts().index"
      ],
      "execution_count": null,
      "outputs": []
    },
    {
      "cell_type": "markdown",
      "metadata": {
        "id": "JW5oU6FfLno0"
      },
      "source": [
        "# Qual é o dia da semana em que os alunos mais estudam?\n",
        "https://cursos.alura.com.br/course/data-science-primeiros-passos/task/49685"
      ]
    },
    {
      "cell_type": "code",
      "metadata": {
        "id": "oQ1bTpSKnBkl"
      },
      "source": [
        "i=24\n",
        "sns.catplot(x = \"dia_da_semana\", data = alunosAtivosDaSemana[i], \n",
        "            kind=\"count\",\n",
        "            aspect=2,\n",
        "            palette=\"GnBu_d\",\n",
        "            order = alunosAtivosDaSemana[i].dia_da_semana.value_counts().index)"
      ],
      "execution_count": null,
      "outputs": []
    },
    {
      "cell_type": "markdown",
      "metadata": {
        "id": "RDFV3DTHjOAD"
      },
      "source": [
        "# Qual é o melhor dia da semana para estudar (Games1)"
      ]
    },
    {
      "cell_type": "code",
      "metadata": {
        "id": "ngoO2kfGjN1a"
      },
      "source": [
        "i=25\n",
        "sns.catplot(x = \"dia_da_semana\", data = alunosAtivosDaSemana[i].query('Trilha == \"FrontEnd\"'), \n",
        "            kind=\"count\",\n",
        "            aspect=2,\n",
        "            palette=\"GnBu_d\",\n",
        "            order = alunosAtivosDaSemana[i].query('Trilha == \"FrontEnd\"').dia_da_semana.value_counts().index)"
      ],
      "execution_count": null,
      "outputs": []
    },
    {
      "cell_type": "markdown",
      "metadata": {
        "id": "k9uL83lRlIyN"
      },
      "source": [
        "Gráfico 02 - Número de estudantes ativos\n",
        "<br>"
      ]
    },
    {
      "cell_type": "markdown",
      "metadata": {
        "id": "ZPNV9GHdlP3_"
      },
      "source": [
        "Gráfico 04 - Número de atividades feitas por trilha (semana - semana)\n",
        "<br> ETI, Games1, Games2, Front, Mobile, Data, Java e Python\n",
        "<br>  **Gráfico de Barras**"
      ]
    },
    {
      "cell_type": "markdown",
      "metadata": {
        "id": "lePfRCrNgMPY"
      },
      "source": [
        ""
      ]
    },
    {
      "cell_type": "code",
      "metadata": {
        "id": "rTCjXppwmTze"
      },
      "source": [
        "plt = sns.scatterplot(x='dia_da_semana',y='atividadesGerais', data=alunosAtivosDaSemana[1])\n",
        "plt.figure.set_size_inches(24,6)"
      ],
      "execution_count": null,
      "outputs": []
    },
    {
      "cell_type": "code",
      "metadata": {
        "id": "lKUlXu_wM_sY"
      },
      "source": [
        "sns.distplot(alunosDataScience)\n"
      ],
      "execution_count": null,
      "outputs": []
    },
    {
      "cell_type": "code",
      "metadata": {
        "id": "Y57_b8UPNWGy"
      },
      "source": [
        "sns.distplot(alunosETI)\n"
      ],
      "execution_count": null,
      "outputs": []
    },
    {
      "cell_type": "code",
      "metadata": {
        "id": "veiI9QZWNDDB"
      },
      "source": [
        ""
      ],
      "execution_count": null,
      "outputs": []
    }
  ]
}