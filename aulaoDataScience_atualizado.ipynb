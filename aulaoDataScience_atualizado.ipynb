{
  "nbformat": 4,
  "nbformat_minor": 0,
  "metadata": {
    "colab": {
      "name": "Cópia de aulaoDataScience.ipynb",
      "provenance": [],
      "collapsed_sections": [],
      "authorship_tag": "ABX9TyNjdNyuehGbA9VHCSR1ZCbV",
      "include_colab_link": true
    },
    "kernelspec": {
      "name": "python3",
      "display_name": "Python 3"
    },
    "language_info": {
      "name": "python"
    }
  },
  "cells": [
    {
      "cell_type": "markdown",
      "metadata": {
        "id": "view-in-github",
        "colab_type": "text"
      },
      "source": [
        "<a href=\"https://colab.research.google.com/github/marcelopaludetto/aulao-datascience/blob/main/aulaoDataScience_atualizado.ipynb\" target=\"_parent\"><img src=\"https://colab.research.google.com/assets/colab-badge.svg\" alt=\"Open In Colab\"/></a>"
      ]
    },
    {
      "cell_type": "markdown",
      "metadata": {
        "id": "v1lC5oq2ncFH"
      },
      "source": [
        "# Extraindo informações do Edutech"
      ]
    },
    {
      "cell_type": "code",
      "metadata": {
        "id": "NfUPYlleinLN"
      },
      "source": [
        "import pandas as pd\n",
        "import warnings\n",
        "\n",
        "warnings.filterwarnings('ignore')"
      ],
      "execution_count": 143,
      "outputs": []
    },
    {
      "cell_type": "code",
      "metadata": {
        "id": "6MI0F3u51oMm",
        "colab": {
          "base_uri": "https://localhost:8080/"
        },
        "outputId": "547aa82f-ec40-43d1-d2ce-f2d769eac5f0"
      },
      "source": [
        "filenames = [f'https://raw.githubusercontent.com/marcelopaludetto/aulao-datascience/main/dados{i}.csv' for i in range(27)]           \n",
        "\n",
        "filenames"
      ],
      "execution_count": 144,
      "outputs": [
        {
          "output_type": "execute_result",
          "data": {
            "text/plain": [
              "['https://raw.githubusercontent.com/marcelopaludetto/aulao-datascience/main/dados0.csv',\n",
              " 'https://raw.githubusercontent.com/marcelopaludetto/aulao-datascience/main/dados1.csv',\n",
              " 'https://raw.githubusercontent.com/marcelopaludetto/aulao-datascience/main/dados2.csv',\n",
              " 'https://raw.githubusercontent.com/marcelopaludetto/aulao-datascience/main/dados3.csv',\n",
              " 'https://raw.githubusercontent.com/marcelopaludetto/aulao-datascience/main/dados4.csv',\n",
              " 'https://raw.githubusercontent.com/marcelopaludetto/aulao-datascience/main/dados5.csv',\n",
              " 'https://raw.githubusercontent.com/marcelopaludetto/aulao-datascience/main/dados6.csv',\n",
              " 'https://raw.githubusercontent.com/marcelopaludetto/aulao-datascience/main/dados7.csv',\n",
              " 'https://raw.githubusercontent.com/marcelopaludetto/aulao-datascience/main/dados8.csv',\n",
              " 'https://raw.githubusercontent.com/marcelopaludetto/aulao-datascience/main/dados9.csv',\n",
              " 'https://raw.githubusercontent.com/marcelopaludetto/aulao-datascience/main/dados10.csv',\n",
              " 'https://raw.githubusercontent.com/marcelopaludetto/aulao-datascience/main/dados11.csv',\n",
              " 'https://raw.githubusercontent.com/marcelopaludetto/aulao-datascience/main/dados12.csv',\n",
              " 'https://raw.githubusercontent.com/marcelopaludetto/aulao-datascience/main/dados13.csv',\n",
              " 'https://raw.githubusercontent.com/marcelopaludetto/aulao-datascience/main/dados14.csv',\n",
              " 'https://raw.githubusercontent.com/marcelopaludetto/aulao-datascience/main/dados15.csv',\n",
              " 'https://raw.githubusercontent.com/marcelopaludetto/aulao-datascience/main/dados16.csv',\n",
              " 'https://raw.githubusercontent.com/marcelopaludetto/aulao-datascience/main/dados17.csv',\n",
              " 'https://raw.githubusercontent.com/marcelopaludetto/aulao-datascience/main/dados18.csv',\n",
              " 'https://raw.githubusercontent.com/marcelopaludetto/aulao-datascience/main/dados19.csv',\n",
              " 'https://raw.githubusercontent.com/marcelopaludetto/aulao-datascience/main/dados20.csv',\n",
              " 'https://raw.githubusercontent.com/marcelopaludetto/aulao-datascience/main/dados21.csv',\n",
              " 'https://raw.githubusercontent.com/marcelopaludetto/aulao-datascience/main/dados22.csv',\n",
              " 'https://raw.githubusercontent.com/marcelopaludetto/aulao-datascience/main/dados23.csv',\n",
              " 'https://raw.githubusercontent.com/marcelopaludetto/aulao-datascience/main/dados24.csv',\n",
              " 'https://raw.githubusercontent.com/marcelopaludetto/aulao-datascience/main/dados25.csv',\n",
              " 'https://raw.githubusercontent.com/marcelopaludetto/aulao-datascience/main/dados26.csv']"
            ]
          },
          "metadata": {},
          "execution_count": 144
        }
      ]
    },
    {
      "cell_type": "code",
      "metadata": {
        "id": "-FMmDhW7QWIJ"
      },
      "source": [
        "dados = [pd.read_csv(i) for i in filenames] "
      ],
      "execution_count": 145,
      "outputs": []
    },
    {
      "cell_type": "code",
      "metadata": {
        "id": "DD_zD8_6wOsJ"
      },
      "source": [
        "N = len(dados)"
      ],
      "execution_count": 146,
      "outputs": []
    },
    {
      "cell_type": "code",
      "metadata": {
        "id": "hU-fAtLx27Uf",
        "colab": {
          "base_uri": "https://localhost:8080/"
        },
        "outputId": "35d9618e-ce42-418e-e81e-3e8267b6e460"
      },
      "source": [
        "dados[0].columns"
      ],
      "execution_count": 147,
      "outputs": [
        {
          "output_type": "execute_result",
          "data": {
            "text/plain": [
              "Index(['data', 'data de último acesso', 'id', 'turmaTrilha',\n",
              "       'atividadesFeitas', 'atividadesCorretas', 'atividadesGerais'],\n",
              "      dtype='object')"
            ]
          },
          "metadata": {},
          "execution_count": 147
        }
      ]
    },
    {
      "cell_type": "code",
      "metadata": {
        "id": "SW4ETPOd32qk",
        "colab": {
          "base_uri": "https://localhost:8080/",
          "height": 357
        },
        "outputId": "71913514-c21d-42cf-bdeb-6ef6db787d1c"
      },
      "source": [
        "dados[0].head(10)"
      ],
      "execution_count": 148,
      "outputs": [
        {
          "output_type": "execute_result",
          "data": {
            "text/html": [
              "<div>\n",
              "<style scoped>\n",
              "    .dataframe tbody tr th:only-of-type {\n",
              "        vertical-align: middle;\n",
              "    }\n",
              "\n",
              "    .dataframe tbody tr th {\n",
              "        vertical-align: top;\n",
              "    }\n",
              "\n",
              "    .dataframe thead th {\n",
              "        text-align: right;\n",
              "    }\n",
              "</style>\n",
              "<table border=\"1\" class=\"dataframe\">\n",
              "  <thead>\n",
              "    <tr style=\"text-align: right;\">\n",
              "      <th></th>\n",
              "      <th>data</th>\n",
              "      <th>data de último acesso</th>\n",
              "      <th>id</th>\n",
              "      <th>turmaTrilha</th>\n",
              "      <th>atividadesFeitas</th>\n",
              "      <th>atividadesCorretas</th>\n",
              "      <th>atividadesGerais</th>\n",
              "    </tr>\n",
              "  </thead>\n",
              "  <tbody>\n",
              "    <tr>\n",
              "      <th>0</th>\n",
              "      <td>2021-04-19</td>\n",
              "      <td>2021-05-05</td>\n",
              "      <td>589685</td>\n",
              "      <td>12400133</td>\n",
              "      <td>159</td>\n",
              "      <td>126</td>\n",
              "      <td>813.0</td>\n",
              "    </tr>\n",
              "    <tr>\n",
              "      <th>1</th>\n",
              "      <td>2021-04-19</td>\n",
              "      <td>2021-05-03</td>\n",
              "      <td>602784</td>\n",
              "      <td>21406831</td>\n",
              "      <td>129</td>\n",
              "      <td>122</td>\n",
              "      <td>542.0</td>\n",
              "    </tr>\n",
              "    <tr>\n",
              "      <th>2</th>\n",
              "      <td>2021-04-19</td>\n",
              "      <td>2021-04-26</td>\n",
              "      <td>608608</td>\n",
              "      <td>24400531</td>\n",
              "      <td>104</td>\n",
              "      <td>97</td>\n",
              "      <td>393.0</td>\n",
              "    </tr>\n",
              "    <tr>\n",
              "      <th>3</th>\n",
              "      <td>2021-04-19</td>\n",
              "      <td>2021-05-03</td>\n",
              "      <td>492948</td>\n",
              "      <td>1656722,22400112</td>\n",
              "      <td>83</td>\n",
              "      <td>83</td>\n",
              "      <td>269.0</td>\n",
              "    </tr>\n",
              "    <tr>\n",
              "      <th>4</th>\n",
              "      <td>2021-04-19</td>\n",
              "      <td>2021-05-04</td>\n",
              "      <td>519898</td>\n",
              "      <td>21900101</td>\n",
              "      <td>82</td>\n",
              "      <td>81</td>\n",
              "      <td>309.0</td>\n",
              "    </tr>\n",
              "    <tr>\n",
              "      <th>5</th>\n",
              "      <td>2021-04-19</td>\n",
              "      <td>2021-04-25</td>\n",
              "      <td>487571</td>\n",
              "      <td>24400232</td>\n",
              "      <td>73</td>\n",
              "      <td>73</td>\n",
              "      <td>320.0</td>\n",
              "    </tr>\n",
              "    <tr>\n",
              "      <th>6</th>\n",
              "      <td>2021-04-19</td>\n",
              "      <td>2021-05-05</td>\n",
              "      <td>594650</td>\n",
              "      <td>12407331</td>\n",
              "      <td>83</td>\n",
              "      <td>70</td>\n",
              "      <td>476.0</td>\n",
              "    </tr>\n",
              "    <tr>\n",
              "      <th>7</th>\n",
              "      <td>2021-04-19</td>\n",
              "      <td>2021-05-06</td>\n",
              "      <td>566760</td>\n",
              "      <td>11400411</td>\n",
              "      <td>80</td>\n",
              "      <td>68</td>\n",
              "      <td>431.0</td>\n",
              "    </tr>\n",
              "    <tr>\n",
              "      <th>8</th>\n",
              "      <td>2021-04-19</td>\n",
              "      <td>2021-04-20</td>\n",
              "      <td>601746</td>\n",
              "      <td>21405731</td>\n",
              "      <td>70</td>\n",
              "      <td>67</td>\n",
              "      <td>364.0</td>\n",
              "    </tr>\n",
              "    <tr>\n",
              "      <th>9</th>\n",
              "      <td>2021-04-19</td>\n",
              "      <td>2021-05-04</td>\n",
              "      <td>596252</td>\n",
              "      <td>12408231</td>\n",
              "      <td>67</td>\n",
              "      <td>66</td>\n",
              "      <td>266.0</td>\n",
              "    </tr>\n",
              "  </tbody>\n",
              "</table>\n",
              "</div>"
            ],
            "text/plain": [
              "         data data de último acesso  ...  atividadesCorretas atividadesGerais\n",
              "0  2021-04-19            2021-05-05  ...                 126            813.0\n",
              "1  2021-04-19            2021-05-03  ...                 122            542.0\n",
              "2  2021-04-19            2021-04-26  ...                  97            393.0\n",
              "3  2021-04-19            2021-05-03  ...                  83            269.0\n",
              "4  2021-04-19            2021-05-04  ...                  81            309.0\n",
              "5  2021-04-19            2021-04-25  ...                  73            320.0\n",
              "6  2021-04-19            2021-05-05  ...                  70            476.0\n",
              "7  2021-04-19            2021-05-06  ...                  68            431.0\n",
              "8  2021-04-19            2021-04-20  ...                  67            364.0\n",
              "9  2021-04-19            2021-05-04  ...                  66            266.0\n",
              "\n",
              "[10 rows x 7 columns]"
            ]
          },
          "metadata": {},
          "execution_count": 148
        }
      ]
    },
    {
      "cell_type": "code",
      "metadata": {
        "id": "S4_CZrV6V_I2"
      },
      "source": [
        "index = dados[0].turmaTrilha.str.find(',') > 0"
      ],
      "execution_count": 149,
      "outputs": []
    },
    {
      "cell_type": "code",
      "metadata": {
        "colab": {
          "base_uri": "https://localhost:8080/"
        },
        "id": "IHJbUrK-Y90a",
        "outputId": "b758ff66-41a3-4d74-b2e8-e572165e7c32"
      },
      "source": [
        "index"
      ],
      "execution_count": 150,
      "outputs": [
        {
          "output_type": "execute_result",
          "data": {
            "text/plain": [
              "0        False\n",
              "1        False\n",
              "2        False\n",
              "3         True\n",
              "4        False\n",
              "         ...  \n",
              "67482    False\n",
              "67483    False\n",
              "67484    False\n",
              "67485    False\n",
              "67486    False\n",
              "Name: turmaTrilha, Length: 67487, dtype: bool"
            ]
          },
          "metadata": {},
          "execution_count": 150
        }
      ]
    },
    {
      "cell_type": "code",
      "metadata": {
        "colab": {
          "base_uri": "https://localhost:8080/"
        },
        "id": "o2pWrFqKWymZ",
        "outputId": "5d127b94-715a-4116-8f4a-c1d7d064d0f0"
      },
      "source": [
        "index.value_counts()"
      ],
      "execution_count": 151,
      "outputs": [
        {
          "output_type": "execute_result",
          "data": {
            "text/plain": [
              "False    67022\n",
              "True       465\n",
              "Name: turmaTrilha, dtype: int64"
            ]
          },
          "metadata": {},
          "execution_count": 151
        }
      ]
    },
    {
      "cell_type": "code",
      "metadata": {
        "colab": {
          "base_uri": "https://localhost:8080/",
          "height": 35
        },
        "id": "8khfcJAHXBlf",
        "outputId": "d56c9aaa-fd11-4b2d-e076-3e5642f4602c"
      },
      "source": [
        " dados[0].turmaTrilha[3].split(',')[1]"
      ],
      "execution_count": 152,
      "outputs": [
        {
          "output_type": "execute_result",
          "data": {
            "application/vnd.google.colaboratory.intrinsic+json": {
              "type": "string"
            },
            "text/plain": [
              "'22400112'"
            ]
          },
          "metadata": {},
          "execution_count": 152
        }
      ]
    },
    {
      "cell_type": "code",
      "metadata": {
        "id": "9zCY5xmCU39V"
      },
      "source": [
        "for j in range(N):\n",
        "  index = dados[j].turmaTrilha.str.find(',') > 0\n",
        "  for i in range(index.count()):\n",
        "    if (index[i] == True):\n",
        "      dados[j].turmaTrilha[i] = dados[j].turmaTrilha[i].split(',')[1]"
      ],
      "execution_count": 153,
      "outputs": []
    },
    {
      "cell_type": "code",
      "metadata": {
        "colab": {
          "base_uri": "https://localhost:8080/",
          "height": 417
        },
        "id": "E8SW3-FQYkuQ",
        "outputId": "c864a0f0-2d5e-453c-ceab-376d1ce92b29"
      },
      "source": [
        "dados[9].head(100)"
      ],
      "execution_count": 154,
      "outputs": [
        {
          "output_type": "execute_result",
          "data": {
            "text/html": [
              "<div>\n",
              "<style scoped>\n",
              "    .dataframe tbody tr th:only-of-type {\n",
              "        vertical-align: middle;\n",
              "    }\n",
              "\n",
              "    .dataframe tbody tr th {\n",
              "        vertical-align: top;\n",
              "    }\n",
              "\n",
              "    .dataframe thead th {\n",
              "        text-align: right;\n",
              "    }\n",
              "</style>\n",
              "<table border=\"1\" class=\"dataframe\">\n",
              "  <thead>\n",
              "    <tr style=\"text-align: right;\">\n",
              "      <th></th>\n",
              "      <th>data</th>\n",
              "      <th>data de último acesso</th>\n",
              "      <th>id</th>\n",
              "      <th>turmaTrilha</th>\n",
              "      <th>atividadesFeitas</th>\n",
              "      <th>atividadesCorretas</th>\n",
              "      <th>atividadesGerais</th>\n",
              "    </tr>\n",
              "  </thead>\n",
              "  <tbody>\n",
              "    <tr>\n",
              "      <th>0</th>\n",
              "      <td>2021-06-21</td>\n",
              "      <td>2021-06-24</td>\n",
              "      <td>597991</td>\n",
              "      <td>21400432</td>\n",
              "      <td>169</td>\n",
              "      <td>161</td>\n",
              "      <td>683.0</td>\n",
              "    </tr>\n",
              "    <tr>\n",
              "      <th>1</th>\n",
              "      <td>2021-06-21</td>\n",
              "      <td>2021-06-24</td>\n",
              "      <td>586482</td>\n",
              "      <td>11402231</td>\n",
              "      <td>149</td>\n",
              "      <td>143</td>\n",
              "      <td>579.0</td>\n",
              "    </tr>\n",
              "    <tr>\n",
              "      <th>2</th>\n",
              "      <td>2021-06-21</td>\n",
              "      <td>2021-06-22</td>\n",
              "      <td>735653</td>\n",
              "      <td>1670439</td>\n",
              "      <td>144</td>\n",
              "      <td>140</td>\n",
              "      <td>542.0</td>\n",
              "    </tr>\n",
              "    <tr>\n",
              "      <th>3</th>\n",
              "      <td>2021-06-21</td>\n",
              "      <td>2021-06-22</td>\n",
              "      <td>774855</td>\n",
              "      <td>11401611</td>\n",
              "      <td>155</td>\n",
              "      <td>131</td>\n",
              "      <td>606.0</td>\n",
              "    </tr>\n",
              "    <tr>\n",
              "      <th>4</th>\n",
              "      <td>2021-06-21</td>\n",
              "      <td>2021-06-24</td>\n",
              "      <td>568594</td>\n",
              "      <td>11400911</td>\n",
              "      <td>122</td>\n",
              "      <td>117</td>\n",
              "      <td>466.0</td>\n",
              "    </tr>\n",
              "    <tr>\n",
              "      <th>...</th>\n",
              "      <td>...</td>\n",
              "      <td>...</td>\n",
              "      <td>...</td>\n",
              "      <td>...</td>\n",
              "      <td>...</td>\n",
              "      <td>...</td>\n",
              "      <td>...</td>\n",
              "    </tr>\n",
              "    <tr>\n",
              "      <th>95</th>\n",
              "      <td>2021-06-21</td>\n",
              "      <td>2021-06-24</td>\n",
              "      <td>596958</td>\n",
              "      <td>12409431</td>\n",
              "      <td>30</td>\n",
              "      <td>29</td>\n",
              "      <td>93.0</td>\n",
              "    </tr>\n",
              "    <tr>\n",
              "      <th>96</th>\n",
              "      <td>2021-06-21</td>\n",
              "      <td>2021-06-24</td>\n",
              "      <td>566420</td>\n",
              "      <td>25900201</td>\n",
              "      <td>31</td>\n",
              "      <td>29</td>\n",
              "      <td>177.0</td>\n",
              "    </tr>\n",
              "    <tr>\n",
              "      <th>97</th>\n",
              "      <td>2021-06-21</td>\n",
              "      <td>2021-06-25</td>\n",
              "      <td>576570</td>\n",
              "      <td>11413511</td>\n",
              "      <td>29</td>\n",
              "      <td>29</td>\n",
              "      <td>92.0</td>\n",
              "    </tr>\n",
              "    <tr>\n",
              "      <th>98</th>\n",
              "      <td>2021-06-21</td>\n",
              "      <td>2021-06-23</td>\n",
              "      <td>573088</td>\n",
              "      <td>11408611</td>\n",
              "      <td>33</td>\n",
              "      <td>29</td>\n",
              "      <td>108.0</td>\n",
              "    </tr>\n",
              "    <tr>\n",
              "      <th>99</th>\n",
              "      <td>2021-06-21</td>\n",
              "      <td>2021-06-24</td>\n",
              "      <td>728656</td>\n",
              "      <td>1663348</td>\n",
              "      <td>30</td>\n",
              "      <td>29</td>\n",
              "      <td>135.0</td>\n",
              "    </tr>\n",
              "  </tbody>\n",
              "</table>\n",
              "<p>100 rows × 7 columns</p>\n",
              "</div>"
            ],
            "text/plain": [
              "          data data de último acesso  ...  atividadesCorretas atividadesGerais\n",
              "0   2021-06-21            2021-06-24  ...                 161            683.0\n",
              "1   2021-06-21            2021-06-24  ...                 143            579.0\n",
              "2   2021-06-21            2021-06-22  ...                 140            542.0\n",
              "3   2021-06-21            2021-06-22  ...                 131            606.0\n",
              "4   2021-06-21            2021-06-24  ...                 117            466.0\n",
              "..         ...                   ...  ...                 ...              ...\n",
              "95  2021-06-21            2021-06-24  ...                  29             93.0\n",
              "96  2021-06-21            2021-06-24  ...                  29            177.0\n",
              "97  2021-06-21            2021-06-25  ...                  29             92.0\n",
              "98  2021-06-21            2021-06-23  ...                  29            108.0\n",
              "99  2021-06-21            2021-06-24  ...                  29            135.0\n",
              "\n",
              "[100 rows x 7 columns]"
            ]
          },
          "metadata": {},
          "execution_count": 154
        }
      ]
    },
    {
      "cell_type": "code",
      "metadata": {
        "id": "ta80MurntPxT"
      },
      "source": [
        "renomear = {'data' : 'data',\n",
        "            'data de último acesso' : 'data_ultimo_acesso',\n",
        "            'id' : 'id',\n",
        "            'turmaTrilha':'turmaTrilha',\n",
        "            'atividadesFeitas':'atividadesFeitas',\n",
        "            'atividadesCorretas':'atividadesCorretas',\n",
        "            'atividadesGerais': 'atividadesGerais'}"
      ],
      "execution_count": 155,
      "outputs": []
    },
    {
      "cell_type": "code",
      "metadata": {
        "id": "w1G1ghzltmTG",
        "colab": {
          "base_uri": "https://localhost:8080/",
          "height": 203
        },
        "outputId": "18323409-37f0-41c7-d7ee-8df4473cb18d"
      },
      "source": [
        "for f in range(N):\n",
        "  dados[f] = dados[f].rename(columns=renomear)\n",
        "\n",
        "dados[23].head()"
      ],
      "execution_count": 156,
      "outputs": [
        {
          "output_type": "execute_result",
          "data": {
            "text/html": [
              "<div>\n",
              "<style scoped>\n",
              "    .dataframe tbody tr th:only-of-type {\n",
              "        vertical-align: middle;\n",
              "    }\n",
              "\n",
              "    .dataframe tbody tr th {\n",
              "        vertical-align: top;\n",
              "    }\n",
              "\n",
              "    .dataframe thead th {\n",
              "        text-align: right;\n",
              "    }\n",
              "</style>\n",
              "<table border=\"1\" class=\"dataframe\">\n",
              "  <thead>\n",
              "    <tr style=\"text-align: right;\">\n",
              "      <th></th>\n",
              "      <th>data</th>\n",
              "      <th>data_ultimo_acesso</th>\n",
              "      <th>id</th>\n",
              "      <th>turmaTrilha</th>\n",
              "      <th>atividadesFeitas</th>\n",
              "      <th>atividadesCorretas</th>\n",
              "      <th>atividadesGerais</th>\n",
              "    </tr>\n",
              "  </thead>\n",
              "  <tbody>\n",
              "    <tr>\n",
              "      <th>0</th>\n",
              "      <td>2021-09-27</td>\n",
              "      <td>2021-09-30</td>\n",
              "      <td>731210</td>\n",
              "      <td>1664749</td>\n",
              "      <td>225</td>\n",
              "      <td>221</td>\n",
              "      <td>856.0</td>\n",
              "    </tr>\n",
              "    <tr>\n",
              "      <th>1</th>\n",
              "      <td>2021-09-27</td>\n",
              "      <td>2021-09-30</td>\n",
              "      <td>601926</td>\n",
              "      <td>21400432</td>\n",
              "      <td>214</td>\n",
              "      <td>211</td>\n",
              "      <td>868.0</td>\n",
              "    </tr>\n",
              "    <tr>\n",
              "      <th>2</th>\n",
              "      <td>2021-09-27</td>\n",
              "      <td>2021-10-01</td>\n",
              "      <td>733995</td>\n",
              "      <td>1664785</td>\n",
              "      <td>233</td>\n",
              "      <td>197</td>\n",
              "      <td>868.0</td>\n",
              "    </tr>\n",
              "    <tr>\n",
              "      <th>3</th>\n",
              "      <td>2021-09-27</td>\n",
              "      <td>2021-10-03</td>\n",
              "      <td>730025</td>\n",
              "      <td>1664773</td>\n",
              "      <td>180</td>\n",
              "      <td>172</td>\n",
              "      <td>703.0</td>\n",
              "    </tr>\n",
              "    <tr>\n",
              "      <th>4</th>\n",
              "      <td>2021-09-27</td>\n",
              "      <td>2021-10-02</td>\n",
              "      <td>738058</td>\n",
              "      <td>1690529</td>\n",
              "      <td>169</td>\n",
              "      <td>161</td>\n",
              "      <td>666.0</td>\n",
              "    </tr>\n",
              "  </tbody>\n",
              "</table>\n",
              "</div>"
            ],
            "text/plain": [
              "         data data_ultimo_acesso  ...  atividadesCorretas atividadesGerais\n",
              "0  2021-09-27         2021-09-30  ...                 221            856.0\n",
              "1  2021-09-27         2021-09-30  ...                 211            868.0\n",
              "2  2021-09-27         2021-10-01  ...                 197            868.0\n",
              "3  2021-09-27         2021-10-03  ...                 172            703.0\n",
              "4  2021-09-27         2021-10-02  ...                 161            666.0\n",
              "\n",
              "[5 rows x 7 columns]"
            ]
          },
          "metadata": {},
          "execution_count": 156
        }
      ]
    },
    {
      "cell_type": "markdown",
      "metadata": {
        "id": "xKpTwsx4mKvW"
      },
      "source": [
        "# Número de estudantes no Edutech"
      ]
    },
    {
      "cell_type": "code",
      "metadata": {
        "id": "Fx2Hr47Xmrhc",
        "colab": {
          "base_uri": "https://localhost:8080/"
        },
        "outputId": "8788af5c-9102-40ec-a2a9-263257a1b595"
      },
      "source": [
        "EstudantesEdutech = [];\n",
        "for f in range(N):\n",
        "  print('Na {} semana, estudantes = {}'.format(f+1,dados[f].data.count()))\n",
        "  EstudantesEdutech.append(dados[f].data.count())"
      ],
      "execution_count": 157,
      "outputs": [
        {
          "output_type": "stream",
          "name": "stdout",
          "text": [
            "Na 1 semana, estudantes = 67487\n",
            "Na 2 semana, estudantes = 67487\n",
            "Na 3 semana, estudantes = 67487\n",
            "Na 4 semana, estudantes = 67487\n",
            "Na 5 semana, estudantes = 67488\n",
            "Na 6 semana, estudantes = 67745\n",
            "Na 7 semana, estudantes = 70776\n",
            "Na 8 semana, estudantes = 70842\n",
            "Na 9 semana, estudantes = 47923\n",
            "Na 10 semana, estudantes = 48010\n",
            "Na 11 semana, estudantes = 48008\n",
            "Na 12 semana, estudantes = 48511\n",
            "Na 13 semana, estudantes = 48512\n",
            "Na 14 semana, estudantes = 48719\n",
            "Na 15 semana, estudantes = 46581\n",
            "Na 16 semana, estudantes = 46704\n",
            "Na 17 semana, estudantes = 46668\n",
            "Na 18 semana, estudantes = 34791\n",
            "Na 19 semana, estudantes = 38232\n",
            "Na 20 semana, estudantes = 40717\n",
            "Na 21 semana, estudantes = 41896\n",
            "Na 22 semana, estudantes = 41902\n",
            "Na 23 semana, estudantes = 42268\n",
            "Na 24 semana, estudantes = 42548\n",
            "Na 25 semana, estudantes = 42668\n",
            "Na 26 semana, estudantes = 42415\n",
            "Na 27 semana, estudantes = 42579\n"
          ]
        }
      ]
    },
    {
      "cell_type": "code",
      "metadata": {
        "colab": {
          "base_uri": "https://localhost:8080/"
        },
        "id": "8RvtF0KIhHrM",
        "outputId": "9b0fba3d-8fe8-4adf-eb11-5af779e22997"
      },
      "source": [
        "EstudantesEdutech"
      ],
      "execution_count": 158,
      "outputs": [
        {
          "output_type": "execute_result",
          "data": {
            "text/plain": [
              "[67487,\n",
              " 67487,\n",
              " 67487,\n",
              " 67487,\n",
              " 67488,\n",
              " 67745,\n",
              " 70776,\n",
              " 70842,\n",
              " 47923,\n",
              " 48010,\n",
              " 48008,\n",
              " 48511,\n",
              " 48512,\n",
              " 48719,\n",
              " 46581,\n",
              " 46704,\n",
              " 46668,\n",
              " 34791,\n",
              " 38232,\n",
              " 40717,\n",
              " 41896,\n",
              " 41902,\n",
              " 42268,\n",
              " 42548,\n",
              " 42668,\n",
              " 42415,\n",
              " 42579]"
            ]
          },
          "metadata": {},
          "execution_count": 158
        }
      ]
    },
    {
      "cell_type": "code",
      "metadata": {
        "id": "pPZDJscow3Yj",
        "colab": {
          "base_uri": "https://localhost:8080/"
        },
        "outputId": "2b2b53aa-0abe-4a1f-cea2-1b9111052dda"
      },
      "source": [
        "print('Na semana {} foram incluidos {} estudantes no programa Edutech'.format(7,\n",
        "                                                                              dados[6].data.count() - dados[5].data.count()))"
      ],
      "execution_count": 159,
      "outputs": [
        {
          "output_type": "stream",
          "name": "stdout",
          "text": [
            "Na semana 7 foram incluidos 3031 estudantes no programa Edutech\n"
          ]
        }
      ]
    },
    {
      "cell_type": "code",
      "metadata": {
        "id": "udgzlXN9xB0D",
        "colab": {
          "base_uri": "https://localhost:8080/"
        },
        "outputId": "546a66e4-7b69-490c-bdd5-21ac9e798e24"
      },
      "source": [
        "print('Na 9 semana, foram excluídos {} estudantes do programa Edutech'.format(dados[7].data.count() - dados[8].data.count()))"
      ],
      "execution_count": 160,
      "outputs": [
        {
          "output_type": "stream",
          "name": "stdout",
          "text": [
            "Na 9 semana, foram excluídos 22919 estudantes do programa Edutech\n"
          ]
        }
      ]
    },
    {
      "cell_type": "markdown",
      "metadata": {
        "id": "7RSJn1fRjURI"
      },
      "source": [
        "# Criar dias da semana no último acesso"
      ]
    },
    {
      "cell_type": "code",
      "metadata": {
        "id": "tp3-YE2Xumk1"
      },
      "source": [
        "for i in range(N):\n",
        "  dia_da_semana = [];\n",
        "  for f in range(dados[i].data_ultimo_acesso.count()):\n",
        "      temp = pd.Timestamp(dados[i].data_ultimo_acesso[f])\n",
        "      dia_da_semana.append(temp.day_name())\n",
        "  dados[i]['dia_da_semana'] = dia_da_semana\n",
        "  "
      ],
      "execution_count": 161,
      "outputs": []
    },
    {
      "cell_type": "code",
      "metadata": {
        "id": "0FynXo1yq3np",
        "colab": {
          "base_uri": "https://localhost:8080/",
          "height": 203
        },
        "outputId": "7c832499-7b77-43f1-b8d5-b1be6a43ee35"
      },
      "source": [
        "dados[1].head()"
      ],
      "execution_count": 162,
      "outputs": [
        {
          "output_type": "execute_result",
          "data": {
            "text/html": [
              "<div>\n",
              "<style scoped>\n",
              "    .dataframe tbody tr th:only-of-type {\n",
              "        vertical-align: middle;\n",
              "    }\n",
              "\n",
              "    .dataframe tbody tr th {\n",
              "        vertical-align: top;\n",
              "    }\n",
              "\n",
              "    .dataframe thead th {\n",
              "        text-align: right;\n",
              "    }\n",
              "</style>\n",
              "<table border=\"1\" class=\"dataframe\">\n",
              "  <thead>\n",
              "    <tr style=\"text-align: right;\">\n",
              "      <th></th>\n",
              "      <th>data</th>\n",
              "      <th>data_ultimo_acesso</th>\n",
              "      <th>id</th>\n",
              "      <th>turmaTrilha</th>\n",
              "      <th>atividadesFeitas</th>\n",
              "      <th>atividadesCorretas</th>\n",
              "      <th>atividadesGerais</th>\n",
              "      <th>dia_da_semana</th>\n",
              "    </tr>\n",
              "  </thead>\n",
              "  <tbody>\n",
              "    <tr>\n",
              "      <th>0</th>\n",
              "      <td>2021-04-26</td>\n",
              "      <td>2021-05-05</td>\n",
              "      <td>589712</td>\n",
              "      <td>12400431</td>\n",
              "      <td>165</td>\n",
              "      <td>139</td>\n",
              "      <td>699.0</td>\n",
              "      <td>Wednesday</td>\n",
              "    </tr>\n",
              "    <tr>\n",
              "      <th>1</th>\n",
              "      <td>2021-04-26</td>\n",
              "      <td>2021-05-06</td>\n",
              "      <td>575825</td>\n",
              "      <td>11413411</td>\n",
              "      <td>146</td>\n",
              "      <td>124</td>\n",
              "      <td>726.0</td>\n",
              "      <td>Thursday</td>\n",
              "    </tr>\n",
              "    <tr>\n",
              "      <th>2</th>\n",
              "      <td>2021-04-26</td>\n",
              "      <td>2021-04-28</td>\n",
              "      <td>585090</td>\n",
              "      <td>25400111</td>\n",
              "      <td>131</td>\n",
              "      <td>116</td>\n",
              "      <td>402.0</td>\n",
              "      <td>Wednesday</td>\n",
              "    </tr>\n",
              "    <tr>\n",
              "      <th>3</th>\n",
              "      <td>2021-04-26</td>\n",
              "      <td>2021-04-26</td>\n",
              "      <td>605128</td>\n",
              "      <td>22402231</td>\n",
              "      <td>106</td>\n",
              "      <td>105</td>\n",
              "      <td>394.0</td>\n",
              "      <td>Monday</td>\n",
              "    </tr>\n",
              "    <tr>\n",
              "      <th>4</th>\n",
              "      <td>2021-04-26</td>\n",
              "      <td>2021-05-05</td>\n",
              "      <td>583378</td>\n",
              "      <td>21400911</td>\n",
              "      <td>124</td>\n",
              "      <td>96</td>\n",
              "      <td>464.0</td>\n",
              "      <td>Wednesday</td>\n",
              "    </tr>\n",
              "  </tbody>\n",
              "</table>\n",
              "</div>"
            ],
            "text/plain": [
              "         data data_ultimo_acesso  ...  atividadesGerais dia_da_semana\n",
              "0  2021-04-26         2021-05-05  ...             699.0     Wednesday\n",
              "1  2021-04-26         2021-05-06  ...             726.0      Thursday\n",
              "2  2021-04-26         2021-04-28  ...             402.0     Wednesday\n",
              "3  2021-04-26         2021-04-26  ...             394.0        Monday\n",
              "4  2021-04-26         2021-05-05  ...             464.0     Wednesday\n",
              "\n",
              "[5 rows x 8 columns]"
            ]
          },
          "metadata": {},
          "execution_count": 162
        }
      ]
    },
    {
      "cell_type": "markdown",
      "metadata": {
        "id": "K-wtsVKxjY4d"
      },
      "source": [
        "## Traduzir os dias da semana"
      ]
    },
    {
      "cell_type": "code",
      "metadata": {
        "id": "lGHmg0JSjpEK",
        "colab": {
          "base_uri": "https://localhost:8080/"
        },
        "outputId": "3330407d-f078-4b4d-ed4a-54deac67e6ef"
      },
      "source": [
        "dados[1].dia_da_semana.unique()"
      ],
      "execution_count": 163,
      "outputs": [
        {
          "output_type": "execute_result",
          "data": {
            "text/plain": [
              "array(['Wednesday', 'Thursday', 'Monday', 'Sunday', 'Saturday', 'Tuesday',\n",
              "       'Friday'], dtype=object)"
            ]
          },
          "metadata": {},
          "execution_count": 163
        }
      ]
    },
    {
      "cell_type": "code",
      "metadata": {
        "id": "Y1LlmPClkauQ"
      },
      "source": [
        "renomear_dia = {\n",
        "    'Wednesday' : 'Quarta',\n",
        "    'Thursday' : 'Quinta',\n",
        "    'Monday' : 'Segunda',\n",
        "    'Sunday' : 'Domingo',\n",
        "    'Saturday' : 'Sabado',\n",
        "    'Tuesday' : 'Terca',\n",
        "    'Friday' : 'Sexta'\n",
        "}"
      ],
      "execution_count": 164,
      "outputs": []
    },
    {
      "cell_type": "code",
      "metadata": {
        "id": "vCs1HMC_k3GG",
        "colab": {
          "base_uri": "https://localhost:8080/",
          "height": 203
        },
        "outputId": "6120655b-5497-45ea-e44f-6c61817f7dd0"
      },
      "source": [
        "for i in range(N):\n",
        "  dados[i].dia_da_semana = dados[i].dia_da_semana.map(renomear_dia)\n",
        "\n",
        "dados[1].head()"
      ],
      "execution_count": 165,
      "outputs": [
        {
          "output_type": "execute_result",
          "data": {
            "text/html": [
              "<div>\n",
              "<style scoped>\n",
              "    .dataframe tbody tr th:only-of-type {\n",
              "        vertical-align: middle;\n",
              "    }\n",
              "\n",
              "    .dataframe tbody tr th {\n",
              "        vertical-align: top;\n",
              "    }\n",
              "\n",
              "    .dataframe thead th {\n",
              "        text-align: right;\n",
              "    }\n",
              "</style>\n",
              "<table border=\"1\" class=\"dataframe\">\n",
              "  <thead>\n",
              "    <tr style=\"text-align: right;\">\n",
              "      <th></th>\n",
              "      <th>data</th>\n",
              "      <th>data_ultimo_acesso</th>\n",
              "      <th>id</th>\n",
              "      <th>turmaTrilha</th>\n",
              "      <th>atividadesFeitas</th>\n",
              "      <th>atividadesCorretas</th>\n",
              "      <th>atividadesGerais</th>\n",
              "      <th>dia_da_semana</th>\n",
              "    </tr>\n",
              "  </thead>\n",
              "  <tbody>\n",
              "    <tr>\n",
              "      <th>0</th>\n",
              "      <td>2021-04-26</td>\n",
              "      <td>2021-05-05</td>\n",
              "      <td>589712</td>\n",
              "      <td>12400431</td>\n",
              "      <td>165</td>\n",
              "      <td>139</td>\n",
              "      <td>699.0</td>\n",
              "      <td>Quarta</td>\n",
              "    </tr>\n",
              "    <tr>\n",
              "      <th>1</th>\n",
              "      <td>2021-04-26</td>\n",
              "      <td>2021-05-06</td>\n",
              "      <td>575825</td>\n",
              "      <td>11413411</td>\n",
              "      <td>146</td>\n",
              "      <td>124</td>\n",
              "      <td>726.0</td>\n",
              "      <td>Quinta</td>\n",
              "    </tr>\n",
              "    <tr>\n",
              "      <th>2</th>\n",
              "      <td>2021-04-26</td>\n",
              "      <td>2021-04-28</td>\n",
              "      <td>585090</td>\n",
              "      <td>25400111</td>\n",
              "      <td>131</td>\n",
              "      <td>116</td>\n",
              "      <td>402.0</td>\n",
              "      <td>Quarta</td>\n",
              "    </tr>\n",
              "    <tr>\n",
              "      <th>3</th>\n",
              "      <td>2021-04-26</td>\n",
              "      <td>2021-04-26</td>\n",
              "      <td>605128</td>\n",
              "      <td>22402231</td>\n",
              "      <td>106</td>\n",
              "      <td>105</td>\n",
              "      <td>394.0</td>\n",
              "      <td>Segunda</td>\n",
              "    </tr>\n",
              "    <tr>\n",
              "      <th>4</th>\n",
              "      <td>2021-04-26</td>\n",
              "      <td>2021-05-05</td>\n",
              "      <td>583378</td>\n",
              "      <td>21400911</td>\n",
              "      <td>124</td>\n",
              "      <td>96</td>\n",
              "      <td>464.0</td>\n",
              "      <td>Quarta</td>\n",
              "    </tr>\n",
              "  </tbody>\n",
              "</table>\n",
              "</div>"
            ],
            "text/plain": [
              "         data data_ultimo_acesso  ...  atividadesGerais dia_da_semana\n",
              "0  2021-04-26         2021-05-05  ...             699.0        Quarta\n",
              "1  2021-04-26         2021-05-06  ...             726.0        Quinta\n",
              "2  2021-04-26         2021-04-28  ...             402.0        Quarta\n",
              "3  2021-04-26         2021-04-26  ...             394.0       Segunda\n",
              "4  2021-04-26         2021-05-05  ...             464.0        Quarta\n",
              "\n",
              "[5 rows x 8 columns]"
            ]
          },
          "metadata": {},
          "execution_count": 165
        }
      ]
    },
    {
      "cell_type": "code",
      "metadata": {
        "id": "0SFnSLbTm6vI",
        "colab": {
          "base_uri": "https://localhost:8080/"
        },
        "outputId": "4954933f-fdc8-4ac8-b79c-b1ca8b9bde8b"
      },
      "source": [
        "dados[2].dia_da_semana.unique()"
      ],
      "execution_count": 166,
      "outputs": [
        {
          "output_type": "execute_result",
          "data": {
            "text/plain": [
              "array(['Sexta', 'Domingo', 'Quinta', 'Terca', 'Segunda', 'Sabado',\n",
              "       'Quarta'], dtype=object)"
            ]
          },
          "metadata": {},
          "execution_count": 166
        }
      ]
    },
    {
      "cell_type": "markdown",
      "metadata": {
        "id": "XXB4xGJ7nXa8"
      },
      "source": [
        "## Coletando o número de alunos ativos"
      ]
    },
    {
      "cell_type": "code",
      "metadata": {
        "id": "CKAPKKdpl_mX",
        "colab": {
          "base_uri": "https://localhost:8080/"
        },
        "outputId": "5a82b53b-0687-4749-bf1d-dc6d876e3772"
      },
      "source": [
        "for i in range(N):\n",
        "  print('Na {} semana, o número de estudantes ativos no Edutech é de {}'.format(i+1,dados[i][dados[i]['atividadesGerais'].notnull()].data.count()))"
      ],
      "execution_count": 167,
      "outputs": [
        {
          "output_type": "stream",
          "name": "stdout",
          "text": [
            "Na 1 semana, o número de estudantes ativos no Edutech é de 6358\n",
            "Na 2 semana, o número de estudantes ativos no Edutech é de 6619\n",
            "Na 3 semana, o número de estudantes ativos no Edutech é de 6664\n",
            "Na 4 semana, o número de estudantes ativos no Edutech é de 6696\n",
            "Na 5 semana, o número de estudantes ativos no Edutech é de 6485\n",
            "Na 6 semana, o número de estudantes ativos no Edutech é de 6879\n",
            "Na 7 semana, o número de estudantes ativos no Edutech é de 5592\n",
            "Na 8 semana, o número de estudantes ativos no Edutech é de 6439\n",
            "Na 9 semana, o número de estudantes ativos no Edutech é de 6538\n",
            "Na 10 semana, o número de estudantes ativos no Edutech é de 6352\n",
            "Na 11 semana, o número de estudantes ativos no Edutech é de 5395\n",
            "Na 12 semana, o número de estudantes ativos no Edutech é de 4297\n",
            "Na 13 semana, o número de estudantes ativos no Edutech é de 1401\n",
            "Na 14 semana, o número de estudantes ativos no Edutech é de 3676\n",
            "Na 15 semana, o número de estudantes ativos no Edutech é de 5321\n",
            "Na 16 semana, o número de estudantes ativos no Edutech é de 5499\n",
            "Na 17 semana, o número de estudantes ativos no Edutech é de 5457\n",
            "Na 18 semana, o número de estudantes ativos no Edutech é de 5424\n",
            "Na 19 semana, o número de estudantes ativos no Edutech é de 5689\n",
            "Na 20 semana, o número de estudantes ativos no Edutech é de 6254\n",
            "Na 21 semana, o número de estudantes ativos no Edutech é de 5367\n",
            "Na 22 semana, o número de estudantes ativos no Edutech é de 6964\n",
            "Na 23 semana, o número de estudantes ativos no Edutech é de 7349\n",
            "Na 24 semana, o número de estudantes ativos no Edutech é de 7581\n",
            "Na 25 semana, o número de estudantes ativos no Edutech é de 7520\n",
            "Na 26 semana, o número de estudantes ativos no Edutech é de 5011\n",
            "Na 27 semana, o número de estudantes ativos no Edutech é de 7610\n"
          ]
        }
      ]
    },
    {
      "cell_type": "code",
      "metadata": {
        "id": "YM4rYJGkn5Xy",
        "colab": {
          "base_uri": "https://localhost:8080/"
        },
        "outputId": "dad7a33a-1f7b-428f-8962-1325cdce0761"
      },
      "source": [
        "for i in range(N):\n",
        "  print('Na semana {} tivemos {} % de estudantes ativos.'.format(i+1,(dados[i][dados[i]['atividadesGerais'].notnull()].data.count()/dados[i].data.count()*100).round(2)))\n"
      ],
      "execution_count": 168,
      "outputs": [
        {
          "output_type": "stream",
          "name": "stdout",
          "text": [
            "Na semana 1 tivemos 9.42 % de estudantes ativos.\n",
            "Na semana 2 tivemos 9.81 % de estudantes ativos.\n",
            "Na semana 3 tivemos 9.87 % de estudantes ativos.\n",
            "Na semana 4 tivemos 9.92 % de estudantes ativos.\n",
            "Na semana 5 tivemos 9.61 % de estudantes ativos.\n",
            "Na semana 6 tivemos 10.15 % de estudantes ativos.\n",
            "Na semana 7 tivemos 7.9 % de estudantes ativos.\n",
            "Na semana 8 tivemos 9.09 % de estudantes ativos.\n",
            "Na semana 9 tivemos 13.64 % de estudantes ativos.\n",
            "Na semana 10 tivemos 13.23 % de estudantes ativos.\n",
            "Na semana 11 tivemos 11.24 % de estudantes ativos.\n",
            "Na semana 12 tivemos 8.86 % de estudantes ativos.\n",
            "Na semana 13 tivemos 2.89 % de estudantes ativos.\n",
            "Na semana 14 tivemos 7.55 % de estudantes ativos.\n",
            "Na semana 15 tivemos 11.42 % de estudantes ativos.\n",
            "Na semana 16 tivemos 11.77 % de estudantes ativos.\n",
            "Na semana 17 tivemos 11.69 % de estudantes ativos.\n",
            "Na semana 18 tivemos 15.59 % de estudantes ativos.\n",
            "Na semana 19 tivemos 14.88 % de estudantes ativos.\n",
            "Na semana 20 tivemos 15.36 % de estudantes ativos.\n",
            "Na semana 21 tivemos 12.81 % de estudantes ativos.\n",
            "Na semana 22 tivemos 16.62 % de estudantes ativos.\n",
            "Na semana 23 tivemos 17.39 % de estudantes ativos.\n",
            "Na semana 24 tivemos 17.82 % de estudantes ativos.\n",
            "Na semana 25 tivemos 17.62 % de estudantes ativos.\n",
            "Na semana 26 tivemos 11.81 % de estudantes ativos.\n",
            "Na semana 27 tivemos 17.87 % de estudantes ativos.\n"
          ]
        }
      ]
    },
    {
      "cell_type": "markdown",
      "metadata": {
        "id": "G1wthKKIcmwL"
      },
      "source": [
        "# Classificar os estudantes em trilhas\n"
      ]
    },
    {
      "cell_type": "code",
      "metadata": {
        "colab": {
          "base_uri": "https://localhost:8080/"
        },
        "id": "D67xWQB4HWyy",
        "outputId": "84c1e3ad-85a2-48f6-d9bf-fd944093c7ce"
      },
      "source": [
        "len('11400513')"
      ],
      "execution_count": 169,
      "outputs": [
        {
          "output_type": "execute_result",
          "data": {
            "text/plain": [
              "8"
            ]
          },
          "metadata": {},
          "execution_count": 169
        }
      ]
    },
    {
      "cell_type": "code",
      "metadata": {
        "colab": {
          "base_uri": "https://localhost:8080/",
          "height": 35
        },
        "id": "pT07kkaDHKJJ",
        "outputId": "90dce71c-653d-4258-fa34-271414a95a94"
      },
      "source": [
        "dados[23]['turmaTrilha'][40]"
      ],
      "execution_count": 170,
      "outputs": [
        {
          "output_type": "execute_result",
          "data": {
            "application/vnd.google.colaboratory.intrinsic+json": {
              "type": "string"
            },
            "text/plain": [
              "'1686370'"
            ]
          },
          "metadata": {},
          "execution_count": 170
        }
      ]
    },
    {
      "cell_type": "code",
      "metadata": {
        "colab": {
          "base_uri": "https://localhost:8080/",
          "height": 35
        },
        "id": "gkDDFvIxcWGa",
        "outputId": "ccd061f3-4ef2-4541-c109-775e609c528f"
      },
      "source": [
        "dados[23]['turmaTrilha'][40][0:2]"
      ],
      "execution_count": 171,
      "outputs": [
        {
          "output_type": "execute_result",
          "data": {
            "application/vnd.google.colaboratory.intrinsic+json": {
              "type": "string"
            },
            "text/plain": [
              "'16'"
            ]
          },
          "metadata": {},
          "execution_count": 171
        }
      ]
    },
    {
      "cell_type": "code",
      "metadata": {
        "id": "uzM3dOylksQX"
      },
      "source": [
        "for i in range(N):\n",
        "  dados[i].turmaTrilha.replace('\\xa0','')"
      ],
      "execution_count": 172,
      "outputs": []
    },
    {
      "cell_type": "code",
      "metadata": {
        "id": "mGHsUDJ4MOQm"
      },
      "source": [
        ""
      ],
      "execution_count": 172,
      "outputs": []
    },
    {
      "cell_type": "markdown",
      "metadata": {
        "id": "o_UaQxk0fgsQ"
      },
      "source": [
        "crtl + shift + L"
      ]
    },
    {
      "cell_type": "code",
      "metadata": {
        "id": "WLH5RLbH8ld2"
      },
      "source": [
        "trilha = {\n",
        "    '11' : 'Games1',\n",
        "    '12' : 'Games2' ,   \n",
        "    '21' : 'FrontEnd',\n",
        "    '22' : 'Mobile',\n",
        "    '23' : 'DataScience',\n",
        "    '24' : 'Java',\n",
        "    '25' : 'Python',\n",
        "    '16' : 'ETI',\n",
        "    '17' : 'ETI'\n",
        "}"
      ],
      "execution_count": 173,
      "outputs": []
    },
    {
      "cell_type": "code",
      "metadata": {
        "id": "LbJX8s7f3cld"
      },
      "source": [
        "for j in range(N):\n",
        "  index = dados[j]['turmaTrilha'].astype(str).str[:2]\n",
        "  dados[j]['Trilha'] = index\n",
        "  dados[j].Trilha = dados[j].Trilha.map(trilha)"
      ],
      "execution_count": 179,
      "outputs": []
    },
    {
      "cell_type": "code",
      "metadata": {
        "id": "_cufVAbEkOz3",
        "colab": {
          "base_uri": "https://localhost:8080/"
        },
        "outputId": "757a7862-d7a2-4770-ea3c-7b7c15d21aa0"
      },
      "source": [
        "dados[24].Trilha.value_counts()"
      ],
      "execution_count": 180,
      "outputs": [
        {
          "output_type": "execute_result",
          "data": {
            "text/plain": [
              "ETI            19432\n",
              "Games1          7907\n",
              "Games2          5946\n",
              "FrontEnd        3522\n",
              "Mobile          1848\n",
              "Python          1557\n",
              "Java            1391\n",
              "DataScience     1065\n",
              "Name: Trilha, dtype: int64"
            ]
          },
          "metadata": {},
          "execution_count": 180
        }
      ]
    },
    {
      "cell_type": "markdown",
      "metadata": {
        "id": "PKZ_2nP1pZti"
      },
      "source": [
        "# Analisando o número de atividades feitas por semana"
      ]
    },
    {
      "cell_type": "code",
      "metadata": {
        "id": "SyHlihzUpT83"
      },
      "source": [
        "alunosAtivosDaSemana = [];\n",
        "for i in range(N):\n",
        "  alunosAtivosDaSemana.append(dados[i].query(\"atividadesGerais > 0\"))"
      ],
      "execution_count": 183,
      "outputs": []
    },
    {
      "cell_type": "code",
      "metadata": {
        "id": "PtvHOGcPpYvv",
        "colab": {
          "base_uri": "https://localhost:8080/"
        },
        "outputId": "8199e98f-f016-4346-e1bf-4fdf61c61151"
      },
      "source": [
        "for i in range(N):\n",
        "  print('Na semana {} foram realidas {} atividades'.format(i+1,sum(alunosAtivosDaSemana[i].atividadesFeitas)))"
      ],
      "execution_count": 184,
      "outputs": [
        {
          "output_type": "stream",
          "name": "stdout",
          "text": [
            "Na semana 1 foram realidas 28573 atividades\n",
            "Na semana 2 foram realidas 30411 atividades\n",
            "Na semana 3 foram realidas 32140 atividades\n",
            "Na semana 4 foram realidas 36710 atividades\n",
            "Na semana 5 foram realidas 32696 atividades\n",
            "Na semana 6 foram realidas 35833 atividades\n",
            "Na semana 7 foram realidas 27989 atividades\n",
            "Na semana 8 foram realidas 32763 atividades\n",
            "Na semana 9 foram realidas 31950 atividades\n",
            "Na semana 10 foram realidas 30279 atividades\n",
            "Na semana 11 foram realidas 25463 atividades\n",
            "Na semana 12 foram realidas 21533 atividades\n",
            "Na semana 13 foram realidas 7809 atividades\n",
            "Na semana 14 foram realidas 18009 atividades\n",
            "Na semana 15 foram realidas 27738 atividades\n",
            "Na semana 16 foram realidas 29051 atividades\n",
            "Na semana 17 foram realidas 29636 atividades\n",
            "Na semana 18 foram realidas 33382 atividades\n",
            "Na semana 19 foram realidas 36146 atividades\n",
            "Na semana 20 foram realidas 42321 atividades\n",
            "Na semana 21 foram realidas 37718 atividades\n",
            "Na semana 22 foram realidas 52312 atividades\n",
            "Na semana 23 foram realidas 52399 atividades\n",
            "Na semana 24 foram realidas 49431 atividades\n",
            "Na semana 25 foram realidas 52122 atividades\n",
            "Na semana 26 foram realidas 34580 atividades\n",
            "Na semana 27 foram realidas 60567 atividades\n"
          ]
        }
      ]
    },
    {
      "cell_type": "code",
      "metadata": {
        "id": "L9_lhTDvraO3"
      },
      "source": [
        "grafico = [];\n",
        "for i in range(N):\n",
        "  grafico.append(sum(alunosAtivosDaSemana[i].atividadesFeitas))"
      ],
      "execution_count": 185,
      "outputs": []
    },
    {
      "cell_type": "code",
      "metadata": {
        "id": "dfGD5FtOlq47",
        "colab": {
          "base_uri": "https://localhost:8080/",
          "height": 394
        },
        "outputId": "7b3acfc9-499f-4715-c5da-b589c66764a2"
      },
      "source": [
        "grafico1 = pd.DataFrame({'atividades feitas por semana' : grafico})\n",
        "grafico1.head()\n",
        "grafico1.plot(kind ='bar',figsize = (20,6))"
      ],
      "execution_count": 186,
      "outputs": [
        {
          "output_type": "execute_result",
          "data": {
            "text/plain": [
              "<matplotlib.axes._subplots.AxesSubplot at 0x7fba84ffffd0>"
            ]
          },
          "metadata": {},
          "execution_count": 186
        },
        {
          "output_type": "display_data",
          "data": {
            "image/png": "[encoded data removed]",
            "text/plain": [
              "<Figure size 1440x432 with 1 Axes>"
            ]
          },
          "metadata": {
            "needs_background": "light"
          }
        }
      ]
    },
    {
      "cell_type": "markdown",
      "metadata": {
        "id": "bYOuHyIcnRNu"
      },
      "source": [
        "# Número de estudantes ativos no Edutech"
      ]
    },
    {
      "cell_type": "code",
      "metadata": {
        "id": "EPMvZ5_4nQ5s",
        "colab": {
          "base_uri": "https://localhost:8080/"
        },
        "outputId": "9ac52fa8-0e36-4214-9c98-521e92aaae9b"
      },
      "source": [
        "alunosAtivosDaSemana[1].data.count()"
      ],
      "execution_count": 187,
      "outputs": [
        {
          "output_type": "execute_result",
          "data": {
            "text/plain": [
              "6619"
            ]
          },
          "metadata": {},
          "execution_count": 187
        }
      ]
    },
    {
      "cell_type": "markdown",
      "metadata": {
        "id": "kweiRO7PXEJ_"
      },
      "source": [
        "# Média de atividades realizadas por alunos de cada Trilha por Semana"
      ]
    },
    {
      "cell_type": "code",
      "metadata": {
        "id": "pE-YrJCPXf6s",
        "colab": {
          "base_uri": "https://localhost:8080/",
          "height": 203
        },
        "outputId": "1b58175c-6257-45b0-f9d8-0066d02f0730"
      },
      "source": [
        "alunos_semana = pd.DataFrame({'ETI':[alunosAtivosDaSemana[i].query(\"Trilha == 'ETI'\").data.count() for i in range(N)],\n",
        "              'Games1':[alunosAtivosDaSemana[i].query(\"Trilha == 'Games1'\").data.count() for i in range(N)],\n",
        "              'Games2': [alunosAtivosDaSemana[i].query(\"Trilha == 'Games2'\").data.count() for i in range(N)],\n",
        "              'FrontEnd':[alunosAtivosDaSemana[i].query(\"Trilha == 'FrontEnd'\").data.count() for i in range(N)],\n",
        "              'Mobile': [alunosAtivosDaSemana[i].query(\"Trilha == 'Mobile'\").data.count() for i in range(N)],\n",
        "              'DataScience': [alunosAtivosDaSemana[i].query(\"Trilha == 'DataScience'\").data.count() for i in range(N)],\n",
        "              'Java': [alunosAtivosDaSemana[i].query(\"Trilha == 'Java'\").data.count() for i in range(N)],\n",
        "              'Python': [alunosAtivosDaSemana[i].query(\"Trilha == 'Python'\").data.count() for i in range(N)]})\n",
        "alunos_semana.head()"
      ],
      "execution_count": 188,
      "outputs": [
        {
          "output_type": "execute_result",
          "data": {
            "text/html": [
              "<div>\n",
              "<style scoped>\n",
              "    .dataframe tbody tr th:only-of-type {\n",
              "        vertical-align: middle;\n",
              "    }\n",
              "\n",
              "    .dataframe tbody tr th {\n",
              "        vertical-align: top;\n",
              "    }\n",
              "\n",
              "    .dataframe thead th {\n",
              "        text-align: right;\n",
              "    }\n",
              "</style>\n",
              "<table border=\"1\" class=\"dataframe\">\n",
              "  <thead>\n",
              "    <tr style=\"text-align: right;\">\n",
              "      <th></th>\n",
              "      <th>ETI</th>\n",
              "      <th>Games1</th>\n",
              "      <th>Games2</th>\n",
              "      <th>FrontEnd</th>\n",
              "      <th>Mobile</th>\n",
              "      <th>DataScience</th>\n",
              "      <th>Java</th>\n",
              "      <th>Python</th>\n",
              "    </tr>\n",
              "  </thead>\n",
              "  <tbody>\n",
              "    <tr>\n",
              "      <th>0</th>\n",
              "      <td>148</td>\n",
              "      <td>2076</td>\n",
              "      <td>1626</td>\n",
              "      <td>1021</td>\n",
              "      <td>440</td>\n",
              "      <td>240</td>\n",
              "      <td>368</td>\n",
              "      <td>438</td>\n",
              "    </tr>\n",
              "    <tr>\n",
              "      <th>1</th>\n",
              "      <td>266</td>\n",
              "      <td>2198</td>\n",
              "      <td>1621</td>\n",
              "      <td>1039</td>\n",
              "      <td>442</td>\n",
              "      <td>238</td>\n",
              "      <td>381</td>\n",
              "      <td>433</td>\n",
              "    </tr>\n",
              "    <tr>\n",
              "      <th>2</th>\n",
              "      <td>347</td>\n",
              "      <td>2231</td>\n",
              "      <td>1534</td>\n",
              "      <td>1041</td>\n",
              "      <td>450</td>\n",
              "      <td>241</td>\n",
              "      <td>392</td>\n",
              "      <td>428</td>\n",
              "    </tr>\n",
              "    <tr>\n",
              "      <th>3</th>\n",
              "      <td>562</td>\n",
              "      <td>2096</td>\n",
              "      <td>1529</td>\n",
              "      <td>1003</td>\n",
              "      <td>436</td>\n",
              "      <td>234</td>\n",
              "      <td>372</td>\n",
              "      <td>453</td>\n",
              "    </tr>\n",
              "    <tr>\n",
              "      <th>4</th>\n",
              "      <td>917</td>\n",
              "      <td>1984</td>\n",
              "      <td>1357</td>\n",
              "      <td>901</td>\n",
              "      <td>383</td>\n",
              "      <td>207</td>\n",
              "      <td>331</td>\n",
              "      <td>395</td>\n",
              "    </tr>\n",
              "  </tbody>\n",
              "</table>\n",
              "</div>"
            ],
            "text/plain": [
              "   ETI  Games1  Games2  FrontEnd  Mobile  DataScience  Java  Python\n",
              "0  148    2076    1626      1021     440          240   368     438\n",
              "1  266    2198    1621      1039     442          238   381     433\n",
              "2  347    2231    1534      1041     450          241   392     428\n",
              "3  562    2096    1529      1003     436          234   372     453\n",
              "4  917    1984    1357       901     383          207   331     395"
            ]
          },
          "metadata": {},
          "execution_count": 188
        }
      ]
    },
    {
      "cell_type": "code",
      "metadata": {
        "id": "fimwbbDqV-j0",
        "colab": {
          "base_uri": "https://localhost:8080/"
        },
        "outputId": "99d403f5-dae4-47a7-8bb6-9e0dea11da62"
      },
      "source": [
        "dados[26].groupby('Trilha').mean().atividadesGerais.sort_values()"
      ],
      "execution_count": 199,
      "outputs": [
        {
          "output_type": "execute_result",
          "data": {
            "text/plain": [
              "Trilha\n",
              "Mobile         22.446237\n",
              "Java           22.655172\n",
              "FrontEnd       23.292052\n",
              "DataScience    25.752475\n",
              "Python         26.338983\n",
              "Games1         32.253227\n",
              "Games2         34.319672\n",
              "ETI            36.607075\n",
              "Name: atividadesGerais, dtype: float64"
            ]
          },
          "metadata": {},
          "execution_count": 199
        }
      ]
    },
    {
      "cell_type": "code",
      "metadata": {
        "id": "lkUwQ4ueUxrS",
        "colab": {
          "base_uri": "https://localhost:8080/",
          "height": 391
        },
        "outputId": "44bb66e0-b969-489b-c5e8-7a18a6f6ddca"
      },
      "source": [
        "alunos_semana.iloc[:,1:].plot(kind = 'box',\n",
        "           figsize = (20,6))"
      ],
      "execution_count": 190,
      "outputs": [
        {
          "output_type": "execute_result",
          "data": {
            "text/plain": [
              "<matplotlib.axes._subplots.AxesSubplot at 0x7fbaa4162390>"
            ]
          },
          "metadata": {},
          "execution_count": 190
        },
        {
          "output_type": "display_data",
          "data": {
            "image/png": "[encoded data removed]",
            "text/plain": [
              "<Figure size 1440x432 with 1 Axes>"
            ]
          },
          "metadata": {
            "needs_background": "light"
          }
        }
      ]
    },
    {
      "cell_type": "markdown",
      "metadata": {
        "id": "vyN5uUzmnxv9"
      },
      "source": [
        "# Gráficos"
      ]
    },
    {
      "cell_type": "code",
      "metadata": {
        "id": "3PAcdSYpl4h2"
      },
      "source": [
        "import seaborn as sns\n",
        "import matplotlib.pyplot as plt"
      ],
      "execution_count": 191,
      "outputs": []
    },
    {
      "cell_type": "markdown",
      "metadata": {
        "id": "vckSGZKVgETq"
      },
      "source": [
        "Gráfico01 - Número de estudantes inscritos no Edutech por semana"
      ]
    },
    {
      "cell_type": "code",
      "metadata": {
        "id": "O75J_AZc-SWZ"
      },
      "source": [
        "alunosETI = [];\n",
        "alunosGames1 = [];\n",
        "alunosGames2 = [];\n",
        "alunosFrontEnd = [];\n",
        "alunosMobile = [];\n",
        "alunosDataScience = [];\n",
        "alunosJava = [];\n",
        "alunosPython = [];\n",
        "for i in range(N):\n",
        "  alunosETI.append(dados[i].query('Trilha == \"ETI\"').atividadesGerais.count())\n",
        "  alunosGames1.append(dados[i].query('Trilha == \"Games1\"').atividadesGerais.count())\n",
        "  alunosGames2.append(dados[i].query('Trilha == \"Games2\"').atividadesGerais.count())\n",
        "  alunosFrontEnd.append(dados[i].query('Trilha == \"FrontEnd\"').atividadesGerais.count())\n",
        "  alunosMobile.append(dados[i].query('Trilha == \"Mobile\"').atividadesGerais.count())\n",
        "  alunosDataScience.append(dados[i].query('Trilha == \"DataScience\"').atividadesGerais.count())\n",
        "  alunosJava.append(dados[i].query('Trilha == \"Java\"').atividadesGerais.count())\n",
        "  alunosPython.append(dados[i].query('Trilha == \"Python\"').atividadesGerais.count())\n"
      ],
      "execution_count": 211,
      "outputs": []
    },
    {
      "cell_type": "code",
      "metadata": {
        "id": "_DJVdBRChU0b",
        "colab": {
          "base_uri": "https://localhost:8080/",
          "height": 322
        },
        "outputId": "3020da5f-6668-492b-9e89-9b09192adb3b"
      },
      "source": [
        "t = list(range(1,N+1))\n",
        "plt.figure(figsize=(30,6))\n",
        "plt.plot(t, alunosGames1, t, alunosGames2, t, alunosFrontEnd, t, alunosMobile, t, alunosDataScience, t, alunosJava, t, alunosPython, t, alunosETI)\n",
        "plt.xlabel('Semanas', fontsize=15)\n",
        "plt.ylabel('Número de estudantes ativos', fontsize = 15)\n",
        "\n",
        "plt.show()"
      ],
      "execution_count": 212,
      "outputs": [
        {
          "output_type": "display_data",
          "data": {
            "image/png": "[encoded data removed]",
            "text/plain": [
              "<Figure size 2160x432 with 1 Axes>"
            ]
          },
          "metadata": {
            "needs_background": "light"
          }
        }
      ]
    },
    {
      "cell_type": "code",
      "metadata": {
        "id": "zEc2450lMNO-"
      },
      "source": [
        "import numpy as np"
      ],
      "execution_count": 193,
      "outputs": []
    },
    {
      "cell_type": "code",
      "metadata": {
        "id": "-2Et7nwkL98f",
        "colab": {
          "base_uri": "https://localhost:8080/"
        },
        "outputId": "9aba223e-bbbd-4b1f-aae3-0135e527a8a2"
      },
      "source": [
        "alunosEdutech = [];\n",
        "alunosEdutech = np.sum((alunosGames1, alunosGames2, alunosFrontEnd, alunosMobile, alunosDataScience, alunosJava, alunosPython),axis=0)\n",
        "\n",
        "alunosEdutech"
      ],
      "execution_count": 213,
      "outputs": [
        {
          "output_type": "execute_result",
          "data": {
            "text/plain": [
              "array([6209, 6352, 6317, 6123, 5558, 5549, 4491, 5100, 4590, 4329, 3626,\n",
              "       2811, 1306, 2401, 3150, 3103, 3021, 2715, 2939, 3258, 2764, 3612,\n",
              "       3588, 3416, 3075, 2385, 2889])"
            ]
          },
          "metadata": {},
          "execution_count": 213
        }
      ]
    },
    {
      "cell_type": "code",
      "metadata": {
        "id": "8OGz34fzLobJ",
        "colab": {
          "base_uri": "https://localhost:8080/",
          "height": 322
        },
        "outputId": "8c6546c2-a926-49ca-c31d-679cb070118a"
      },
      "source": [
        "t = list(range(1,N+1))\n",
        "plt.figure(figsize=(30,6))\n",
        "plt.plot(t, alunosEdutech, t , alunosETI)\n",
        "plt.xlabel('Semanas', fontsize=15)\n",
        "plt.ylabel('Número de estudantes ativos', fontsize = 15)\n",
        "\n",
        "plt.show()"
      ],
      "execution_count": 214,
      "outputs": [
        {
          "output_type": "display_data",
          "data": {
            "image/png": "[encoded data removed]",
            "text/plain": [
              "<Figure size 2160x432 with 1 Axes>"
            ]
          },
          "metadata": {
            "needs_background": "light"
          }
        }
      ]
    },
    {
      "cell_type": "code",
      "metadata": {
        "id": "V1uZAqcSK6u0",
        "colab": {
          "base_uri": "https://localhost:8080/"
        },
        "outputId": "9a72ab8e-5995-4c8a-8e83-c3b0abeeac0c"
      },
      "source": [
        "alunosAtivosDaSemana[25].dia_da_semana.value_counts().index"
      ],
      "execution_count": 215,
      "outputs": [
        {
          "output_type": "execute_result",
          "data": {
            "text/plain": [
              "Index(['Sexta', 'Quarta', 'Quinta', 'Domingo', 'Sabado', 'Segunda', 'Terca'], dtype='object')"
            ]
          },
          "metadata": {},
          "execution_count": 215
        }
      ]
    },
    {
      "cell_type": "markdown",
      "metadata": {
        "id": "JW5oU6FfLno0"
      },
      "source": [
        "# Qual é o dia da semana em que os alunos mais estudam?\n",
        "https://cursos.alura.com.br/course/data-science-primeiros-passos/task/49685"
      ]
    },
    {
      "cell_type": "code",
      "metadata": {
        "id": "oQ1bTpSKnBkl",
        "colab": {
          "base_uri": "https://localhost:8080/",
          "height": 386
        },
        "outputId": "088fe593-78c9-4929-d980-cb116c775a52"
      },
      "source": [
        "i=26\n",
        "sns.catplot(x = \"dia_da_semana\", data = alunosAtivosDaSemana[i], \n",
        "            kind=\"count\",\n",
        "            aspect=2,\n",
        "            palette=\"GnBu_d\",\n",
        "            order = alunosAtivosDaSemana[i].dia_da_semana.value_counts().index)"
      ],
      "execution_count": 219,
      "outputs": [
        {
          "output_type": "execute_result",
          "data": {
            "text/plain": [
              "<seaborn.axisgrid.FacetGrid at 0x7fbaa4041110>"
            ]
          },
          "metadata": {},
          "execution_count": 219
        },
        {
          "output_type": "display_data",
          "data": {
            "image/png": "[encoded data removed]",
            "text/plain": [
              "<Figure size 720x360 with 1 Axes>"
            ]
          },
          "metadata": {
            "needs_background": "light"
          }
        }
      ]
    },
    {
      "cell_type": "markdown",
      "metadata": {
        "id": "RDFV3DTHjOAD"
      },
      "source": [
        "# Qual é o melhor dia da semana para estudar (Games1)"
      ]
    },
    {
      "cell_type": "code",
      "metadata": {
        "id": "ngoO2kfGjN1a",
        "colab": {
          "base_uri": "https://localhost:8080/",
          "height": 386
        },
        "outputId": "4b2b4f61-0c0b-43f0-925b-f6cc0b5c8d72"
      },
      "source": [
        "i=26\n",
        "sns.catplot(x = \"dia_da_semana\", data = alunosAtivosDaSemana[i].query('Trilha == \"DataScience\"'), \n",
        "            kind=\"count\",\n",
        "            aspect=2,\n",
        "            palette=\"GnBu_d\",\n",
        "            order = alunosAtivosDaSemana[i].query('Trilha == \"DataScience\"').dia_da_semana.value_counts().index)"
      ],
      "execution_count": 221,
      "outputs": [
        {
          "output_type": "execute_result",
          "data": {
            "text/plain": [
              "<seaborn.axisgrid.FacetGrid at 0x7fbaa4041b10>"
            ]
          },
          "metadata": {},
          "execution_count": 221
        },
        {
          "output_type": "display_data",
          "data": {
            "image/png": "[encoded data removed]",
            "text/plain": [
              "<Figure size 720x360 with 1 Axes>"
            ]
          },
          "metadata": {
            "needs_background": "light"
          }
        }
      ]
    },
    {
      "cell_type": "markdown",
      "metadata": {
        "id": "k9uL83lRlIyN"
      },
      "source": [
        "Gráfico 02 - Número de estudantes ativos\n",
        "<br>"
      ]
    },
    {
      "cell_type": "markdown",
      "metadata": {
        "id": "ZPNV9GHdlP3_"
      },
      "source": [
        "Gráfico 04 - Número de atividades feitas por trilha (semana - semana)\n",
        "<br> ETI, Games1, Games2, Front, Mobile, Data, Java e Python\n",
        "<br>  **Gráfico de Barras**"
      ]
    },
    {
      "cell_type": "markdown",
      "metadata": {
        "id": "lePfRCrNgMPY"
      },
      "source": [
        ""
      ]
    },
    {
      "cell_type": "code",
      "metadata": {
        "id": "rTCjXppwmTze"
      },
      "source": [
        "plt = sns.scatterplot(x='dia_da_semana',y='atividadesGerais', data=alunosAtivosDaSemana[1])\n",
        "plt.figure.set_size_inches(24,6)"
      ],
      "execution_count": null,
      "outputs": []
    },
    {
      "cell_type": "code",
      "metadata": {
        "id": "lKUlXu_wM_sY"
      },
      "source": [
        "sns.distplot(alunosDataScience)\n"
      ],
      "execution_count": null,
      "outputs": []
    },
    {
      "cell_type": "code",
      "metadata": {
        "id": "Y57_b8UPNWGy"
      },
      "source": [
        "sns.distplot(alunosETI)\n"
      ],
      "execution_count": null,
      "outputs": []
    },
    {
      "cell_type": "code",
      "metadata": {
        "id": "veiI9QZWNDDB"
      },
      "source": [
        ""
      ],
      "execution_count": null,
      "outputs": []
    }
  ]
}