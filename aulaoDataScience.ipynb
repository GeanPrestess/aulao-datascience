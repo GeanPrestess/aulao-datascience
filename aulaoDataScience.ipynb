{
  "nbformat": 4,
  "nbformat_minor": 0,
  "metadata": {
    "colab": {
      "name": "aulaoDataScience.ipynb",
      "provenance": [],
      "authorship_tag": "ABX9TyM7mvhufP+L97gX5YwAxAda",
      "include_colab_link": true
    },
    "kernelspec": {
      "name": "python3",
      "display_name": "Python 3"
    },
    "language_info": {
      "name": "python"
    }
  },
  "cells": [
    {
      "cell_type": "markdown",
      "metadata": {
        "id": "view-in-github",
        "colab_type": "text"
      },
      "source": [
        "<a href=\"https://colab.research.google.com/github/marcelopaludetto/aulao-datascience/blob/main/aulaoDataScience.ipynb\" target=\"_parent\"><img src=\"https://colab.research.google.com/assets/colab-badge.svg\" alt=\"Open In Colab\"/></a>"
      ]
    },
    {
      "cell_type": "code",
      "metadata": {
        "id": "NfUPYlleinLN"
      },
      "source": [
        "import pandas as pd"
      ],
      "execution_count": null,
      "outputs": []
    },
    {
      "cell_type": "code",
      "metadata": {
        "id": "Ynya5vFTjJWu"
      },
      "source": [
        "dados = pd.read_csv('/content/SEED - Semana 18.csv')"
      ],
      "execution_count": null,
      "outputs": []
    },
    {
      "cell_type": "code",
      "metadata": {
        "colab": {
          "base_uri": "https://localhost:8080/",
          "height": 365
        },
        "id": "qoo-lXhbjN9p",
        "outputId": "68091ace-4dca-4b38-d554-044b2eff2cd1"
      },
      "source": [
        "dados.head()"
      ],
      "execution_count": null,
      "outputs": [
        {
          "output_type": "execute_result",
          "data": {
            "text/html": [
              "<div>\n",
              "<style scoped>\n",
              "    .dataframe tbody tr th:only-of-type {\n",
              "        vertical-align: middle;\n",
              "    }\n",
              "\n",
              "    .dataframe tbody tr th {\n",
              "        vertical-align: top;\n",
              "    }\n",
              "\n",
              "    .dataframe thead th {\n",
              "        text-align: right;\n",
              "    }\n",
              "</style>\n",
              "<table border=\"1\" class=\"dataframe\">\n",
              "  <thead>\n",
              "    <tr style=\"text-align: right;\">\n",
              "      <th></th>\n",
              "      <th>data</th>\n",
              "      <th>data de último acesso</th>\n",
              "      <th>id</th>\n",
              "      <th>email</th>\n",
              "      <th>cargo</th>\n",
              "      <th>teamId</th>\n",
              "      <th>turmaTrilha</th>\n",
              "      <th>atividadesFeitas</th>\n",
              "      <th>atividadesCorretas</th>\n",
              "      <th>atividadesGerais</th>\n",
              "    </tr>\n",
              "  </thead>\n",
              "  <tbody>\n",
              "    <tr>\n",
              "      <th>0</th>\n",
              "      <td>2021-08-16</td>\n",
              "      <td>2021-08-17</td>\n",
              "      <td>607843</td>\n",
              "      <td>hudson.de.oliveira@escola.pr.gov.br</td>\n",
              "      <td>REGULAR</td>\n",
              "      <td>15087</td>\n",
              "      <td>24401831</td>\n",
              "      <td>220</td>\n",
              "      <td>191</td>\n",
              "      <td>667.0</td>\n",
              "    </tr>\n",
              "    <tr>\n",
              "      <th>1</th>\n",
              "      <td>2021-08-16</td>\n",
              "      <td>2021-08-16</td>\n",
              "      <td>737292</td>\n",
              "      <td>hemilyn.vachovicz@escola.pr.gov.br</td>\n",
              "      <td>REGULAR</td>\n",
              "      <td>16081</td>\n",
              "      <td>1674973</td>\n",
              "      <td>171</td>\n",
              "      <td>165</td>\n",
              "      <td>655.0</td>\n",
              "    </tr>\n",
              "    <tr>\n",
              "      <th>2</th>\n",
              "      <td>2021-08-16</td>\n",
              "      <td>2021-08-17</td>\n",
              "      <td>735916</td>\n",
              "      <td>geovana.sgarbosa@escola.pr.gov.br</td>\n",
              "      <td>REGULAR</td>\n",
              "      <td>15953</td>\n",
              "      <td>1667786</td>\n",
              "      <td>165</td>\n",
              "      <td>162</td>\n",
              "      <td>650.0</td>\n",
              "    </tr>\n",
              "    <tr>\n",
              "      <th>3</th>\n",
              "      <td>2021-08-16</td>\n",
              "      <td>2021-08-19</td>\n",
              "      <td>592310</td>\n",
              "      <td>vieira.robson@escola.pr.gov.br</td>\n",
              "      <td>REGULAR</td>\n",
              "      <td>14852</td>\n",
              "      <td>12409531</td>\n",
              "      <td>173</td>\n",
              "      <td>146</td>\n",
              "      <td>671.0</td>\n",
              "    </tr>\n",
              "    <tr>\n",
              "      <th>4</th>\n",
              "      <td>2021-08-16</td>\n",
              "      <td>2021-08-19</td>\n",
              "      <td>733364</td>\n",
              "      <td>ana.baragao@escola.pr.gov.br</td>\n",
              "      <td>REGULAR</td>\n",
              "      <td>15858</td>\n",
              "      <td>1662417</td>\n",
              "      <td>135</td>\n",
              "      <td>133</td>\n",
              "      <td>530.0</td>\n",
              "    </tr>\n",
              "  </tbody>\n",
              "</table>\n",
              "</div>"
            ],
            "text/plain": [
              "         data data de último acesso  ...  atividadesCorretas atividadesGerais\n",
              "0  2021-08-16            2021-08-17  ...                 191            667.0\n",
              "1  2021-08-16            2021-08-16  ...                 165            655.0\n",
              "2  2021-08-16            2021-08-17  ...                 162            650.0\n",
              "3  2021-08-16            2021-08-19  ...                 146            671.0\n",
              "4  2021-08-16            2021-08-19  ...                 133            530.0\n",
              "\n",
              "[5 rows x 10 columns]"
            ]
          },
          "metadata": {},
          "execution_count": 4
        }
      ]
    },
    {
      "cell_type": "code",
      "metadata": {
        "colab": {
          "base_uri": "https://localhost:8080/"
        },
        "id": "iaUrQ5YmjPYl",
        "outputId": "60024554-d9a1-4d9f-8341-c0cf6b1f3c76"
      },
      "source": [
        "dados.data.drop_duplicates()"
      ],
      "execution_count": null,
      "outputs": [
        {
          "output_type": "execute_result",
          "data": {
            "text/plain": [
              "0    2021-08-16\n",
              "Name: data, dtype: object"
            ]
          },
          "metadata": {},
          "execution_count": 10
        }
      ]
    },
    {
      "cell_type": "code",
      "metadata": {
        "colab": {
          "base_uri": "https://localhost:8080/"
        },
        "collapsed": true,
        "id": "IaPRXwiCjg8i",
        "outputId": "e78f506c-3f99-47c0-f46e-5e058894d999"
      },
      "source": [
        "dados.columns"
      ],
      "execution_count": null,
      "outputs": [
        {
          "output_type": "execute_result",
          "data": {
            "text/plain": [
              "Index(['data', 'data de último acesso', 'id', 'email', 'cargo', 'teamId',\n",
              "       'turmaTrilha', 'atividadesFeitas', 'atividadesCorretas',\n",
              "       'atividadesGerais'],\n",
              "      dtype='object')"
            ]
          },
          "metadata": {},
          "execution_count": 12
        }
      ]
    },
    {
      "cell_type": "code",
      "metadata": {
        "id": "3PAcdSYpl4h2"
      },
      "source": [
        "import seaborn as sns"
      ],
      "execution_count": null,
      "outputs": []
    },
    {
      "cell_type": "code",
      "metadata": {
        "colab": {
          "base_uri": "https://localhost:8080/",
          "height": 296
        },
        "id": "GJjN4oBol8lD",
        "outputId": "f26b52d2-9f2e-479e-d89a-f1db4e420124"
      },
      "source": [
        "sns.scatterplot(x='data de último acesso',y='atividadesFeitas', data=dados)"
      ],
      "execution_count": null,
      "outputs": [
        {
          "output_type": "execute_result",
          "data": {
            "text/plain": [
              "<matplotlib.axes._subplots.AxesSubplot at 0x7fa3a70f4b50>"
            ]
          },
          "metadata": {},
          "execution_count": 15
        },
        {
          "output_type": "display_data",
          "data": {
            "image/png": "[encoded data removed]",
            "text/plain": [
              "<Figure size 432x288 with 1 Axes>"
            ]
          },
          "metadata": {
            "needs_background": "light"
          }
        }
      ]
    },
    {
      "cell_type": "code",
      "metadata": {
        "id": "naLgfyG7l96P"
      },
      "source": [
        "dadosAtivos = dados.query(\"atividadesFeitas > 0\")"
      ],
      "execution_count": null,
      "outputs": []
    },
    {
      "cell_type": "code",
      "metadata": {
        "colab": {
          "base_uri": "https://localhost:8080/",
          "height": 296
        },
        "id": "rTCjXppwmTze",
        "outputId": "b95da8b6-8bcd-44c9-ceca-24b040696dcc"
      },
      "source": [
        "sns.scatterplot(x='data de último acesso',y='atividadesFeitas', data=dadosAtivos)"
      ],
      "execution_count": null,
      "outputs": [
        {
          "output_type": "execute_result",
          "data": {
            "text/plain": [
              "<matplotlib.axes._subplots.AxesSubplot at 0x7fa398913850>"
            ]
          },
          "metadata": {},
          "execution_count": 19
        },
        {
          "output_type": "display_data",
          "data": {
            "image/png": "[encoded data removed]",
            "text/plain": [
              "<Figure size 432x288 with 1 Axes>"
            ]
          },
          "metadata": {
            "needs_background": "light"
          }
        }
      ]
    },
    {
      "cell_type": "code",
      "metadata": {
        "colab": {
          "base_uri": "https://localhost:8080/",
          "height": 296
        },
        "id": "CbRbLnYfmq5-",
        "outputId": "9b2c6595-158c-4ee1-ee93-9320ff45cfb7"
      },
      "source": [
        "sns.boxplot(x='data de último acesso',y='atividadesFeitas', data=dadosAtivos)"
      ],
      "execution_count": null,
      "outputs": [
        {
          "output_type": "execute_result",
          "data": {
            "text/plain": [
              "<matplotlib.axes._subplots.AxesSubplot at 0x7fa39626e410>"
            ]
          },
          "metadata": {},
          "execution_count": 21
        },
        {
          "output_type": "display_data",
          "data": {
            "image/png": "[encoded data removed]",
            "text/plain": [
              "<Figure size 432x288 with 1 Axes>"
            ]
          },
          "metadata": {
            "needs_background": "light"
          }
        }
      ]
    },
    {
      "cell_type": "code",
      "metadata": {
        "colab": {
          "base_uri": "https://localhost:8080/",
          "height": 669
        },
        "id": "OZbLkZYtm5Ob",
        "outputId": "aa7b03fd-4fb9-4480-e558-8ce9400fadf0"
      },
      "source": [
        "dadosAtivos"
      ],
      "execution_count": null,
      "outputs": [
        {
          "output_type": "execute_result",
          "data": {
            "text/html": [
              "<div>\n",
              "<style scoped>\n",
              "    .dataframe tbody tr th:only-of-type {\n",
              "        vertical-align: middle;\n",
              "    }\n",
              "\n",
              "    .dataframe tbody tr th {\n",
              "        vertical-align: top;\n",
              "    }\n",
              "\n",
              "    .dataframe thead th {\n",
              "        text-align: right;\n",
              "    }\n",
              "</style>\n",
              "<table border=\"1\" class=\"dataframe\">\n",
              "  <thead>\n",
              "    <tr style=\"text-align: right;\">\n",
              "      <th></th>\n",
              "      <th>data</th>\n",
              "      <th>data de último acesso</th>\n",
              "      <th>id</th>\n",
              "      <th>email</th>\n",
              "      <th>cargo</th>\n",
              "      <th>teamId</th>\n",
              "      <th>turmaTrilha</th>\n",
              "      <th>atividadesFeitas</th>\n",
              "      <th>atividadesCorretas</th>\n",
              "      <th>atividadesGerais</th>\n",
              "    </tr>\n",
              "  </thead>\n",
              "  <tbody>\n",
              "    <tr>\n",
              "      <th>0</th>\n",
              "      <td>2021-08-16</td>\n",
              "      <td>2021-08-17</td>\n",
              "      <td>607843</td>\n",
              "      <td>hudson.de.oliveira@escola.pr.gov.br</td>\n",
              "      <td>REGULAR</td>\n",
              "      <td>15087</td>\n",
              "      <td>24401831</td>\n",
              "      <td>220</td>\n",
              "      <td>191</td>\n",
              "      <td>667.0</td>\n",
              "    </tr>\n",
              "    <tr>\n",
              "      <th>1</th>\n",
              "      <td>2021-08-16</td>\n",
              "      <td>2021-08-16</td>\n",
              "      <td>737292</td>\n",
              "      <td>hemilyn.vachovicz@escola.pr.gov.br</td>\n",
              "      <td>REGULAR</td>\n",
              "      <td>16081</td>\n",
              "      <td>1674973</td>\n",
              "      <td>171</td>\n",
              "      <td>165</td>\n",
              "      <td>655.0</td>\n",
              "    </tr>\n",
              "    <tr>\n",
              "      <th>2</th>\n",
              "      <td>2021-08-16</td>\n",
              "      <td>2021-08-17</td>\n",
              "      <td>735916</td>\n",
              "      <td>geovana.sgarbosa@escola.pr.gov.br</td>\n",
              "      <td>REGULAR</td>\n",
              "      <td>15953</td>\n",
              "      <td>1667786</td>\n",
              "      <td>165</td>\n",
              "      <td>162</td>\n",
              "      <td>650.0</td>\n",
              "    </tr>\n",
              "    <tr>\n",
              "      <th>3</th>\n",
              "      <td>2021-08-16</td>\n",
              "      <td>2021-08-19</td>\n",
              "      <td>592310</td>\n",
              "      <td>vieira.robson@escola.pr.gov.br</td>\n",
              "      <td>REGULAR</td>\n",
              "      <td>14852</td>\n",
              "      <td>12409531</td>\n",
              "      <td>173</td>\n",
              "      <td>146</td>\n",
              "      <td>671.0</td>\n",
              "    </tr>\n",
              "    <tr>\n",
              "      <th>4</th>\n",
              "      <td>2021-08-16</td>\n",
              "      <td>2021-08-19</td>\n",
              "      <td>733364</td>\n",
              "      <td>ana.baragao@escola.pr.gov.br</td>\n",
              "      <td>REGULAR</td>\n",
              "      <td>15858</td>\n",
              "      <td>1662417</td>\n",
              "      <td>135</td>\n",
              "      <td>133</td>\n",
              "      <td>530.0</td>\n",
              "    </tr>\n",
              "    <tr>\n",
              "      <th>...</th>\n",
              "      <td>...</td>\n",
              "      <td>...</td>\n",
              "      <td>...</td>\n",
              "      <td>...</td>\n",
              "      <td>...</td>\n",
              "      <td>...</td>\n",
              "      <td>...</td>\n",
              "      <td>...</td>\n",
              "      <td>...</td>\n",
              "      <td>...</td>\n",
              "    </tr>\n",
              "    <tr>\n",
              "      <th>33592</th>\n",
              "      <td>2021-08-16</td>\n",
              "      <td>2021-08-19</td>\n",
              "      <td>724495</td>\n",
              "      <td>lucas.hunhoff@escola.pr.gov.br</td>\n",
              "      <td>REGULAR</td>\n",
              "      <td>16291</td>\n",
              "      <td>1690520</td>\n",
              "      <td>1</td>\n",
              "      <td>0</td>\n",
              "      <td>7.0</td>\n",
              "    </tr>\n",
              "    <tr>\n",
              "      <th>34237</th>\n",
              "      <td>2021-08-16</td>\n",
              "      <td>2021-08-17</td>\n",
              "      <td>731883</td>\n",
              "      <td>luiz.henrique.pereira19@escola.pr.gov.br</td>\n",
              "      <td>REGULAR</td>\n",
              "      <td>16203</td>\n",
              "      <td>1681976</td>\n",
              "      <td>2</td>\n",
              "      <td>0</td>\n",
              "      <td>21.0</td>\n",
              "    </tr>\n",
              "    <tr>\n",
              "      <th>34378</th>\n",
              "      <td>2021-08-16</td>\n",
              "      <td>2021-08-17</td>\n",
              "      <td>736389</td>\n",
              "      <td>luiz.souza.soares@escola.pr.gov.br</td>\n",
              "      <td>REGULAR</td>\n",
              "      <td>16197</td>\n",
              "      <td>1680534</td>\n",
              "      <td>1</td>\n",
              "      <td>0</td>\n",
              "      <td>25.0</td>\n",
              "    </tr>\n",
              "    <tr>\n",
              "      <th>34647</th>\n",
              "      <td>2021-08-16</td>\n",
              "      <td>2021-08-19</td>\n",
              "      <td>574758</td>\n",
              "      <td>machado.ulisses@escola.pr.gov.br</td>\n",
              "      <td>REGULAR</td>\n",
              "      <td>14635</td>\n",
              "      <td>11410911</td>\n",
              "      <td>1</td>\n",
              "      <td>0</td>\n",
              "      <td>9.0</td>\n",
              "    </tr>\n",
              "    <tr>\n",
              "      <th>34784</th>\n",
              "      <td>2021-08-16</td>\n",
              "      <td>2021-08-19</td>\n",
              "      <td>593541</td>\n",
              "      <td>manoela.pimentel@escola.pr.gov.br</td>\n",
              "      <td>REGULAR</td>\n",
              "      <td>14797</td>\n",
              "      <td>12405731</td>\n",
              "      <td>1</td>\n",
              "      <td>0</td>\n",
              "      <td>7.0</td>\n",
              "    </tr>\n",
              "  </tbody>\n",
              "</table>\n",
              "<p>3248 rows × 10 columns</p>\n",
              "</div>"
            ],
            "text/plain": [
              "             data data de último acesso  ...  atividadesCorretas atividadesGerais\n",
              "0      2021-08-16            2021-08-17  ...                 191            667.0\n",
              "1      2021-08-16            2021-08-16  ...                 165            655.0\n",
              "2      2021-08-16            2021-08-17  ...                 162            650.0\n",
              "3      2021-08-16            2021-08-19  ...                 146            671.0\n",
              "4      2021-08-16            2021-08-19  ...                 133            530.0\n",
              "...           ...                   ...  ...                 ...              ...\n",
              "33592  2021-08-16            2021-08-19  ...                   0              7.0\n",
              "34237  2021-08-16            2021-08-17  ...                   0             21.0\n",
              "34378  2021-08-16            2021-08-17  ...                   0             25.0\n",
              "34647  2021-08-16            2021-08-19  ...                   0              9.0\n",
              "34784  2021-08-16            2021-08-19  ...                   0              7.0\n",
              "\n",
              "[3248 rows x 10 columns]"
            ]
          },
          "metadata": {},
          "execution_count": 22
        }
      ]
    },
    {
      "cell_type": "code",
      "metadata": {
        "colab": {
          "base_uri": "https://localhost:8080/",
          "height": 130
        },
        "id": "d4uroCmgniWf",
        "outputId": "ffe2e31a-f5f2-4412-d73d-381f9444ad09"
      },
      "source": [
        ""
      ],
      "execution_count": null,
      "outputs": [
        {
          "output_type": "error",
          "ename": "SyntaxError",
          "evalue": "ignored",
          "traceback": [
            "\u001b[0;36m  File \u001b[0;32m\"<ipython-input-25-facc81deaba0>\"\u001b[0;36m, line \u001b[0;32m1\u001b[0m\n\u001b[0;31m    dadosAtivos.data de último acesso.count()\u001b[0m\n\u001b[0m                      ^\u001b[0m\n\u001b[0;31mSyntaxError\u001b[0m\u001b[0;31m:\u001b[0m invalid syntax\n"
          ]
        }
      ]
    },
    {
      "cell_type": "code",
      "metadata": {
        "id": "m8nvFYCgnlvi"
      },
      "source": [
        ""
      ],
      "execution_count": null,
      "outputs": []
    }
  ]
}