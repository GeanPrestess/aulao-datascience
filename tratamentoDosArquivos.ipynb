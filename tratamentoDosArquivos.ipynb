{
  "nbformat": 4,
  "nbformat_minor": 0,
  "metadata": {
    "colab": {
      "name": "tratamentoDosArquivos.ipynb",
      "provenance": [],
      "authorship_tag": "ABX9TyMuPxs7aUXl1pIGO4GQixV8",
      "include_colab_link": true
    },
    "kernelspec": {
      "name": "python3",
      "display_name": "Python 3"
    },
    "language_info": {
      "name": "python"
    }
  },
  "cells": [
    {
      "cell_type": "markdown",
      "metadata": {
        "id": "view-in-github",
        "colab_type": "text"
      },
      "source": [
        "<a href=\"https://colab.research.google.com/github/marcelopaludetto/aulao-datascience/blob/main/tratamentoDosArquivos.ipynb\" target=\"_parent\"><img src=\"https://colab.research.google.com/assets/colab-badge.svg\" alt=\"Open In Colab\"/></a>"
      ]
    },
    {
      "cell_type": "code",
      "metadata": {
        "id": "PXa0Lz8cisuS"
      },
      "source": [
        "import pandas as pd\n",
        "import warnings\n",
        "\n",
        "warnings.filterwarnings('ignore')"
      ],
      "execution_count": 1,
      "outputs": []
    },
    {
      "cell_type": "code",
      "metadata": {
        "id": "ExpdMoN4i0EL"
      },
      "source": [
        "dados27 = pd.read_csv('/content/SEED - Semana 27.csv')"
      ],
      "execution_count": 3,
      "outputs": []
    },
    {
      "cell_type": "code",
      "metadata": {
        "colab": {
          "base_uri": "https://localhost:8080/",
          "height": 321
        },
        "id": "mLkcki7WmrRw",
        "outputId": "6b311962-fc5a-4b84-954a-ae073c7594ac"
      },
      "source": [
        "dados27.head()"
      ],
      "execution_count": 4,
      "outputs": [
        {
          "output_type": "execute_result",
          "data": {
            "text/html": [
              "<div>\n",
              "<style scoped>\n",
              "    .dataframe tbody tr th:only-of-type {\n",
              "        vertical-align: middle;\n",
              "    }\n",
              "\n",
              "    .dataframe tbody tr th {\n",
              "        vertical-align: top;\n",
              "    }\n",
              "\n",
              "    .dataframe thead th {\n",
              "        text-align: right;\n",
              "    }\n",
              "</style>\n",
              "<table border=\"1\" class=\"dataframe\">\n",
              "  <thead>\n",
              "    <tr style=\"text-align: right;\">\n",
              "      <th></th>\n",
              "      <th>data</th>\n",
              "      <th>data de último acesso</th>\n",
              "      <th>id</th>\n",
              "      <th>email</th>\n",
              "      <th>cargo</th>\n",
              "      <th>teamId</th>\n",
              "      <th>turmaTrilha</th>\n",
              "      <th>atividadesFeitas</th>\n",
              "      <th>atividadesCorretas</th>\n",
              "      <th>atividadesGerais</th>\n",
              "    </tr>\n",
              "  </thead>\n",
              "  <tbody>\n",
              "    <tr>\n",
              "      <th>0</th>\n",
              "      <td>2021-10-18</td>\n",
              "      <td>2021-10-22</td>\n",
              "      <td>730078</td>\n",
              "      <td>beatriz.renauer@escola.pr.gov.br</td>\n",
              "      <td>REGULAR</td>\n",
              "      <td>15927</td>\n",
              "      <td>1665416</td>\n",
              "      <td>211</td>\n",
              "      <td>209</td>\n",
              "      <td>839.0</td>\n",
              "    </tr>\n",
              "    <tr>\n",
              "      <th>1</th>\n",
              "      <td>2021-10-18</td>\n",
              "      <td>2021-10-23</td>\n",
              "      <td>566984</td>\n",
              "      <td>victor.bellin.santos@escola.pr.gov.br</td>\n",
              "      <td>REGULAR</td>\n",
              "      <td>14476</td>\n",
              "      <td>11400611</td>\n",
              "      <td>200</td>\n",
              "      <td>195</td>\n",
              "      <td>721.0</td>\n",
              "    </tr>\n",
              "    <tr>\n",
              "      <th>2</th>\n",
              "      <td>2021-10-18</td>\n",
              "      <td>2021-10-22</td>\n",
              "      <td>575024</td>\n",
              "      <td>jesuz.gustavo@escola.pr.gov.br</td>\n",
              "      <td>REGULAR</td>\n",
              "      <td>14644</td>\n",
              "      <td>11411811</td>\n",
              "      <td>179</td>\n",
              "      <td>177</td>\n",
              "      <td>673.0</td>\n",
              "    </tr>\n",
              "    <tr>\n",
              "      <th>3</th>\n",
              "      <td>2021-10-18</td>\n",
              "      <td>2021-10-20</td>\n",
              "      <td>835325</td>\n",
              "      <td>kaue.wience@escola.pr.gov.br</td>\n",
              "      <td>REGULAR</td>\n",
              "      <td>15849</td>\n",
              "      <td>1662234</td>\n",
              "      <td>176</td>\n",
              "      <td>176</td>\n",
              "      <td>673.0</td>\n",
              "    </tr>\n",
              "    <tr>\n",
              "      <th>4</th>\n",
              "      <td>2021-10-18</td>\n",
              "      <td>2021-10-23</td>\n",
              "      <td>576670</td>\n",
              "      <td>lucas.wudarski@escola.pr.gov.br</td>\n",
              "      <td>REGULAR</td>\n",
              "      <td>14662</td>\n",
              "      <td>11413611</td>\n",
              "      <td>179</td>\n",
              "      <td>174</td>\n",
              "      <td>678.0</td>\n",
              "    </tr>\n",
              "  </tbody>\n",
              "</table>\n",
              "</div>"
            ],
            "text/plain": [
              "         data data de último acesso  ...  atividadesCorretas atividadesGerais\n",
              "0  2021-10-18            2021-10-22  ...                 209            839.0\n",
              "1  2021-10-18            2021-10-23  ...                 195            721.0\n",
              "2  2021-10-18            2021-10-22  ...                 177            673.0\n",
              "3  2021-10-18            2021-10-20  ...                 176            673.0\n",
              "4  2021-10-18            2021-10-23  ...                 174            678.0\n",
              "\n",
              "[5 rows x 10 columns]"
            ]
          },
          "metadata": {},
          "execution_count": 4
        }
      ]
    },
    {
      "cell_type": "code",
      "metadata": {
        "id": "zmNjwJramsj2"
      },
      "source": [
        "dados27 = dados27.drop(columns=['email','cargo','teamId'])"
      ],
      "execution_count": 5,
      "outputs": []
    },
    {
      "cell_type": "code",
      "metadata": {
        "colab": {
          "base_uri": "https://localhost:8080/",
          "height": 203
        },
        "id": "vHib-pZrm10I",
        "outputId": "77e8ebe4-ed10-4a0d-c74f-fb6e0b8ede12"
      },
      "source": [
        "dados27.head()"
      ],
      "execution_count": 7,
      "outputs": [
        {
          "output_type": "execute_result",
          "data": {
            "text/html": [
              "<div>\n",
              "<style scoped>\n",
              "    .dataframe tbody tr th:only-of-type {\n",
              "        vertical-align: middle;\n",
              "    }\n",
              "\n",
              "    .dataframe tbody tr th {\n",
              "        vertical-align: top;\n",
              "    }\n",
              "\n",
              "    .dataframe thead th {\n",
              "        text-align: right;\n",
              "    }\n",
              "</style>\n",
              "<table border=\"1\" class=\"dataframe\">\n",
              "  <thead>\n",
              "    <tr style=\"text-align: right;\">\n",
              "      <th></th>\n",
              "      <th>data</th>\n",
              "      <th>data de último acesso</th>\n",
              "      <th>id</th>\n",
              "      <th>turmaTrilha</th>\n",
              "      <th>atividadesFeitas</th>\n",
              "      <th>atividadesCorretas</th>\n",
              "      <th>atividadesGerais</th>\n",
              "    </tr>\n",
              "  </thead>\n",
              "  <tbody>\n",
              "    <tr>\n",
              "      <th>0</th>\n",
              "      <td>2021-10-18</td>\n",
              "      <td>2021-10-22</td>\n",
              "      <td>730078</td>\n",
              "      <td>1665416</td>\n",
              "      <td>211</td>\n",
              "      <td>209</td>\n",
              "      <td>839.0</td>\n",
              "    </tr>\n",
              "    <tr>\n",
              "      <th>1</th>\n",
              "      <td>2021-10-18</td>\n",
              "      <td>2021-10-23</td>\n",
              "      <td>566984</td>\n",
              "      <td>11400611</td>\n",
              "      <td>200</td>\n",
              "      <td>195</td>\n",
              "      <td>721.0</td>\n",
              "    </tr>\n",
              "    <tr>\n",
              "      <th>2</th>\n",
              "      <td>2021-10-18</td>\n",
              "      <td>2021-10-22</td>\n",
              "      <td>575024</td>\n",
              "      <td>11411811</td>\n",
              "      <td>179</td>\n",
              "      <td>177</td>\n",
              "      <td>673.0</td>\n",
              "    </tr>\n",
              "    <tr>\n",
              "      <th>3</th>\n",
              "      <td>2021-10-18</td>\n",
              "      <td>2021-10-20</td>\n",
              "      <td>835325</td>\n",
              "      <td>1662234</td>\n",
              "      <td>176</td>\n",
              "      <td>176</td>\n",
              "      <td>673.0</td>\n",
              "    </tr>\n",
              "    <tr>\n",
              "      <th>4</th>\n",
              "      <td>2021-10-18</td>\n",
              "      <td>2021-10-23</td>\n",
              "      <td>576670</td>\n",
              "      <td>11413611</td>\n",
              "      <td>179</td>\n",
              "      <td>174</td>\n",
              "      <td>678.0</td>\n",
              "    </tr>\n",
              "  </tbody>\n",
              "</table>\n",
              "</div>"
            ],
            "text/plain": [
              "         data data de último acesso  ...  atividadesCorretas atividadesGerais\n",
              "0  2021-10-18            2021-10-22  ...                 209            839.0\n",
              "1  2021-10-18            2021-10-23  ...                 195            721.0\n",
              "2  2021-10-18            2021-10-22  ...                 177            673.0\n",
              "3  2021-10-18            2021-10-20  ...                 176            673.0\n",
              "4  2021-10-18            2021-10-23  ...                 174            678.0\n",
              "\n",
              "[5 rows x 7 columns]"
            ]
          },
          "metadata": {},
          "execution_count": 7
        }
      ]
    },
    {
      "cell_type": "code",
      "metadata": {
        "id": "e_z6WoIvm3Xc"
      },
      "source": [
        "dados27.to_csv('dados27.csv', index=False, encoding='UTF-8')"
      ],
      "execution_count": 15,
      "outputs": []
    },
    {
      "cell_type": "code",
      "metadata": {
        "id": "HVj55TtMnHRL"
      },
      "source": [
        ""
      ],
      "execution_count": null,
      "outputs": []
    }
  ]
}